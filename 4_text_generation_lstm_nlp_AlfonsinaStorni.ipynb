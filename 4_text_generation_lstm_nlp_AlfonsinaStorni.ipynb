{
  "nbformat": 4,
  "nbformat_minor": 0,
  "metadata": {
    "colab": {
      "provenance": [],
      "gpuType": "T4",
      "authorship_tag": "ABX9TyP/SoBvVSqIZByAve2G/N8R",
      "include_colab_link": true
    },
    "kernelspec": {
      "name": "python3",
      "display_name": "Python 3"
    },
    "language_info": {
      "name": "python"
    },
    "accelerator": "GPU"
  },
  "cells": [
    {
      "cell_type": "markdown",
      "metadata": {
        "id": "view-in-github",
        "colab_type": "text"
      },
      "source": [
        "<a href=\"https://colab.research.google.com/github/anadiedrichs/2023-nlp-tps/blob/main/4_text_generation_lstm_nlp_AlfonsinaStorni.ipynb\" target=\"_parent\"><img src=\"https://colab.research.google.com/assets/colab-badge.svg\" alt=\"Open In Colab\"/></a>"
      ]
    },
    {
      "cell_type": "code",
      "execution_count": 14,
      "metadata": {
        "id": "Bp42OScR4VQB"
      },
      "outputs": [],
      "source": [
        "# Cargamos las librerias para generar modelos LSTM\n",
        "import sys\n",
        "import numpy as np\n",
        "from keras.models import Sequential\n",
        "from keras.layers import Dense\n",
        "from keras.layers import Dropout\n",
        "from keras.layers import LSTM\n",
        "from keras.callbacks import ModelCheckpoint\n",
        "from keras.utils import to_categorical"
      ]
    },
    {
      "cell_type": "markdown",
      "source": [],
      "metadata": {
        "id": "5zb5-cAz4XLB"
      }
    },
    {
      "cell_type": "code",
      "source": [
        "!wget https://www.dropbox.com/scl/fi/xiac9gr5mcpgz4hckl0w8/antologia-alfonsina-storni.txt?rlkey=0f6ryz575grttiz3sp7ein9l9&dl=1\n",
        "!ls -la"
      ],
      "metadata": {
        "colab": {
          "base_uri": "https://localhost:8080/"
        },
        "id": "aBSSAGOc4x9B",
        "outputId": "36d7a03d-76f8-4e12-8300-97d1da0e96a9"
      },
      "execution_count": 15,
      "outputs": [
        {
          "output_type": "stream",
          "name": "stdout",
          "text": [
            "--2023-08-28 14:44:22--  https://www.dropbox.com/scl/fi/xiac9gr5mcpgz4hckl0w8/antologia-alfonsina-storni.txt?rlkey=0f6ryz575grttiz3sp7ein9l9\n",
            "Resolving www.dropbox.com (www.dropbox.com)... 162.125.3.18, 2620:100:601d:18::a27d:512\n",
            "Connecting to www.dropbox.com (www.dropbox.com)|162.125.3.18|:443... connected.\n",
            "HTTP request sent, awaiting response... 302 Found\n",
            "Location: https://www.dropbox.com/e/scl/fi/xiac9gr5mcpgz4hckl0w8/antologia-alfonsina-storni.txt?rlkey=0f6ryz575grttiz3sp7ein9l9 [following]\n",
            "--2023-08-28 14:44:22--  https://www.dropbox.com/e/scl/fi/xiac9gr5mcpgz4hckl0w8/antologia-alfonsina-storni.txt?rlkey=0f6ryz575grttiz3sp7ein9l9\n",
            "Reusing existing connection to www.dropbox.com:443.\n",
            "HTTP request sent, awaiting response... 302 Found\n",
            "Location: https://uc95635c6d4b43474d621344e168.dl.dropboxusercontent.com/cd/0/inline/CCrGHv0YZXbwBLy53zpYJlx0FADYAyig5-UabIeQkCWXjMkP5TZ30XG4OJAnQuWRff8AR5xw6tBqPGQi7rqRNTz2cH5SuEq89l5LMkiVOIozxhjuDcWo_1Lcn1M682lxwmY/file# [following]\n",
            "--2023-08-28 14:44:23--  https://uc95635c6d4b43474d621344e168.dl.dropboxusercontent.com/cd/0/inline/CCrGHv0YZXbwBLy53zpYJlx0FADYAyig5-UabIeQkCWXjMkP5TZ30XG4OJAnQuWRff8AR5xw6tBqPGQi7rqRNTz2cH5SuEq89l5LMkiVOIozxhjuDcWo_1Lcn1M682lxwmY/file\n",
            "Resolving uc95635c6d4b43474d621344e168.dl.dropboxusercontent.com (uc95635c6d4b43474d621344e168.dl.dropboxusercontent.com)... 162.125.3.15, 2620:100:6018:15::a27d:30f\n",
            "Connecting to uc95635c6d4b43474d621344e168.dl.dropboxusercontent.com (uc95635c6d4b43474d621344e168.dl.dropboxusercontent.com)|162.125.3.15|:443... connected.\n",
            "HTTP request sent, awaiting response... 200 OK\n",
            "Length: 172859 (169K) [text/plain]\n",
            "Saving to: ‘antologia-alfonsina-storni.txt?rlkey=0f6ryz575grttiz3sp7ein9l9.1’\n",
            "\n",
            "antologia-alfonsina 100%[===================>] 168.81K  --.-KB/s    in 0.03s   \n",
            "\n",
            "2023-08-28 14:44:23 (4.97 MB/s) - ‘antologia-alfonsina-storni.txt?rlkey=0f6ryz575grttiz3sp7ein9l9.1’ saved [172859/172859]\n",
            "\n",
            "total 95412\n",
            "drwxr-xr-x 1 root root    4096 Aug 28 14:44  .\n",
            "drwxr-xr-x 1 root root    4096 Aug 28 14:19  ..\n",
            "-rw-r--r-- 1 root root  172859 Aug 28 14:21  alfonsina.txt\n",
            "-rw-r--r-- 1 root root  172859 Aug 28 14:21 'antologia-alfonsina-storni.txt?rlkey=0f6ryz575grttiz3sp7ein9l9'\n",
            "-rw-r--r-- 1 root root  172859 Aug 28 14:44 'antologia-alfonsina-storni.txt?rlkey=0f6ryz575grttiz3sp7ein9l9.1'\n",
            "drwxr-xr-x 4 root root    4096 Aug 24 21:24  .config\n",
            "drwxr-xr-x 1 root root    4096 Aug 24 21:25  sample_data\n",
            "-rw-r--r-- 1 root root 9713840 Aug 28 14:24  weights-improvement-01-2.7786-bigger.hdf5\n",
            "-rw-r--r-- 1 root root 9713840 Aug 28 14:25  weights-improvement-02-2.5485-bigger.hdf5\n",
            "-rw-r--r-- 1 root root 9713840 Aug 28 14:26  weights-improvement-03-2.4570-bigger.hdf5\n",
            "-rw-r--r-- 1 root root 9713840 Aug 28 14:27  weights-improvement-04-2.3853-bigger.hdf5\n",
            "-rw-r--r-- 1 root root 9713840 Aug 28 14:28  weights-improvement-05-2.3222-bigger.hdf5\n",
            "-rw-r--r-- 1 root root 9713840 Aug 28 14:29  weights-improvement-06-2.2662-bigger.hdf5\n",
            "-rw-r--r-- 1 root root 9713840 Aug 28 14:29  weights-improvement-07-2.2093-bigger.hdf5\n",
            "-rw-r--r-- 1 root root 9713840 Aug 28 14:30  weights-improvement-08-2.1607-bigger.hdf5\n",
            "-rw-r--r-- 1 root root 9713840 Aug 28 14:31  weights-improvement-09-2.1139-bigger.hdf5\n",
            "-rw-r--r-- 1 root root 9713840 Aug 28 14:32  weights-improvement-10-2.0700-bigger.hdf5\n"
          ]
        }
      ]
    },
    {
      "cell_type": "code",
      "source": [
        "! cat 'antologia-alfonsina-storni.txt?rlkey=0f6ryz575grttiz3sp7ein9l9' > alfonsina.txt"
      ],
      "metadata": {
        "id": "ts4ltzab7SI1"
      },
      "execution_count": 16,
      "outputs": []
    },
    {
      "cell_type": "code",
      "source": [
        "!ls -la"
      ],
      "metadata": {
        "colab": {
          "base_uri": "https://localhost:8080/"
        },
        "id": "Gl9bDgX97WYV",
        "outputId": "1c690176-3f83-4844-cabf-2897d33f338c"
      },
      "execution_count": 17,
      "outputs": [
        {
          "output_type": "stream",
          "name": "stdout",
          "text": [
            "total 95412\n",
            "drwxr-xr-x 1 root root    4096 Aug 28 14:44  .\n",
            "drwxr-xr-x 1 root root    4096 Aug 28 14:19  ..\n",
            "-rw-r--r-- 1 root root  172859 Aug 28 14:44  alfonsina.txt\n",
            "-rw-r--r-- 1 root root  172859 Aug 28 14:21 'antologia-alfonsina-storni.txt?rlkey=0f6ryz575grttiz3sp7ein9l9'\n",
            "-rw-r--r-- 1 root root  172859 Aug 28 14:44 'antologia-alfonsina-storni.txt?rlkey=0f6ryz575grttiz3sp7ein9l9.1'\n",
            "drwxr-xr-x 4 root root    4096 Aug 24 21:24  .config\n",
            "drwxr-xr-x 1 root root    4096 Aug 24 21:25  sample_data\n",
            "-rw-r--r-- 1 root root 9713840 Aug 28 14:24  weights-improvement-01-2.7786-bigger.hdf5\n",
            "-rw-r--r-- 1 root root 9713840 Aug 28 14:25  weights-improvement-02-2.5485-bigger.hdf5\n",
            "-rw-r--r-- 1 root root 9713840 Aug 28 14:26  weights-improvement-03-2.4570-bigger.hdf5\n",
            "-rw-r--r-- 1 root root 9713840 Aug 28 14:27  weights-improvement-04-2.3853-bigger.hdf5\n",
            "-rw-r--r-- 1 root root 9713840 Aug 28 14:28  weights-improvement-05-2.3222-bigger.hdf5\n",
            "-rw-r--r-- 1 root root 9713840 Aug 28 14:29  weights-improvement-06-2.2662-bigger.hdf5\n",
            "-rw-r--r-- 1 root root 9713840 Aug 28 14:29  weights-improvement-07-2.2093-bigger.hdf5\n",
            "-rw-r--r-- 1 root root 9713840 Aug 28 14:30  weights-improvement-08-2.1607-bigger.hdf5\n",
            "-rw-r--r-- 1 root root 9713840 Aug 28 14:31  weights-improvement-09-2.1139-bigger.hdf5\n",
            "-rw-r--r-- 1 root root 9713840 Aug 28 14:32  weights-improvement-10-2.0700-bigger.hdf5\n"
          ]
        }
      ]
    },
    {
      "cell_type": "code",
      "source": [
        "# cargar texto plano y convertir a UTF-8 para normalizar\n",
        "filename = \"alfonsina.txt\"\n",
        "raw_text = open(filename, 'r', encoding='utf-8').read()\n",
        "raw_text = raw_text.lower()\n"
      ],
      "metadata": {
        "id": "TT2i69Ww4WaL"
      },
      "execution_count": 18,
      "outputs": []
    },
    {
      "cell_type": "code",
      "source": [
        "# Crear un mapeo de caracteres a nros enteros\n",
        "chars = sorted(list(set(raw_text)))\n",
        "char_to_int = dict((c, i) for i, c in enumerate(chars))\n",
        "int_to_char = dict((i, c) for i, c in enumerate(chars))\n"
      ],
      "metadata": {
        "id": "9cudUEqI5Wmr"
      },
      "execution_count": 19,
      "outputs": []
    },
    {
      "cell_type": "code",
      "source": [
        "# Resumen de los datos cargados\n",
        "n_chars = len(raw_text)\n",
        "n_vocab = len(chars)\n",
        "print(\"Nro de caracteres: \", n_chars)\n",
        "print(\"Total vocablos: \", n_vocab)"
      ],
      "metadata": {
        "colab": {
          "base_uri": "https://localhost:8080/"
        },
        "id": "tPEc4h6L4Wdt",
        "outputId": "392628ae-6e2b-4948-ff6e-55aeab06b47a"
      },
      "execution_count": 20,
      "outputs": [
        {
          "output_type": "stream",
          "name": "stdout",
          "text": [
            "Nro de caracteres:  169327\n",
            "Total vocablos:  63\n"
          ]
        }
      ]
    },
    {
      "cell_type": "code",
      "source": [
        "# Prepara un conjunto de datos con pares de entrada / salida o [input / output] codificada como enteros\n",
        "seq_length = 100\n",
        "dataX = []\n",
        "dataY = []\n",
        "for i in range(0, n_chars - seq_length, 1):\n",
        "\tseq_in = raw_text[i:i + seq_length]\n",
        "\tseq_out = raw_text[i + seq_length]\n",
        "\tdataX.append([char_to_int[char] for char in seq_in])\n",
        "\tdataY.append(char_to_int[seq_out])\n",
        "n_patterns = len(dataX)\n",
        "print(\"Total de patrones o tamaño del dataset: \", n_patterns)"
      ],
      "metadata": {
        "colab": {
          "base_uri": "https://localhost:8080/"
        },
        "id": "C2Q6rCFk4Whe",
        "outputId": "2c177d1b-ffd2-4c6e-a99e-1be9a6478207"
      },
      "execution_count": 21,
      "outputs": [
        {
          "output_type": "stream",
          "name": "stdout",
          "text": [
            "Total de patrones o tamaño del dataset:  169227\n"
          ]
        }
      ]
    },
    {
      "cell_type": "code",
      "source": [
        "# reshape X para armar el dataset [samples, time steps, features]\n",
        "X = np.reshape(dataX, (n_patterns, seq_length, 1))\n",
        "# normalizar\n",
        "X = X / float(n_vocab)\n",
        "# one hot encode la variable de salida\n",
        "y = to_categorical(dataY)\n",
        "# el modelo:\n",
        "model = Sequential()\n",
        "model.add(LSTM(256, input_shape=(X.shape[1], X.shape[2]), return_sequences=True))\n",
        "model.add(Dropout(0.2))\n",
        "model.add(LSTM(256))\n",
        "model.add(Dropout(0.2))\n",
        "model.add(Dense(y.shape[1], activation='softmax'))\n",
        "model.compile(loss='categorical_crossentropy', optimizer='adam')\n",
        "# guardar un checkpoint, el modelo luego de cada epoch, por las dudas\n",
        "filepath = \"weights-improvement-{epoch:02d}-{loss:.4f}-bigger.hdf5\"\n",
        "checkpoint = ModelCheckpoint(filepath, monitor='loss', verbose=1, save_best_only=True, mode='min')\n",
        "callbacks_list = [checkpoint]\n",
        "# entrenamiento del modleo\n",
        "history = model.fit(X, y, epochs=10, batch_size=64, callbacks=callbacks_list)"
      ],
      "metadata": {
        "colab": {
          "base_uri": "https://localhost:8080/"
        },
        "id": "c_axzVNw5h_e",
        "outputId": "fa30d93b-1e60-4332-834e-846d88a4a504"
      },
      "execution_count": 22,
      "outputs": [
        {
          "output_type": "stream",
          "name": "stdout",
          "text": [
            "Epoch 1/10\n",
            "2643/2645 [============================>.] - ETA: 0s - loss: 2.7413\n",
            "Epoch 1: loss improved from inf to 2.74125, saving model to weights-improvement-01-2.7413-bigger.hdf5\n",
            "2645/2645 [==============================] - 55s 19ms/step - loss: 2.7413\n",
            "Epoch 2/10\n",
            "2643/2645 [============================>.] - ETA: 0s - loss: 2.5237\n",
            "Epoch 2: loss improved from 2.74125 to 2.52370, saving model to weights-improvement-02-2.5237-bigger.hdf5\n",
            "2645/2645 [==============================] - 53s 20ms/step - loss: 2.5237\n",
            "Epoch 3/10\n",
            "2643/2645 [============================>.] - ETA: 0s - loss: 2.4131\n",
            "Epoch 3: loss improved from 2.52370 to 2.41301, saving model to weights-improvement-03-2.4130-bigger.hdf5\n",
            "2645/2645 [==============================] - 50s 19ms/step - loss: 2.4130\n",
            "Epoch 4/10\n",
            "2643/2645 [============================>.] - ETA: 0s - loss: 2.3304\n",
            "Epoch 4: loss improved from 2.41301 to 2.33033, saving model to weights-improvement-04-2.3303-bigger.hdf5\n",
            "2645/2645 [==============================] - 51s 19ms/step - loss: 2.3303\n",
            "Epoch 5/10\n",
            "2645/2645 [==============================] - ETA: 0s - loss: 2.2550\n",
            "Epoch 5: loss improved from 2.33033 to 2.25503, saving model to weights-improvement-05-2.2550-bigger.hdf5\n",
            "2645/2645 [==============================] - 51s 19ms/step - loss: 2.2550\n",
            "Epoch 6/10\n",
            "2645/2645 [==============================] - ETA: 0s - loss: 2.1917\n",
            "Epoch 6: loss improved from 2.25503 to 2.19165, saving model to weights-improvement-06-2.1917-bigger.hdf5\n",
            "2645/2645 [==============================] - 51s 19ms/step - loss: 2.1917\n",
            "Epoch 7/10\n",
            "2645/2645 [==============================] - ETA: 0s - loss: 2.1340\n",
            "Epoch 7: loss improved from 2.19165 to 2.13400, saving model to weights-improvement-07-2.1340-bigger.hdf5\n",
            "2645/2645 [==============================] - 51s 19ms/step - loss: 2.1340\n",
            "Epoch 8/10\n",
            "2645/2645 [==============================] - ETA: 0s - loss: 2.0830\n",
            "Epoch 8: loss improved from 2.13400 to 2.08301, saving model to weights-improvement-08-2.0830-bigger.hdf5\n",
            "2645/2645 [==============================] - 50s 19ms/step - loss: 2.0830\n",
            "Epoch 9/10\n",
            "2643/2645 [============================>.] - ETA: 0s - loss: 2.0409\n",
            "Epoch 9: loss improved from 2.08301 to 2.04083, saving model to weights-improvement-09-2.0408-bigger.hdf5\n",
            "2645/2645 [==============================] - 51s 19ms/step - loss: 2.0408\n",
            "Epoch 10/10\n",
            "2643/2645 [============================>.] - ETA: 0s - loss: 1.9956\n",
            "Epoch 10: loss improved from 2.04083 to 1.99553, saving model to weights-improvement-10-1.9955-bigger.hdf5\n",
            "2645/2645 [==============================] - 51s 19ms/step - loss: 1.9955\n"
          ]
        }
      ]
    },
    {
      "cell_type": "markdown",
      "source": [
        "Graficamos las métricas de entrenamiento del modelo"
      ],
      "metadata": {
        "id": "5Rvh1BoIl06c"
      }
    },
    {
      "cell_type": "code",
      "source": [
        "print(history.history.keys())"
      ],
      "metadata": {
        "colab": {
          "base_uri": "https://localhost:8080/"
        },
        "id": "yFrGKsmGl0b0",
        "outputId": "4b97f192-b625-4ccb-f431-3cc3e01c81d4"
      },
      "execution_count": 23,
      "outputs": [
        {
          "output_type": "stream",
          "name": "stdout",
          "text": [
            "dict_keys(['loss'])\n"
          ]
        }
      ]
    },
    {
      "cell_type": "code",
      "source": [
        "import matplotlib.pyplot as plt\n",
        "# summarize history for loss\n",
        "plt.plot(history.history['loss'])\n",
        "plt.title('model loss')\n",
        "plt.ylabel('loss')\n",
        "plt.xlabel('epoch')\n",
        "plt.legend(['train', 'test'], loc='upper left')\n",
        "plt.show()"
      ],
      "metadata": {
        "colab": {
          "base_uri": "https://localhost:8080/",
          "height": 472
        },
        "id": "QReF69JvmuSa",
        "outputId": "fbe82108-113e-4c0a-9dd7-d708539e5dc9"
      },
      "execution_count": 25,
      "outputs": [
        {
          "output_type": "display_data",
          "data": {
            "text/plain": [
              "<Figure size 640x480 with 1 Axes>"
            ],
            "image/png": "[encoded data removed]"
          },
          "metadata": {}
        }
      ]
    },
    {
      "cell_type": "code",
      "source": [
        "# random seed\n",
        "start = np.random.randint(0, len(dataX)-1)\n",
        "pattern = dataX[start]\n",
        "\n",
        "print(\"[INICIO DE LA GENERACION de texto, caracter por caracter].\")\n",
        "print(\"Semilla o texto inicial:\")\n",
        "print(\"\\\"\", ''.join([int_to_char[value] for value in pattern]), \"\\\"\")\n",
        "# generate characters\n",
        "for i in range(100):\n",
        "\tx = np.reshape(pattern, (1, len(pattern), 1))\n",
        "\tx = x / float(n_vocab)\n",
        "\tprediction = model.predict(x, verbose=0)\n",
        "\tindex = np.argmax(prediction)\n",
        "\tresult = int_to_char[index]\n",
        "\tseq_in = [int_to_char[value] for value in pattern]\n",
        "\tsys.stdout.write(result)\n",
        "\tpattern.append(index)\n",
        "\tpattern = pattern[1:len(pattern)]\n",
        "print(\"[GENERACION TERMINADA].\")"
      ],
      "metadata": {
        "colab": {
          "base_uri": "https://localhost:8080/"
        },
        "id": "38EF5ICJ5n58",
        "outputId": "1a757eaa-7440-42fe-c63d-137ac7cdb5cd"
      },
      "execution_count": 26,
      "outputs": [
        {
          "output_type": "stream",
          "name": "stdout",
          "text": [
            "[INICIO DE LA GENERACION de texto, caracter por caracter].\n",
            "Semilla o texto inicial:\n",
            "\" ndes y no miras;\n",
            "\n",
            "pero entiendes y miras, y le sueltas\n",
            "\n",
            "con mucho disimulo,\n",
            "\n",
            "como quien no quisiera, \"\n",
            "\n",
            "\n",
            "\n",
            "\n",
            "\n",
            "\n",
            "el cielo\n",
            "\n",
            "\n",
            "en el corazón de la cabeza\n",
            "\n",
            "de la cabeza \n",
            "de la cabeza\n",
            "\n",
            "de la cabeza\n",
            "\n",
            "de la cabeza\n",
            "[GENERACION TERMINADA].\n"
          ]
        }
      ]
    },
    {
      "cell_type": "markdown",
      "source": [
        "**CONCLUSIONES**\n",
        "\n",
        "\n",
        "Para mejorar el modelo podría probarse:\n",
        "\n",
        "* Preprocesar mejor el texto, quitando los sucesivos espacios en blanco y caracteres especiales o símbolos extras de puntuación (<< o dobles llaves)\n",
        "\n",
        "* Probar utilizar one-hot encoding para las secuencias de entrada.\n",
        "\n",
        "* Entrenar un modelo con oraciones completas en lugar de secuencias aleatorias de caracteres.\n",
        "\n",
        "* Entrenar por más épocas\n",
        "\n",
        "* Cambie las capas de LSTM para que tengan \"estado\" (statefull) para mantener el estado en todos los lotes"
      ],
      "metadata": {
        "id": "biM4l2N6pS9H"
      }
    }
  ]
}
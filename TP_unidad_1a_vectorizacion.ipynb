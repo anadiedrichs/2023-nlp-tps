{
  "cells": [
    {
      "cell_type": "markdown",
      "metadata": {
        "id": "view-in-github",
        "colab_type": "text"
      },
      "source": [
        "<a href=\"https://colab.research.google.com/github/anadiedrichs/2023-nlp-tps/blob/main/TP_unidad_1a_vectorizacion.ipynb\" target=\"_parent\"><img src=\"https://colab.research.google.com/assets/colab-badge.svg\" alt=\"Open In Colab\"/></a>"
      ]
    },
    {
      "cell_type": "markdown",
      "metadata": {
        "id": "Ue5hxxkdAQJg"
      },
      "source": [
        "<img src=\"https://github.com/FIUBA-Posgrado-Inteligencia-Artificial/procesamiento_lenguaje_natural/raw/main/logoFIUBA.jpg\" width=\"500\" align=\"center\">\n",
        "\n",
        "\n",
        "# Procesamiento de lenguaje natural\n",
        "## Vectorización\n"
      ]
    },
    {
      "cell_type": "code",
      "execution_count": null,
      "metadata": {
        "id": "kCED1hh-Ioyf"
      },
      "outputs": [],
      "source": [
        "import numpy as np"
      ]
    },
    {
      "cell_type": "code",
      "execution_count": null,
      "metadata": {
        "id": "PUbfVnzIIoMj"
      },
      "outputs": [],
      "source": [
        "def cosine_similarity(a, b):\n",
        "    return np.dot(a, b) / (np.linalg.norm(a) * (np.linalg.norm(b)))"
      ]
    },
    {
      "cell_type": "markdown",
      "metadata": {
        "id": "DMOa4JPSCJ29"
      },
      "source": [
        "### Datos"
      ]
    },
    {
      "cell_type": "code",
      "execution_count": null,
      "metadata": {
        "id": "RIO7b8GjAC17"
      },
      "outputs": [],
      "source": [
        "corpus = np.array(['que dia es hoy', 'martes el dia de hoy es martes', 'martes muchas gracias'])"
      ]
    },
    {
      "cell_type": "markdown",
      "metadata": {
        "id": "8WqdaTmO8P1r"
      },
      "source": [
        "Documento 1 --> que dia es hoy \\\n",
        "Documento 2 --> martes el dia de hoy es martes \\\n",
        "Documento 3 --> martes muchas gracias"
      ]
    },
    {
      "cell_type": "markdown",
      "metadata": {
        "id": "FVHxBRNzCMOS"
      },
      "source": [
        "### 1 - Obtener el vocabulario del corpus (los términos utilizados)\n",
        "- Cada documento transformarlo en una lista de términos\n",
        "- Armar un vector de términos no repetidos de todos los documentos"
      ]
    },
    {
      "cell_type": "code",
      "execution_count": null,
      "metadata": {
        "id": "3ZqTOZzDI7uv",
        "colab": {
          "base_uri": "https://localhost:8080/"
        },
        "outputId": "912d2316-24ec-425c-ef44-4f0c67939164"
      },
      "outputs": [
        {
          "output_type": "execute_result",
          "data": {
            "text/plain": [
              "array([list(['que', 'dia', 'es', 'hoy']),\n",
              "       list(['martes', 'el', 'dia', 'de', 'hoy', 'es', 'martes']),\n",
              "       list(['martes', 'muchas', 'gracias'])], dtype=object)"
            ]
          },
          "metadata": {},
          "execution_count": 37
        }
      ],
      "source": [
        "documentos = np.char.split(corpus)\n",
        "documentos"
      ]
    },
    {
      "cell_type": "code",
      "source": [
        "np.isin(documentos[0][0],documentos[0])"
      ],
      "metadata": {
        "colab": {
          "base_uri": "https://localhost:8080/"
        },
        "id": "T0GD_Xle81hR",
        "outputId": "e356b1e1-3c14-4012-e5a4-8652641cf20f"
      },
      "execution_count": null,
      "outputs": [
        {
          "output_type": "execute_result",
          "data": {
            "text/plain": [
              "array(True)"
            ]
          },
          "metadata": {},
          "execution_count": 16
        }
      ]
    },
    {
      "cell_type": "code",
      "source": [
        "tokens = []\n",
        "\n",
        "for doc in documentos:\n",
        "  for word in doc:\n",
        "    if np.isin(word,tokens) == False:\n",
        "      tokens = np.append(tokens,word)\n",
        "      #print(word)\n",
        "\n",
        "print(tokens)"
      ],
      "metadata": {
        "colab": {
          "base_uri": "https://localhost:8080/"
        },
        "id": "IAKCtS1Z8YL-",
        "outputId": "fc855117-c004-4052-cf3b-c922c2692fe0"
      },
      "execution_count": null,
      "outputs": [
        {
          "output_type": "stream",
          "name": "stdout",
          "text": [
            "['que' 'dia' 'es' 'hoy' 'martes' 'el' 'de' 'muchas' 'gracias']\n"
          ]
        }
      ]
    },
    {
      "cell_type": "markdown",
      "metadata": {
        "id": "RUhH983FI7It"
      },
      "source": [
        "### 2- OneHot encoding\n",
        "Data una lista de textos, devolver una matriz con la representación oneHotEncoding de estos"
      ]
    },
    {
      "cell_type": "code",
      "execution_count": null,
      "metadata": {
        "id": "Os0AAQo6I6Z1",
        "colab": {
          "base_uri": "https://localhost:8080/"
        },
        "outputId": "1e0c473b-1b29-4d45-8287-0d6cd6e24499"
      },
      "outputs": [
        {
          "output_type": "execute_result",
          "data": {
            "text/plain": [
              "array([[0, 0, 0, 0, 0, 0, 0, 0, 0],\n",
              "       [0, 0, 0, 0, 0, 0, 0, 0, 0],\n",
              "       [0, 0, 0, 0, 0, 0, 0, 0, 0]], dtype=uint8)"
            ]
          },
          "metadata": {},
          "execution_count": 43
        }
      ],
      "source": [
        "n_tokens = len(tokens)\n",
        "n_doc = documentos.size\n",
        "\n",
        "matriz = np.zeros((n_doc,n_tokens),dtype = np.uint8)\n",
        "matriz"
      ]
    },
    {
      "cell_type": "code",
      "source": [
        "fila = 0\n",
        "for doc in documentos:\n",
        "  #print(doc)\n",
        "  for word in doc:\n",
        "    #print(word)\n",
        "    if word in tokens:\n",
        "      i = tokens.tolist().index(word)\n",
        "      #print(i)\n",
        "      matriz[fila,i] = 1\n",
        "\n",
        "  fila = fila + 1\n",
        "\n",
        "print(matriz)"
      ],
      "metadata": {
        "colab": {
          "base_uri": "https://localhost:8080/"
        },
        "id": "DCBTuA8XFIMr",
        "outputId": "b7804a4b-1303-4dfc-eef0-d83b5e470026"
      },
      "execution_count": null,
      "outputs": [
        {
          "output_type": "stream",
          "name": "stdout",
          "text": [
            "[[1 1 1 1 0 0 0 0 0]\n",
            " [1 1 1 1 1 1 1 0 0]\n",
            " [1 1 1 0 1 0 0 1 1]]\n"
          ]
        }
      ]
    },
    {
      "cell_type": "code",
      "source": [
        "def one_hot_encoding(documento_list, tokens_list):\n",
        "\n",
        "  n_tokens = len(tokens_list)\n",
        "  n_doc = documento_list.size\n",
        "  matriz = np.zeros((n_doc,n_tokens),dtype = np.uint8)\n",
        "  fila = 0\n",
        "\n",
        "  for doc in documento_list:\n",
        "    #print(doc)\n",
        "    for word in doc:\n",
        "      #print(word)\n",
        "      if word in tokens_list:\n",
        "        i = tokens.tolist().index(word)\n",
        "        #print(i)\n",
        "        matriz[fila,i] = 1\n",
        "\n",
        "    fila = fila + 1\n",
        "\n",
        "  return matriz\n",
        "\n",
        "print(one_hot_encoding(documentos, tokens))\n"
      ],
      "metadata": {
        "colab": {
          "base_uri": "https://localhost:8080/"
        },
        "id": "rKc6sve-L65_",
        "outputId": "212703a8-44ea-4622-f10f-2c02e9cf9d8d"
      },
      "execution_count": null,
      "outputs": [
        {
          "output_type": "stream",
          "name": "stdout",
          "text": [
            "[[1 1 1 1 0 0 0 0 0]\n",
            " [0 1 1 1 1 1 1 0 0]\n",
            " [0 0 0 0 1 0 0 1 1]]\n"
          ]
        }
      ]
    },
    {
      "cell_type": "markdown",
      "metadata": {
        "id": "IIyWGmCpJVQL"
      },
      "source": [
        "### 3- Vectores de frecuencia\n",
        "Data una lista de textos, devolver una matriz con la representación de frecuencia de estos"
      ]
    },
    {
      "cell_type": "code",
      "execution_count": null,
      "metadata": {
        "id": "yqij_7eHJbUi",
        "colab": {
          "base_uri": "https://localhost:8080/"
        },
        "outputId": "a72558e3-ee22-4464-93be-cfbffe768c0c"
      },
      "outputs": [
        {
          "output_type": "execute_result",
          "data": {
            "text/plain": [
              "array([[0, 0, 0, 0, 0, 0, 0, 0, 0],\n",
              "       [0, 0, 0, 0, 0, 0, 0, 0, 0],\n",
              "       [0, 0, 0, 0, 0, 0, 0, 0, 0]], dtype=uint8)"
            ]
          },
          "metadata": {},
          "execution_count": 61
        }
      ],
      "source": [
        "n_tokens = len(tokens)\n",
        "n_doc = documentos.size\n",
        "\n",
        "frecuencias = np.zeros((n_doc,n_tokens),dtype = np.uint8)\n",
        "frecuencias\n"
      ]
    },
    {
      "cell_type": "code",
      "source": [
        "fila = 0\n",
        "for doc in documentos:\n",
        "  #print(doc)\n",
        "  for word in doc:\n",
        "    #print(word)\n",
        "    if word in tokens:\n",
        "      i = tokens.tolist().index(word)\n",
        "      #print(i)\n",
        "      frecuencias[fila,i]= frecuencias[fila,i]+1\n",
        "\n",
        "  fila = fila + 1\n",
        "\n",
        "print(frecuencias)"
      ],
      "metadata": {
        "colab": {
          "base_uri": "https://localhost:8080/"
        },
        "outputId": "e68c29ac-56e6-4d1e-e514-7b36acf984e8",
        "id": "7QoJun74Kdlw"
      },
      "execution_count": null,
      "outputs": [
        {
          "output_type": "stream",
          "name": "stdout",
          "text": [
            "[[1 1 1 1 0 0 0 0 0]\n",
            " [0 1 1 1 2 1 1 0 0]\n",
            " [0 0 0 0 1 0 0 1 1]]\n"
          ]
        }
      ]
    },
    {
      "cell_type": "code",
      "source": [
        "def frecuency_matrix(documento_list, tokens_list):\n",
        "  n_tokens = len(tokens_list)\n",
        "  n_doc = documento_list.size\n",
        "  frecuencias = np.zeros((n_doc,n_tokens),dtype = np.uint8)\n",
        "\n",
        "  fila = 0\n",
        "  for doc in documento_list:\n",
        "    #print(doc)\n",
        "    for word in doc:\n",
        "      #print(word)\n",
        "      if word in tokens_list:\n",
        "        i = tokens_list.tolist().index(word)\n",
        "        #print(i)\n",
        "        frecuencias[fila,i]= frecuencias[fila,i]+1\n",
        "\n",
        "    fila = fila + 1\n",
        "\n",
        "  return frecuencias\n",
        "\n",
        "print(frecuency_matrix(documentos, tokens))"
      ],
      "metadata": {
        "colab": {
          "base_uri": "https://localhost:8080/"
        },
        "id": "yd457y3nMop5",
        "outputId": "06739677-587a-42cd-cd02-adde0af69a17"
      },
      "execution_count": null,
      "outputs": [
        {
          "output_type": "stream",
          "name": "stdout",
          "text": [
            "[[1 1 1 1 0 0 0 0 0]\n",
            " [0 1 1 1 2 1 1 0 0]\n",
            " [0 0 0 0 1 0 0 1 1]]\n"
          ]
        }
      ]
    },
    {
      "cell_type": "markdown",
      "metadata": {
        "id": "z_Ot8HvWJcBu"
      },
      "source": [
        "### 4- TF-IDF\n",
        "Dada una lista de textos, devolver una matriz con la representacion TFIDF"
      ]
    },
    {
      "cell_type": "code",
      "execution_count": null,
      "metadata": {
        "id": "waG_oWtpJjRw",
        "colab": {
          "base_uri": "https://localhost:8080/"
        },
        "outputId": "7795c09a-9873-471d-e542-322d9492c56d"
      },
      "outputs": [
        {
          "output_type": "stream",
          "name": "stdout",
          "text": [
            "[0.47712125 0.17609126 0.17609126 0.17609126 0.         0.47712125\n",
            " 0.47712125 0.47712125 0.47712125]\n",
            "[[1 1 1 1 0 0 0 0 0]\n",
            " [0 1 1 1 2 1 1 0 0]\n",
            " [0 0 0 0 1 0 0 1 1]]\n"
          ]
        },
        {
          "output_type": "execute_result",
          "data": {
            "text/plain": [
              "array([[ 0.52287875,  0.82390874,  0.82390874,  0.82390874,  0.        ,\n",
              "        -0.47712125, -0.47712125, -0.47712125, -0.47712125],\n",
              "       [-0.47712125,  0.82390874,  0.82390874,  0.82390874,  2.        ,\n",
              "         0.52287875,  0.52287875, -0.47712125, -0.47712125],\n",
              "       [-0.47712125, -0.17609126, -0.17609126, -0.17609126,  1.        ,\n",
              "        -0.47712125, -0.47712125,  0.52287875,  0.52287875]])"
            ]
          },
          "metadata": {},
          "execution_count": 72
        }
      ],
      "source": [
        "# calcular IDF\n",
        "# Se obtiene como la división de la cantidad de documentos sobre la\n",
        "# suma en axis=0 (vertical) del OneHotEncoding.\n",
        "def inverse_document_frequency(documento_list, tokens_list):\n",
        "\n",
        "  n_doc = documento_list.size\n",
        "\n",
        "  Freq = frecuency_matrix(documento_list, tokens_list)\n",
        "\n",
        "  div = (n_doc * 1.0) / (np.sum(Freq,axis=0) * 1.0)\n",
        "\n",
        "  #print(div)\n",
        "\n",
        "  return np.log10(div)\n",
        "\n",
        "IDF = inverse_document_frequency(documentos, tokens)\n",
        "\n",
        "print(IDF )\n",
        "# calcular TF\n",
        "TF = frecuency_matrix(documentos, tokens)\n",
        "print(TF)\n",
        "# regresar TF-IDF\n",
        "\n",
        "def TF_IDF_function(documento_list, tokens_list):\n",
        "  return frecuency_matrix(documentos, tokens) - inverse_document_frequency(documentos, tokens)\n",
        "\n",
        "\n",
        "TF_IDF_function(documentos, tokens)\n",
        "\n"
      ]
    },
    {
      "cell_type": "markdown",
      "metadata": {
        "id": "xMcsfndWJjm_"
      },
      "source": [
        "### 5 - Comparación de documentos\n",
        "Realizar una funcion que reciba el corpus y el índice de un documento y devuelva los documentos ordenados por la similitud coseno"
      ]
    },
    {
      "cell_type": "code",
      "execution_count": null,
      "metadata": {
        "id": "CZdiop6IJpZN",
        "colab": {
          "base_uri": "https://localhost:8080/"
        },
        "outputId": "17ad6594-7bc1-4245-e19f-95ec3994b047"
      },
      "outputs": [
        {
          "output_type": "execute_result",
          "data": {
            "text/plain": [
              "array([[ 0.25141293,  0.13609784, -0.05686353],\n",
              "       [ 0.13609784,  0.5672549 ,  0.06202373],\n",
              "       [-0.05686353,  0.06202373,  0.18133217]])"
            ]
          },
          "metadata": {},
          "execution_count": 74
        }
      ],
      "source": [
        "# funcion ya brindada por los profes\n",
        "def cosine_similarity(a, b):\n",
        "    return np.dot(a, b) / (np.linalg.norm(a) * (np.linalg.norm(b)))\n",
        "\n",
        "def compute_cosine_similarity(documento_list, tokens_list):\n",
        "\n",
        "  # vectorizo los documentos\n",
        "  df = TF_IDF_function(documento_list, tokens_list)\n",
        "  # calculo la similitud del coseno\n",
        "  c = cosine_similarity(df,df.T)\n",
        "  # ordeno de mayor a menor similitud\n",
        "  # to be done\n",
        "\n",
        "  return c\n",
        "\n",
        "\n",
        "\n",
        "compute_cosine_similarity(documentos, tokens)"
      ]
    },
    {
      "cell_type": "markdown",
      "source": [
        "Consulta y referencia para explicación: https://studymachinelearning.com/cosine-similarity-text-similarity-metric/\n"
      ],
      "metadata": {
        "id": "XXCSw9RmUnbP"
      }
    }
  ],
  "metadata": {
    "colab": {
      "provenance": [],
      "include_colab_link": true
    },
    "kernelspec": {
      "display_name": "Python 3",
      "name": "python3"
    },
    "language_info": {
      "name": "python"
    }
  },
  "nbformat": 4,
  "nbformat_minor": 0
}
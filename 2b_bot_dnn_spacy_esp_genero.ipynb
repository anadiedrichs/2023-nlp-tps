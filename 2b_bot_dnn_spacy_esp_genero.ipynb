{
  "cells": [
    {
      "cell_type": "markdown",
      "metadata": {
        "id": "view-in-github",
        "colab_type": "text"
      },
      "source": [
        "<a href=\"https://colab.research.google.com/github/anadiedrichs/2023-nlp-tps/blob/main/2b_bot_dnn_spacy_esp_genero.ipynb\" target=\"_parent\"><img src=\"https://colab.research.google.com/assets/colab-badge.svg\" alt=\"Open In Colab\"/></a>"
      ]
    },
    {
      "cell_type": "markdown",
      "metadata": {
        "id": "NV8wZ0MTKjv_"
      },
      "source": [
        "<img src=\"https://github.com/hernancontigiani/ceia_memorias_especializacion/raw/master/Figures/logoFIUBA.jpg\" width=\"500\" align=\"center\">\n",
        "\n",
        "\n",
        "# Procesamiento de lenguaje natural\n",
        "## Bot de consulta abierta y respuestas predeterminadas con DNN + Spacy"
      ]
    },
    {
      "cell_type": "markdown",
      "metadata": {
        "id": "Z_9z3H-yKrcK"
      },
      "source": [
        "#### Datos\n",
        "Este ejemplo se inspiró en otro Bot en inglés creado con NLTK, lo tienen como referencia para hacer lo mismo en inglés:\\\n",
        "[LINK](https://towardsdatascience.com/a-simple-chatbot-in-python-with-deep-learning-3e8669997758)"
      ]
    },
    {
      "cell_type": "markdown",
      "metadata": {
        "id": "oCVZakCzAjGN"
      },
      "source": [
        "### 1 - Instalar dependencias\n",
        "Para poder utilizar Spacy en castellano es necesario agregar la librería \"spacy-stanza\" para lematizar palabras en español."
      ]
    },
    {
      "cell_type": "code",
      "execution_count": null,
      "metadata": {
        "id": "Zd8NLa4gsSmT"
      },
      "outputs": [],
      "source": [
        "# La última versión de spacy-stanza (>1.0) es compatible solo con spacy >=3.0\n",
        "# Nota: spacy 3.0 incorpora al pipeline NLP transformers\n",
        "#!pip install -U spacy==3.1 --quiet\n",
        "#!pip install -U spacy-stanza==1.0.0 --quiet\n",
        "\n",
        "!pip install -U spacy --quiet\n",
        "!pip install -U spacy-stanza --quiet\n",
        "\n"
      ]
    },
    {
      "cell_type": "code",
      "execution_count": null,
      "metadata": {
        "id": "kzao7XO9NJAq"
      },
      "outputs": [],
      "source": [
        "import json\n",
        "import string\n",
        "import random\n",
        "import numpy as np\n",
        "\n",
        "import tensorflow as tf\n",
        "from tensorflow.keras import Sequential\n",
        "from tensorflow.keras.layers import Dense, Dropout"
      ]
    },
    {
      "cell_type": "code",
      "execution_count": null,
      "metadata": {
        "id": "Z_ExOb8uvjqK",
        "colab": {
          "base_uri": "https://localhost:8080/",
          "height": 604,
          "referenced_widgets": [
            "5612d57f5e0646059187e768fba5250f",
            "7873b18ef4d343f2ad21d8f40c367a44",
            "acff1852dbf04c7ab6b7d24028a5844b",
            "8227b6246fea4be1aa2a4a5ae84cebae",
            "4425f117458a4d1984b48daaf96136bc",
            "780d1a07e4694721bb517c366dd5bc4e",
            "45d4c47dfd6b4b13a12c29dad5db6375",
            "7bd37f2982494d56b83a99b4987c03e3",
            "578984d2681f45b784a04ce5f04de4ef",
            "b490a482699548f38dcb8fc7dbe805a6",
            "d66cac7ff39241b18ab79690420811c4",
            "13e717d3bc824060be8ec83967b008bb",
            "01abea900b224aa3b0f17094b31a6907",
            "4f9e0283af544949affe03cc254dae43",
            "6d6f6108d88d41238cb1a3e8e06f1f08",
            "15ede1d6f3c74c41bef4b688b97e7cf0",
            "7bd11ad255c846edb5cb883991fffe1f",
            "01e559f3ff5b4f9a914a175b731c8da8",
            "9bcbb505310e4bc691507db93ac89166",
            "17f80240f28d48a0a4b85d61cc470512",
            "f63a7a7bb42f45e3b85802140a83f37b",
            "3db399e1ce3f4d1ca61d0e0890882404"
          ]
        },
        "outputId": "a591e74d-b026-43b8-f013-bc5a8998faab"
      },
      "outputs": [
        {
          "output_type": "display_data",
          "data": {
            "text/plain": [
              "Downloading https://raw.githubusercontent.com/stanfordnlp/stanza-resources/main/resources_1.5.0.json:   0%|   …"
            ],
            "application/vnd.jupyter.widget-view+json": {
              "version_major": 2,
              "version_minor": 0,
              "model_id": "5612d57f5e0646059187e768fba5250f"
            }
          },
          "metadata": {}
        },
        {
          "output_type": "stream",
          "name": "stderr",
          "text": [
            "INFO:stanza:Downloading default packages for language: es (Spanish) ...\n",
            "INFO:stanza:File exists: /root/stanza_resources/es/default.zip\n",
            "INFO:stanza:Finished downloading models and saved to /root/stanza_resources.\n",
            "INFO:stanza:Checking for updates to resources.json in case models have been updated.  Note: this behavior can be turned off with download_method=None or download_method=DownloadMethod.REUSE_RESOURCES\n"
          ]
        },
        {
          "output_type": "display_data",
          "data": {
            "text/plain": [
              "Downloading https://raw.githubusercontent.com/stanfordnlp/stanza-resources/main/resources_1.5.0.json:   0%|   …"
            ],
            "application/vnd.jupyter.widget-view+json": {
              "version_major": 2,
              "version_minor": 0,
              "model_id": "13e717d3bc824060be8ec83967b008bb"
            }
          },
          "metadata": {}
        },
        {
          "output_type": "stream",
          "name": "stderr",
          "text": [
            "INFO:stanza:Loading these models for language: es (Spanish):\n",
            "===========================\n",
            "| Processor    | Package  |\n",
            "---------------------------\n",
            "| tokenize     | ancora   |\n",
            "| mwt          | ancora   |\n",
            "| pos          | ancora   |\n",
            "| lemma        | ancora   |\n",
            "| constituency | combined |\n",
            "| depparse     | ancora   |\n",
            "| sentiment    | tass2020 |\n",
            "| ner          | conll02  |\n",
            "===========================\n",
            "\n",
            "WARNING:stanza:GPU requested, but is not available!\n",
            "INFO:stanza:Using device: cpu\n",
            "INFO:stanza:Loading: tokenize\n",
            "INFO:stanza:Loading: mwt\n",
            "INFO:stanza:Loading: pos\n",
            "INFO:stanza:Loading: lemma\n",
            "INFO:stanza:Loading: constituency\n",
            "INFO:stanza:Loading: depparse\n",
            "INFO:stanza:Loading: sentiment\n",
            "INFO:stanza:Loading: ner\n",
            "INFO:stanza:Done loading processors!\n"
          ]
        }
      ],
      "source": [
        "import stanza\n",
        "import spacy_stanza\n",
        "\n",
        "# Vamos a usar SpaCy-Stanza. Stanza es una librería de NLP de Stanford\n",
        "# SpaCy armó un wrapper para los pipelines y modelos de Stanza\n",
        "# https://stanfordnlp.github.io/stanza/\n",
        "\n",
        "# Descargar el diccionario en español y armar el pipeline de NLP con spacy\n",
        "stanza.download(\"es\")\n",
        "nlp = spacy_stanza.load_pipeline(\"es\")"
      ]
    },
    {
      "cell_type": "markdown",
      "metadata": {
        "id": "_wF10RjVMBdV"
      },
      "source": [
        "### 2 - Herramientas de preprocesamiento de datos\n",
        "Entre las tareas de procesamiento de texto en español se implementa:\n",
        "- Quitar acentos y caracteres especiales\n",
        "- Quitar números\n",
        "- Quitar símbolos de puntuación"
      ]
    },
    {
      "cell_type": "code",
      "execution_count": null,
      "metadata": {
        "id": "ZxoD2hEExmuX"
      },
      "outputs": [],
      "source": [
        "import re\n",
        "import unicodedata\n",
        "\n",
        "# El preprocesamento en castellano requiere más trabajo\n",
        "\n",
        "# Referencia de regex:\n",
        "# https://docs.python.org/3/library/re.html\n",
        "\n",
        "def preprocess_clean_text(text):\n",
        "    # sacar tildes de las palabras:\n",
        "    text = unicodedata.normalize('NFKD', text).encode('ascii', 'ignore').decode('utf-8', 'ignore')\n",
        "    # quitar caracteres especiales\n",
        "    pattern = r'[^a-zA-z0-9.,!?/:;\\\"\\'\\s]' # [^ : ningún caracter de todos estos\n",
        "    # (termina eliminando cualquier caracter distinto de los del regex)\n",
        "    text = re.sub(pattern, '', text)\n",
        "    pattern = r'[^a-zA-z.,!?/:;\\\"\\'\\s]' # igual al anterior pero sin cifras numéricas\n",
        "    # quitar números\n",
        "    text = re.sub(pattern, '', text)\n",
        "    # quitar caracteres de puntuación\n",
        "    text = ''.join([c for c in text if c not in string.punctuation])\n",
        "    return text"
      ]
    },
    {
      "cell_type": "code",
      "execution_count": null,
      "metadata": {
        "id": "q-MiMZjh5fu2",
        "colab": {
          "base_uri": "https://localhost:8080/",
          "height": 36
        },
        "outputId": "4aea021d-656c-4e8b-cc1e-6acd83d88bf3"
      },
      "outputs": [
        {
          "output_type": "execute_result",
          "data": {
            "text/plain": [
              "'personas ideas estas cosas y los peces y los murcielagos'"
            ],
            "application/vnd.google.colaboratory.intrinsic+json": {
              "type": "string"
            }
          },
          "metadata": {},
          "execution_count": 13
        }
      ],
      "source": [
        "text = \"personas Ideas! estás cosas y los peces y los murciélagos\"\n",
        "\n",
        "# Antes de preprocesar los datos se pasa a minúsculas todo el texto\n",
        "preprocess_clean_text(text.lower())"
      ]
    },
    {
      "cell_type": "code",
      "execution_count": null,
      "metadata": {
        "id": "I9V-S8JbrtNn",
        "colab": {
          "base_uri": "https://localhost:8080/"
        },
        "outputId": "7b38c4ad-a22a-4d85-b88b-c5e50660814d"
      },
      "outputs": [
        {
          "output_type": "stream",
          "name": "stdout",
          "text": [
            "tokens: hola personas ideas estas cosas y los peces y los murcielagos\n",
            "Lematización de cada token:\n",
            "[hola, 'holar']\n",
            "[personas, 'persona']\n",
            "[ideas, 'idea']\n",
            "[estas, 'este']\n",
            "[cosas, 'cosa']\n",
            "[y, 'y']\n",
            "[los, 'el']\n",
            "[peces, 'pez']\n",
            "[y, 'y']\n",
            "[los, 'el']\n",
            "[murcielagos, 'murcielago']\n"
          ]
        }
      ],
      "source": [
        "# Ejemplo de como funciona\n",
        "text = \"hola personas Ideas! estás cosas y los peces y los murciélagos\"\n",
        "\n",
        "# Antes de preprocesar los datos se pasa a minúsculas todo el texto\n",
        "tokens = nlp(preprocess_clean_text(text.lower()))\n",
        "print(\"tokens:\", tokens)\n",
        "print(\"Lematización de cada token:\")\n",
        "for token in tokens:\n",
        "    print([token, token.lemma_])"
      ]
    },
    {
      "cell_type": "markdown",
      "metadata": {
        "id": "ilRbn0KfMm2r"
      },
      "source": [
        "### 3 - Diccionario de entrada"
      ]
    },
    {
      "cell_type": "markdown",
      "source": [
        "Se propone crear un bot para responder las consultas más comunes referentes al espacio de Género y Diversidad de la UTN FRM, cuya página web es https://www4.frm.utn.edu.ar/genero-y-diversidad/\n",
        "\n"
      ],
      "metadata": {
        "id": "_gyjVaQ3O2pk"
      }
    },
    {
      "cell_type": "code",
      "execution_count": null,
      "metadata": {
        "id": "NgIGpjymNEH7"
      },
      "outputs": [],
      "source": [
        "# Dataset en formato JSON que representa las posibles preguntas (patterns)\n",
        "# y las posibles respuestas por categoría (tag)\n",
        "# Los \"patterns\" van a formar el corpus para entrenar el clasificador que clasifica en tags\n",
        "# \"respones\" son las respuestas predeterminadas posibles para cada tag\n",
        "dataset = {\"intents\": [\n",
        "             {\"tag\": \"bienvenida\",\n",
        "              \"patterns\": [\"Hola\", \"¿Cómo estás?\", \"¿Qué tal?\"],\n",
        "              \"responses\": [\"Hola\", \"Buenos días\"],\n",
        "             },\n",
        "             {\"tag\": \"inicio-temporal\",\n",
        "              \"patterns\": [\"¿Cuándo surge la Comisión Asesora de Género y Diversidad?\", \"¿Desde cuándo está la Comisión?\", \"¿Hace cuánto está la Comisión Asesora de Género\" ],\n",
        "              \"responses\": [\"La Universidad Tecnológica Nacional Facultad Regional Mendoza crea la Comisión Asesora del Programa de Género Local mediante la resolución 699/2019 CD UTN FRM en el año 2019, en concordancia con la Ley Nº 27.229 “Ley Micaela de Capacitación Obligatoria en Género para Todas las Personas que Integran los Tres Poderes del Estado” y la Ordenanza del Consejo Superior UTN nº 1638 titulada «Protocolo de Acción Institucional para la Prevención e Intervención ante situaciones de Violencia de Género u Orientación Sexual».\"]\n",
        "             },\n",
        "            {\"tag\": \"funciones\",\n",
        "              \"patterns\": [\"¿Cuáles son las funciones de la Comisión Asesora de Género y Diversidad?\", \"¿Qué tareas realiza la Comisión?\"],\n",
        "              \"responses\": [\"Las principales funciones de la Comisión son: 1) Recibir consultas o denuncias de aquellas situaciones contempladas por el protocolo y realizar las entrevistas personales a las personas afectadas. 2) Llevar registro de los casos y de las intervenciones institucionales velando por la confidencialidad de los datos que en ellos se consignan, elaborar informes institucionales, brindar asesoramiento y solicitar intervenciones de las áreas que correspondan. 3) Elaborar los expedientes y brindar asesoramiento a tribunales académicos u órganos sumariantes en los casos en los que los hechos por los que se solicita la sanción estén alcanzados por este protocolo. 4)Proponer y llevar adelante acciones tendientes a dar pleno cumplimiento del protocolo, entre ellas, capacitaciones y programas de prevención. \"]\n",
        "             },\n",
        "            {\"tag\": \"protocolo\",\n",
        "              \"patterns\": [\"¿Qué es un protocolo?\", \"¿Me explicas qué es el protocolo?\"],\n",
        "              \"responses\": [\"Es un instrumento que contempla una serie de medidas para intervenir ante situaciones de violencia y discriminación basadas en el género u orientación sexual, tendientes a brindar asistencia, protección y resguardo de las personas afectadas, en el ámbito de nuestra universidad. El protocolo garantiza el enfoque de género en el abordaje institucional de las situaciones de violencia y discriminación por género entre los/as integrantes de su comunidad. También garantiza el acompañamiento y orientación de la/s persona/s afectada/s, para evitar la revictimización, la subestimación, la sobreexposición y todo sesgo sexista en el tratamiento de los casos. Además visibiliza la problemática, le da un tratamiento específico y compromete a la Universidad a desarrollar acciones de difusión, capacitación y prevención.\"]\n",
        "             },\n",
        "            {\"tag\": \"protocolo-situaciones\",\n",
        "              \"patterns\": [\"¿Qué situaciones contempla el protocolo?\", \"¿Qué tipo de violencia contempla el protocolo?\",\"¿Cuáles casos de violencia considera el protocolo?\"],\n",
        "              \"responses\": [\"Comprende situaciones de violencia física, psicológica, sexual, económica y/o simbólica y de discriminación basadas en el sexo y/o género de la persona, orientación sexual, identidad de género y/o expresión de género. Hechos con connotación sexista: toda conducta, o comentario, cuyo contenido discrimine, excluya, subordine, subvalore o estereotipe a las personas debido a su género, identidad de género, orientación sexual que provoque daño, sufrimiento, miedo, afecte la vida, la libertad, la dignidad, integridad psicológica o la seguridad personal. El Protocolo protege, en el mismo sentido que las leyes 23.592 (Contra Actos Discriminatorios), 26.485 (de Protección Integral a las Mujeres) y 26.743 (de Identidad de Género) y los distintos instrumentos internacionales invocados en sus textos, a toda la comunidad universitaria: docentes, no docentes y estudiantes, de pregrado, grado, posgrado, personas que presten servicios en los ámbitos de la UTN; investigadoras/es, becarias/os, o egresadas/os \"]\n",
        "             },\n",
        "            {\"tag\": \"protocolo-quienes\",\n",
        "              \"patterns\": [\"¿A quiénes está dirigido el protocolo?\", \"¿A quiénes contempla el protocolo?\"],\n",
        "              \"responses\": [\"El protocolo está dirigido a toda la comunidad universitaria: estudiantes, docentes, no docentes, trabajadores asimilados/as, directivos, secretarios/as, autoridades y/o toda persona, organización o empresa que desarrolle alguna actividad -de manera directa o indirecta- en la universidad.\"]\n",
        "             },\n",
        "            {\"tag\": \"protocolo-acciones\",\n",
        "              \"patterns\": [\"¿Qué acciones pueden tomarse?\", \"¿Cuáles medidas se aplican a agresores?\"],\n",
        "              \"responses\": [\"Medidas preventivas, de protección y/o sancionatorias en el marco universitario.\"]\n",
        "             },\n",
        "            {\"tag\": \"denuncia\",\n",
        "              \"patterns\": [ \"¿Cómo puedo denunciar?\", \"Quiero realizar una consulta confidencial\"],\n",
        "              \"responses\": [\"Contactanos: 1) A través del correo electrónico:  generoutnmendoza@gmail.com, 2) A través del formulario online que se encuentra. Las denuncias pueden ser efectuadas por cualquier persona a la que asisten los derechos vulnerados según las situaciones comprendidas, ya sea directamente o por haber conocido o presenciado alguna de las situaciones descriptas. Durante la recepción de las denuncias, se garantiza: respeto y confidencialidad, gratuidad en todo el proceso administrativo, contención, la no revictimización, diligencia y celeridad en el proceso.\"]\n",
        "             },\n",
        "\n",
        "             {\"tag\": \"redes-sociales\",\n",
        "              \"patterns\": [ \"facebook\", \"instagram\", \"Tienen redes sociales?\"],\n",
        "              \"responses\": [\"Estamos en Facebook en https://www.facebook.com/people/Consejer%C3%ADa-de-g%C3%A9nero-UTN-FRM/100063749043249/ y también en INSTAGRAM en https://www.instagram.com/consejeriadegeneroutnfrm/\"]\n",
        "             },\n",
        "\n",
        "             {\"tag\": \"contacto\",\n",
        "              \"patterns\": [ \"¿Cuáles son los canales de contacto?\", \"Quiero escribirles\", \"Necesito contactarles\"],\n",
        "              \"responses\": [\"Email institucional generoydiversidad@frm.utn.edu.ar, Denuncias: generoutnmendoza@gmail.com, Whatsapp: +54 9 2616 15-4327. También estamos en Facebook en https://www.facebook.com/people/Consejer%C3%ADa-de-g%C3%A9nero-UTN-FRM/100063749043249/ y también en INSTAGRAM en https://www.instagram.com/consejeriadegeneroutnfrm/\"]\n",
        "             },\n",
        "             {\"tag\": \"referente\",\n",
        "              \"patterns\": [ \"¿Quién es la persona referente?\", \"¿Con quién puedo hablar?\"],\n",
        "              \"responses\": [\"La persona referente de la Comisión Asesora de Género y Diversidad es la Lic. Georgina Sanchez\"]\n",
        "             },\n",
        "             {\"tag\": \"despedida\",\n",
        "              \"patterns\": [ \"Chau\", \"Hasta luego!\"],\n",
        "              \"responses\": [\"Hasta luego!\", \"Hasta pronto!\"]\n",
        "             }\n",
        "]}\n",
        "\n"
      ]
    },
    {
      "cell_type": "markdown",
      "metadata": {
        "id": "19PEDmIDfLRu"
      },
      "source": [
        "### 4 - Preprocesamiento y armado del dataset"
      ]
    },
    {
      "cell_type": "code",
      "execution_count": null,
      "metadata": {
        "id": "b3HP8abHNRk3"
      },
      "outputs": [],
      "source": [
        "# Datos que necesitaremos, las palabras o vocabulario\n",
        "words = []\n",
        "classes = []\n",
        "doc_X = []\n",
        "doc_y = []\n",
        "\n",
        "# Por cada intención (intents) debemos tomar los patrones que la caracterizan\n",
        "# a esa intención y transformarla a tokens para almacenar en doc_X\n",
        "\n",
        "# El tag de cada intención se almacena como doc_Y (la clase a predecir)\n",
        "# En `words` vamos a guardar el vocabulario\n",
        "# En `class` las posibles clases o tags\n",
        "\n",
        "for intent in dataset[\"intents\"]:\n",
        "    for pattern in intent[\"patterns\"]:\n",
        "        # trasformar el patron a tokens\n",
        "        tokens = nlp(preprocess_clean_text(pattern.lower()))\n",
        "        # lematizar los tokens\n",
        "        for token in tokens:\n",
        "            words.append(token.lemma_)\n",
        "\n",
        "        doc_X.append(pattern)\n",
        "        doc_y.append(intent[\"tag\"])\n",
        "\n",
        "    # Agregar el tag a las clases\n",
        "    if intent[\"tag\"] not in classes:\n",
        "        classes.append(intent[\"tag\"])\n",
        "\n",
        "# Elminar duplicados con \"set\" y ordenar el vocubulario y las clases por orden alfabético\n",
        "words = sorted(set(words))\n",
        "classes = sorted(set(classes))"
      ]
    },
    {
      "cell_type": "code",
      "execution_count": null,
      "metadata": {
        "id": "Acy-gcugNbMH",
        "colab": {
          "base_uri": "https://localhost:8080/"
        },
        "outputId": "4a73cba3-c88e-4527-e06d-e92f545cf2eb"
      },
      "outputs": [
        {
          "output_type": "stream",
          "name": "stdout",
          "text": [
            "words: ['a', 'acción', 'agresor', 'aplicar', 'asesora', 'canal', 'caso', 'chau', 'comision', 'como', 'con', 'confidencial', 'considerar', 'consulta', 'contactar', 'contacto', 'contemplar', 'cual', 'cuando', 'cuanto', 'de', 'denunciar', 'desde', 'dirigido', 'diversidad', 'el', 'escribir', 'este', 'explicar', 'facebook', 'función', 'genero', 'hablar', 'hacer', 'hasta', 'hola', 'instagram', 'luego', 'medida', 'necesitar', 'persona', 'poder', 'protocolo', 'que', 'querer', 'quien', 'realizar', 'red', 'referente', 'ser', 'situación', 'social', 'surgir', 'tal', 'tarea', 'tener', 'tipo', 'tomar', 'uno', 'violencia', 'y', 'yo', 'él']\n",
            "classes: ['bienvenida', 'contacto', 'denuncia', 'despedida', 'funciones', 'inicio-temporal', 'protocolo', 'protocolo-acciones', 'protocolo-quienes', 'protocolo-situaciones', 'redes-sociales', 'referente']\n",
            "doc_X: ['Hola', '¿Cómo estás?', '¿Qué tal?', '¿Cuándo surge la Comisión Asesora de Género y Diversidad?', '¿Desde cuándo está la Comisión?', '¿Hace cuánto está la Comisión Asesora de Género', '¿Cuáles son las funciones de la Comisión Asesora de Género y Diversidad?', '¿Qué tareas realiza la Comisión?', '¿Qué es un protocolo?', '¿Me explicas qué es el protocolo?', '¿Qué situaciones contempla el protocolo?', '¿Qué tipo de violencia contempla el protocolo?', '¿Cuáles casos de violencia considera el protocolo?', '¿A quiénes está dirigido el protocolo?', '¿A quiénes contempla el protocolo?', '¿Qué acciones pueden tomarse?', '¿Cuáles medidas se aplican a agresores?', '¿Cómo puedo denunciar?', 'Quiero realizar una consulta confidencial', 'facebook', 'instagram', 'Tienen redes sociales?', '¿Cuáles son los canales de contacto?', 'Quiero escribirles', 'Necesito contactarles', '¿Quién es la persona referente?', '¿Con quién puedo hablar?', 'Chau', 'Hasta luego!']\n",
            "doc_y: ['bienvenida', 'bienvenida', 'bienvenida', 'inicio-temporal', 'inicio-temporal', 'inicio-temporal', 'funciones', 'funciones', 'protocolo', 'protocolo', 'protocolo-situaciones', 'protocolo-situaciones', 'protocolo-situaciones', 'protocolo-quienes', 'protocolo-quienes', 'protocolo-acciones', 'protocolo-acciones', 'denuncia', 'denuncia', 'redes-sociales', 'redes-sociales', 'redes-sociales', 'contacto', 'contacto', 'contacto', 'referente', 'referente', 'despedida', 'despedida']\n"
          ]
        }
      ],
      "source": [
        "print(\"words:\", words)\n",
        "print(\"classes:\", classes)\n",
        "print(\"doc_X:\", doc_X)\n",
        "print(\"doc_y:\", doc_y)"
      ]
    },
    {
      "cell_type": "code",
      "execution_count": null,
      "metadata": {
        "id": "YI0L2U7IQcvy",
        "colab": {
          "base_uri": "https://localhost:8080/"
        },
        "outputId": "2d02c37b-f78b-43b8-eec8-85f98580a9c6"
      },
      "outputs": [
        {
          "output_type": "stream",
          "name": "stdout",
          "text": [
            "Vocabulario: 63\n"
          ]
        }
      ],
      "source": [
        "# Tamaño del vocabulario\n",
        "print(\"Vocabulario:\", len(words))"
      ]
    },
    {
      "cell_type": "code",
      "execution_count": null,
      "metadata": {
        "id": "hqBeGKRk_q4r",
        "colab": {
          "base_uri": "https://localhost:8080/"
        },
        "outputId": "0d44e4cf-36f2-468f-9266-47b417428654"
      },
      "outputs": [
        {
          "output_type": "stream",
          "name": "stdout",
          "text": [
            "Tags: 12\n"
          ]
        }
      ],
      "source": [
        "# Cantidad de tags\n",
        "print(\"Tags:\", len(classes))"
      ]
    },
    {
      "cell_type": "code",
      "execution_count": null,
      "metadata": {
        "id": "vpbJ0guPN2Uq",
        "colab": {
          "base_uri": "https://localhost:8080/"
        },
        "outputId": "94308122-8c26-467e-9c17-89e677bc7a11"
      },
      "outputs": [
        {
          "output_type": "stream",
          "name": "stdout",
          "text": [
            "X: [0, 0, 0, 0, 0, 0, 0, 0, 0, 0, 0, 0, 0, 0, 0, 0, 0, 0, 0, 0, 0, 0, 0, 0, 0, 0, 0, 0, 0, 0, 0, 0, 0, 0, 0, 1, 0, 0, 0, 0, 0, 0, 0, 0, 0, 0, 0, 0, 0, 0, 0, 0, 0, 0, 0, 0, 0, 0, 0, 0, 0, 0, 0] y: [1, 0, 0, 0, 0, 0, 0, 0, 0, 0, 0, 0]\n",
            "X: [0, 0, 0, 0, 0, 0, 0, 0, 0, 1, 0, 0, 0, 0, 0, 0, 0, 0, 0, 0, 0, 0, 0, 0, 0, 0, 0, 1, 0, 0, 0, 0, 0, 0, 0, 0, 0, 0, 0, 0, 0, 0, 0, 0, 0, 0, 0, 0, 0, 0, 0, 0, 0, 0, 0, 0, 0, 0, 0, 0, 0, 0, 0] y: [1, 0, 0, 0, 0, 0, 0, 0, 0, 0, 0, 0]\n",
            "X: [0, 0, 0, 0, 0, 0, 0, 0, 0, 0, 0, 0, 0, 0, 0, 0, 0, 0, 0, 0, 0, 0, 0, 0, 0, 0, 0, 0, 0, 0, 0, 0, 0, 0, 0, 0, 0, 0, 0, 0, 0, 0, 0, 1, 0, 0, 0, 0, 0, 0, 0, 0, 0, 1, 0, 0, 0, 0, 0, 0, 0, 0, 0] y: [1, 0, 0, 0, 0, 0, 0, 0, 0, 0, 0, 0]\n",
            "X: [0, 0, 0, 0, 1, 0, 0, 0, 1, 0, 0, 0, 0, 0, 0, 0, 0, 0, 1, 0, 1, 0, 0, 0, 1, 1, 0, 0, 0, 0, 0, 1, 0, 0, 0, 0, 0, 0, 0, 0, 0, 0, 0, 0, 0, 0, 0, 0, 0, 0, 0, 0, 1, 0, 0, 0, 0, 0, 0, 0, 1, 0, 0] y: [0, 0, 0, 0, 0, 1, 0, 0, 0, 0, 0, 0]\n",
            "X: [0, 0, 0, 0, 0, 0, 0, 0, 1, 0, 0, 0, 0, 0, 0, 0, 0, 0, 1, 0, 0, 0, 1, 0, 0, 1, 0, 1, 0, 0, 0, 0, 0, 0, 0, 0, 0, 0, 0, 0, 0, 0, 0, 0, 0, 0, 0, 0, 0, 0, 0, 0, 0, 0, 0, 0, 0, 0, 0, 0, 0, 0, 0] y: [0, 0, 0, 0, 0, 1, 0, 0, 0, 0, 0, 0]\n",
            "X: [0, 0, 0, 0, 1, 0, 0, 0, 1, 0, 0, 0, 0, 0, 0, 0, 0, 0, 0, 1, 1, 0, 0, 0, 0, 1, 0, 1, 0, 0, 0, 1, 0, 1, 0, 0, 0, 0, 0, 0, 0, 0, 0, 0, 0, 0, 0, 0, 0, 0, 0, 0, 0, 0, 0, 0, 0, 0, 0, 0, 0, 0, 0] y: [0, 0, 0, 0, 0, 1, 0, 0, 0, 0, 0, 0]\n",
            "X: [0, 0, 0, 0, 1, 0, 0, 0, 1, 0, 0, 0, 0, 0, 0, 0, 0, 1, 0, 0, 1, 0, 0, 0, 1, 1, 0, 0, 0, 0, 1, 1, 0, 0, 0, 0, 0, 0, 0, 0, 0, 0, 0, 0, 0, 0, 0, 0, 0, 1, 0, 0, 0, 0, 0, 0, 0, 0, 0, 0, 1, 0, 0] y: [0, 0, 0, 0, 1, 0, 0, 0, 0, 0, 0, 0]\n",
            "X: [0, 0, 0, 0, 0, 0, 0, 0, 1, 0, 0, 0, 0, 0, 0, 0, 0, 0, 0, 0, 0, 0, 0, 0, 0, 1, 0, 0, 0, 0, 0, 0, 0, 0, 0, 0, 0, 0, 0, 0, 0, 0, 0, 1, 0, 0, 1, 0, 0, 0, 0, 0, 0, 0, 1, 0, 0, 0, 0, 0, 0, 0, 0] y: [0, 0, 0, 0, 1, 0, 0, 0, 0, 0, 0, 0]\n",
            "X: [0, 0, 0, 0, 0, 0, 0, 0, 0, 0, 0, 0, 0, 0, 0, 0, 0, 0, 0, 0, 0, 0, 0, 0, 0, 0, 0, 0, 0, 0, 0, 0, 0, 0, 0, 0, 0, 0, 0, 0, 0, 0, 1, 1, 0, 0, 0, 0, 0, 1, 0, 0, 0, 0, 0, 0, 0, 0, 1, 0, 0, 0, 0] y: [0, 0, 0, 0, 0, 0, 1, 0, 0, 0, 0, 0]\n",
            "X: [0, 0, 0, 0, 0, 0, 0, 0, 0, 0, 0, 0, 0, 0, 0, 0, 0, 0, 0, 0, 0, 0, 0, 0, 0, 1, 0, 0, 1, 0, 0, 0, 0, 0, 0, 0, 0, 0, 0, 0, 0, 0, 1, 1, 0, 0, 0, 0, 0, 1, 0, 0, 0, 0, 0, 0, 0, 0, 0, 0, 0, 1, 0] y: [0, 0, 0, 0, 0, 0, 1, 0, 0, 0, 0, 0]\n",
            "X: [0, 0, 0, 0, 0, 0, 0, 0, 0, 0, 0, 0, 0, 0, 0, 0, 1, 0, 0, 0, 0, 0, 0, 0, 0, 1, 0, 0, 0, 0, 0, 0, 0, 0, 0, 0, 0, 0, 0, 0, 0, 0, 1, 1, 0, 0, 0, 0, 0, 0, 1, 0, 0, 0, 0, 0, 0, 0, 0, 0, 0, 0, 0] y: [0, 0, 0, 0, 0, 0, 0, 0, 0, 1, 0, 0]\n",
            "X: [0, 0, 0, 0, 0, 0, 0, 0, 0, 0, 0, 0, 0, 0, 0, 0, 1, 0, 0, 0, 1, 0, 0, 0, 0, 1, 0, 0, 0, 0, 0, 0, 0, 0, 0, 0, 0, 0, 0, 0, 0, 0, 1, 1, 0, 0, 0, 0, 0, 0, 0, 0, 0, 0, 0, 0, 1, 0, 0, 1, 0, 0, 0] y: [0, 0, 0, 0, 0, 0, 0, 0, 0, 1, 0, 0]\n",
            "X: [0, 0, 0, 0, 0, 0, 1, 0, 0, 0, 0, 0, 1, 0, 0, 0, 0, 1, 0, 0, 1, 0, 0, 0, 0, 1, 0, 0, 0, 0, 0, 0, 0, 0, 0, 0, 0, 0, 0, 0, 0, 0, 1, 0, 0, 0, 0, 0, 0, 0, 0, 0, 0, 0, 0, 0, 0, 0, 0, 1, 0, 0, 0] y: [0, 0, 0, 0, 0, 0, 0, 0, 0, 1, 0, 0]\n",
            "X: [1, 0, 0, 0, 0, 0, 0, 0, 0, 0, 0, 0, 0, 0, 0, 0, 0, 0, 0, 0, 0, 0, 0, 1, 0, 1, 0, 1, 0, 0, 0, 0, 0, 0, 0, 0, 0, 0, 0, 0, 0, 0, 1, 0, 0, 1, 0, 0, 0, 0, 0, 0, 0, 0, 0, 0, 0, 0, 0, 0, 0, 0, 0] y: [0, 0, 0, 0, 0, 0, 0, 0, 1, 0, 0, 0]\n",
            "X: [1, 0, 0, 0, 0, 0, 0, 0, 0, 0, 0, 0, 0, 0, 0, 0, 1, 0, 0, 0, 0, 0, 0, 0, 0, 1, 0, 0, 0, 0, 0, 0, 0, 0, 0, 0, 0, 0, 0, 0, 0, 0, 1, 0, 0, 1, 0, 0, 0, 0, 0, 0, 0, 0, 0, 0, 0, 0, 0, 0, 0, 0, 0] y: [0, 0, 0, 0, 0, 0, 0, 0, 1, 0, 0, 0]\n",
            "X: [0, 1, 0, 0, 0, 0, 0, 0, 0, 0, 0, 0, 0, 0, 0, 0, 0, 0, 0, 0, 0, 0, 0, 0, 0, 0, 0, 0, 0, 0, 0, 0, 0, 0, 0, 0, 0, 0, 0, 0, 0, 1, 0, 1, 0, 0, 0, 0, 0, 0, 0, 0, 0, 0, 0, 0, 0, 1, 0, 0, 0, 0, 1] y: [0, 0, 0, 0, 0, 0, 0, 1, 0, 0, 0, 0]\n",
            "X: [1, 0, 1, 1, 0, 0, 0, 0, 0, 0, 0, 0, 0, 0, 0, 0, 0, 1, 0, 0, 0, 0, 0, 0, 0, 0, 0, 0, 0, 0, 0, 0, 0, 0, 0, 0, 0, 0, 1, 0, 0, 0, 0, 0, 0, 0, 0, 0, 0, 0, 0, 0, 0, 0, 0, 0, 0, 0, 0, 0, 0, 0, 1] y: [0, 0, 0, 0, 0, 0, 0, 1, 0, 0, 0, 0]\n",
            "X: [0, 0, 0, 0, 0, 0, 0, 0, 0, 1, 0, 0, 0, 0, 0, 0, 0, 0, 0, 0, 0, 1, 0, 0, 0, 0, 0, 0, 0, 0, 0, 0, 0, 0, 0, 0, 0, 0, 0, 0, 0, 1, 0, 0, 0, 0, 0, 0, 0, 0, 0, 0, 0, 0, 0, 0, 0, 0, 0, 0, 0, 0, 0] y: [0, 0, 1, 0, 0, 0, 0, 0, 0, 0, 0, 0]\n",
            "X: [0, 0, 0, 0, 0, 0, 0, 0, 0, 0, 0, 1, 0, 1, 0, 0, 0, 0, 0, 0, 0, 0, 0, 0, 0, 0, 0, 0, 0, 0, 0, 0, 0, 0, 0, 0, 0, 0, 0, 0, 0, 0, 0, 0, 1, 0, 1, 0, 0, 0, 0, 0, 0, 0, 0, 0, 0, 0, 1, 0, 0, 0, 0] y: [0, 0, 1, 0, 0, 0, 0, 0, 0, 0, 0, 0]\n",
            "X: [0, 0, 0, 0, 0, 0, 0, 0, 0, 0, 0, 0, 0, 0, 0, 0, 0, 0, 0, 0, 0, 0, 0, 0, 0, 0, 0, 0, 0, 1, 0, 0, 0, 0, 0, 0, 0, 0, 0, 0, 0, 0, 0, 0, 0, 0, 0, 0, 0, 0, 0, 0, 0, 0, 0, 0, 0, 0, 0, 0, 0, 0, 0] y: [0, 0, 0, 0, 0, 0, 0, 0, 0, 0, 1, 0]\n",
            "X: [0, 0, 0, 0, 0, 0, 0, 0, 0, 0, 0, 0, 0, 0, 0, 0, 0, 0, 0, 0, 0, 0, 0, 0, 0, 0, 0, 0, 0, 0, 0, 0, 0, 0, 0, 0, 1, 0, 0, 0, 0, 0, 0, 0, 0, 0, 0, 0, 0, 0, 0, 0, 0, 0, 0, 0, 0, 0, 0, 0, 0, 0, 0] y: [0, 0, 0, 0, 0, 0, 0, 0, 0, 0, 1, 0]\n",
            "X: [0, 0, 0, 0, 0, 0, 0, 0, 0, 0, 0, 0, 0, 0, 0, 0, 0, 0, 0, 0, 0, 0, 0, 0, 0, 0, 0, 0, 0, 0, 0, 0, 0, 0, 0, 0, 0, 0, 0, 0, 0, 0, 0, 0, 0, 0, 0, 1, 0, 0, 0, 1, 0, 0, 0, 1, 0, 0, 0, 0, 0, 0, 0] y: [0, 0, 0, 0, 0, 0, 0, 0, 0, 0, 1, 0]\n",
            "X: [0, 0, 0, 0, 0, 1, 0, 0, 0, 0, 0, 0, 0, 0, 0, 1, 0, 1, 0, 0, 1, 0, 0, 0, 0, 1, 0, 0, 0, 0, 0, 0, 0, 0, 0, 0, 0, 0, 0, 0, 0, 0, 0, 0, 0, 0, 0, 0, 0, 1, 0, 0, 0, 0, 0, 0, 0, 0, 0, 0, 0, 0, 0] y: [0, 1, 0, 0, 0, 0, 0, 0, 0, 0, 0, 0]\n",
            "X: [0, 0, 0, 0, 0, 0, 0, 0, 0, 0, 0, 0, 0, 0, 0, 0, 0, 0, 0, 0, 0, 0, 0, 0, 0, 0, 1, 0, 0, 0, 0, 0, 0, 0, 0, 0, 0, 0, 0, 0, 0, 0, 0, 0, 1, 0, 0, 0, 0, 0, 0, 0, 0, 0, 0, 0, 0, 0, 0, 0, 0, 0, 1] y: [0, 1, 0, 0, 0, 0, 0, 0, 0, 0, 0, 0]\n",
            "X: [0, 0, 0, 0, 0, 0, 0, 0, 0, 0, 0, 0, 0, 0, 1, 0, 0, 0, 0, 0, 0, 0, 0, 0, 0, 0, 0, 0, 0, 0, 0, 0, 0, 0, 0, 0, 0, 0, 0, 1, 0, 0, 0, 0, 0, 0, 0, 0, 0, 0, 0, 0, 0, 0, 0, 0, 0, 0, 0, 0, 0, 0, 1] y: [0, 1, 0, 0, 0, 0, 0, 0, 0, 0, 0, 0]\n",
            "X: [0, 0, 0, 0, 0, 0, 0, 0, 0, 0, 0, 0, 0, 0, 0, 0, 0, 0, 0, 0, 0, 0, 0, 0, 0, 1, 0, 0, 0, 0, 0, 0, 0, 0, 0, 0, 0, 0, 0, 0, 1, 0, 0, 0, 0, 1, 0, 0, 1, 1, 0, 0, 0, 0, 0, 0, 0, 0, 0, 0, 0, 0, 0] y: [0, 0, 0, 0, 0, 0, 0, 0, 0, 0, 0, 1]\n",
            "X: [0, 0, 0, 0, 0, 0, 0, 0, 0, 0, 1, 0, 0, 0, 0, 0, 0, 0, 0, 0, 0, 0, 0, 0, 0, 0, 0, 0, 0, 0, 0, 0, 1, 0, 0, 0, 0, 0, 0, 0, 0, 1, 0, 0, 0, 1, 0, 0, 0, 0, 0, 0, 0, 0, 0, 0, 0, 0, 0, 0, 0, 0, 0] y: [0, 0, 0, 0, 0, 0, 0, 0, 0, 0, 0, 1]\n",
            "X: [0, 0, 0, 0, 0, 0, 0, 1, 0, 0, 0, 0, 0, 0, 0, 0, 0, 0, 0, 0, 0, 0, 0, 0, 0, 0, 0, 0, 0, 0, 0, 0, 0, 0, 0, 0, 0, 0, 0, 0, 0, 0, 0, 0, 0, 0, 0, 0, 0, 0, 0, 0, 0, 0, 0, 0, 0, 0, 0, 0, 0, 0, 0] y: [0, 0, 0, 1, 0, 0, 0, 0, 0, 0, 0, 0]\n",
            "X: [0, 0, 0, 0, 0, 0, 0, 0, 0, 0, 0, 0, 0, 0, 0, 0, 0, 0, 0, 0, 0, 0, 0, 0, 0, 0, 0, 0, 0, 0, 0, 0, 0, 0, 1, 0, 0, 1, 0, 0, 0, 0, 0, 0, 0, 0, 0, 0, 0, 0, 0, 0, 0, 0, 0, 0, 0, 0, 0, 0, 0, 0, 0] y: [0, 0, 0, 1, 0, 0, 0, 0, 0, 0, 0, 0]\n"
          ]
        }
      ],
      "source": [
        "# Transformar doc_X en bag of words por oneHotEncoding\n",
        "# Transformar doc_Y en un vector de clases multicategórico con oneHotEncoding\n",
        "\n",
        "training = []\n",
        "out_empty = [0] * len(classes)\n",
        "\n",
        "for idx, doc in enumerate(doc_X):\n",
        "    # Transformar la pregunta (input) en tokens y lematizar\n",
        "    text = []\n",
        "    tokens = nlp(preprocess_clean_text(doc.lower()))\n",
        "    for token in tokens:\n",
        "        text.append(token.lemma_)\n",
        "\n",
        "    # Transformar los tokens en \"Bag of words\" (arrays de 1 y 0)\n",
        "    bow = []\n",
        "    for word in words:\n",
        "        bow.append(1) if word in text else bow.append(0)\n",
        "\n",
        "    # Crear el array de salida (class output) correspondiente\n",
        "    output_row = list(out_empty)\n",
        "    output_row[classes.index(doc_y[idx])] = 1\n",
        "\n",
        "    print(\"X:\", bow, \"y:\", output_row)\n",
        "    training.append([bow, output_row])\n",
        "\n",
        "# Mezclar los datos\n",
        "random.shuffle(training)\n",
        "training = np.array(training, dtype=object)\n",
        "# Dividir en datos de entrada y salida\n",
        "train_X = np.array(list(training[:, 0]))\n",
        "train_y = np.array(list(training[:, 1]))"
      ]
    },
    {
      "cell_type": "markdown",
      "metadata": {
        "id": "a_Hr8QaDfRf3"
      },
      "source": [
        "### 5 - Entrenamiento del modelo"
      ]
    },
    {
      "cell_type": "code",
      "execution_count": null,
      "metadata": {
        "id": "fopb3NqcAGTz",
        "colab": {
          "base_uri": "https://localhost:8080/"
        },
        "outputId": "e18a43ce-258e-4bce-cd1d-8a07b8b79fee"
      },
      "outputs": [
        {
          "output_type": "stream",
          "name": "stdout",
          "text": [
            "input: (63,) output: 12\n"
          ]
        }
      ],
      "source": [
        "# Shape de entrada y salida\n",
        "input_shape = (train_X.shape[1],)\n",
        "output_shape = train_y.shape[1]\n",
        "print(\"input:\", input_shape, \"output:\", output_shape)"
      ]
    },
    {
      "cell_type": "code",
      "execution_count": null,
      "metadata": {
        "id": "xy7tzkwdOZx9",
        "colab": {
          "base_uri": "https://localhost:8080/"
        },
        "outputId": "c963a9ac-572d-4d0e-8de1-d597096a0d8c"
      },
      "outputs": [
        {
          "output_type": "stream",
          "name": "stdout",
          "text": [
            "Model: \"sequential\"\n",
            "_________________________________________________________________\n",
            " Layer (type)                Output Shape              Param #   \n",
            "=================================================================\n",
            " dense (Dense)               (None, 128)               8192      \n",
            "                                                                 \n",
            " dropout (Dropout)           (None, 128)               0         \n",
            "                                                                 \n",
            " dense_1 (Dense)             (None, 64)                8256      \n",
            "                                                                 \n",
            " dropout_1 (Dropout)         (None, 64)                0         \n",
            "                                                                 \n",
            " dense_2 (Dense)             (None, 12)                780       \n",
            "                                                                 \n",
            "=================================================================\n",
            "Total params: 17,228\n",
            "Trainable params: 17,228\n",
            "Non-trainable params: 0\n",
            "_________________________________________________________________\n",
            "None\n"
          ]
        }
      ],
      "source": [
        "# Entrenamiento del modelo DNN\n",
        "# - Modelo secuencial\n",
        "# - Con regularización\n",
        "# - softmax y optimizador Adam\n",
        "model = Sequential()\n",
        "model.add(Dense(128, input_shape=input_shape, activation=\"relu\"))\n",
        "model.add(Dropout(0.5))\n",
        "model.add(Dense(64, activation=\"relu\"))\n",
        "model.add(Dropout(0.5))\n",
        "model.add(Dense(output_shape, activation = \"softmax\"))\n",
        "\n",
        "model.compile(loss='categorical_crossentropy',\n",
        "              optimizer=\"Adam\",\n",
        "              metrics=[\"accuracy\"])\n",
        "print(model.summary())"
      ]
    },
    {
      "cell_type": "code",
      "execution_count": null,
      "metadata": {
        "id": "r6hi4EcdOghm",
        "colab": {
          "base_uri": "https://localhost:8080/"
        },
        "outputId": "b338fd3d-6319-49e1-f188-393a2a2fcda3"
      },
      "outputs": [
        {
          "output_type": "stream",
          "name": "stdout",
          "text": [
            "Epoch 1/200\n",
            "1/1 [==============================] - 1s 723ms/step - loss: 2.5439 - accuracy: 0.1379\n",
            "Epoch 2/200\n",
            "1/1 [==============================] - 0s 9ms/step - loss: 2.5045 - accuracy: 0.0690\n",
            "Epoch 3/200\n",
            "1/1 [==============================] - 0s 6ms/step - loss: 2.5295 - accuracy: 0.1379\n",
            "Epoch 4/200\n",
            "1/1 [==============================] - 0s 7ms/step - loss: 2.4426 - accuracy: 0.0690\n",
            "Epoch 5/200\n",
            "1/1 [==============================] - 0s 7ms/step - loss: 2.4984 - accuracy: 0.1379\n",
            "Epoch 6/200\n",
            "1/1 [==============================] - 0s 10ms/step - loss: 2.4624 - accuracy: 0.2414\n",
            "Epoch 7/200\n",
            "1/1 [==============================] - 0s 9ms/step - loss: 2.5367 - accuracy: 0.0690\n",
            "Epoch 8/200\n",
            "1/1 [==============================] - 0s 8ms/step - loss: 2.4768 - accuracy: 0.1724\n",
            "Epoch 9/200\n",
            "1/1 [==============================] - 0s 7ms/step - loss: 2.4039 - accuracy: 0.1379\n",
            "Epoch 10/200\n",
            "1/1 [==============================] - 0s 7ms/step - loss: 2.3553 - accuracy: 0.1724\n",
            "Epoch 11/200\n",
            "1/1 [==============================] - 0s 7ms/step - loss: 2.3753 - accuracy: 0.1724\n",
            "Epoch 12/200\n",
            "1/1 [==============================] - 0s 7ms/step - loss: 2.3928 - accuracy: 0.1379\n",
            "Epoch 13/200\n",
            "1/1 [==============================] - 0s 7ms/step - loss: 2.4159 - accuracy: 0.1379\n",
            "Epoch 14/200\n",
            "1/1 [==============================] - 0s 7ms/step - loss: 2.3842 - accuracy: 0.2069\n",
            "Epoch 15/200\n",
            "1/1 [==============================] - 0s 6ms/step - loss: 2.3778 - accuracy: 0.1724\n",
            "Epoch 16/200\n",
            "1/1 [==============================] - 0s 7ms/step - loss: 2.3251 - accuracy: 0.1724\n",
            "Epoch 17/200\n",
            "1/1 [==============================] - 0s 6ms/step - loss: 2.3101 - accuracy: 0.2069\n",
            "Epoch 18/200\n",
            "1/1 [==============================] - 0s 10ms/step - loss: 2.3229 - accuracy: 0.2414\n",
            "Epoch 19/200\n",
            "1/1 [==============================] - 0s 8ms/step - loss: 2.2976 - accuracy: 0.1724\n",
            "Epoch 20/200\n",
            "1/1 [==============================] - 0s 8ms/step - loss: 2.3156 - accuracy: 0.3448\n",
            "Epoch 21/200\n",
            "1/1 [==============================] - 0s 6ms/step - loss: 2.3120 - accuracy: 0.3103\n",
            "Epoch 22/200\n",
            "1/1 [==============================] - 0s 7ms/step - loss: 2.3623 - accuracy: 0.1724\n",
            "Epoch 23/200\n",
            "1/1 [==============================] - 0s 6ms/step - loss: 2.2397 - accuracy: 0.3793\n",
            "Epoch 24/200\n",
            "1/1 [==============================] - 0s 5ms/step - loss: 2.2353 - accuracy: 0.3793\n",
            "Epoch 25/200\n",
            "1/1 [==============================] - 0s 6ms/step - loss: 2.2159 - accuracy: 0.2759\n",
            "Epoch 26/200\n",
            "1/1 [==============================] - 0s 6ms/step - loss: 2.2548 - accuracy: 0.3103\n",
            "Epoch 27/200\n",
            "1/1 [==============================] - 0s 8ms/step - loss: 2.2060 - accuracy: 0.3793\n",
            "Epoch 28/200\n",
            "1/1 [==============================] - 0s 7ms/step - loss: 2.2200 - accuracy: 0.3448\n",
            "Epoch 29/200\n",
            "1/1 [==============================] - 0s 6ms/step - loss: 2.1238 - accuracy: 0.4138\n",
            "Epoch 30/200\n",
            "1/1 [==============================] - 0s 6ms/step - loss: 2.1951 - accuracy: 0.3448\n",
            "Epoch 31/200\n",
            "1/1 [==============================] - 0s 6ms/step - loss: 2.2387 - accuracy: 0.3448\n",
            "Epoch 32/200\n",
            "1/1 [==============================] - 0s 8ms/step - loss: 2.2484 - accuracy: 0.3448\n",
            "Epoch 33/200\n",
            "1/1 [==============================] - 0s 7ms/step - loss: 2.1543 - accuracy: 0.3793\n",
            "Epoch 34/200\n",
            "1/1 [==============================] - 0s 7ms/step - loss: 2.1928 - accuracy: 0.3793\n",
            "Epoch 35/200\n",
            "1/1 [==============================] - 0s 8ms/step - loss: 2.1019 - accuracy: 0.4483\n",
            "Epoch 36/200\n",
            "1/1 [==============================] - 0s 7ms/step - loss: 2.0973 - accuracy: 0.4138\n",
            "Epoch 37/200\n",
            "1/1 [==============================] - 0s 7ms/step - loss: 2.0443 - accuracy: 0.5517\n",
            "Epoch 38/200\n",
            "1/1 [==============================] - 0s 7ms/step - loss: 2.1094 - accuracy: 0.4138\n",
            "Epoch 39/200\n",
            "1/1 [==============================] - 0s 7ms/step - loss: 2.1044 - accuracy: 0.4828\n",
            "Epoch 40/200\n",
            "1/1 [==============================] - 0s 8ms/step - loss: 1.9975 - accuracy: 0.5172\n",
            "Epoch 41/200\n",
            "1/1 [==============================] - 0s 6ms/step - loss: 2.1895 - accuracy: 0.3448\n",
            "Epoch 42/200\n",
            "1/1 [==============================] - 0s 13ms/step - loss: 1.9674 - accuracy: 0.4828\n",
            "Epoch 43/200\n",
            "1/1 [==============================] - 0s 6ms/step - loss: 2.0490 - accuracy: 0.4483\n",
            "Epoch 44/200\n",
            "1/1 [==============================] - 0s 6ms/step - loss: 2.0359 - accuracy: 0.5172\n",
            "Epoch 45/200\n",
            "1/1 [==============================] - 0s 8ms/step - loss: 2.0331 - accuracy: 0.4483\n",
            "Epoch 46/200\n",
            "1/1 [==============================] - 0s 8ms/step - loss: 2.0160 - accuracy: 0.4828\n",
            "Epoch 47/200\n",
            "1/1 [==============================] - 0s 8ms/step - loss: 2.0673 - accuracy: 0.4828\n",
            "Epoch 48/200\n",
            "1/1 [==============================] - 0s 9ms/step - loss: 2.0347 - accuracy: 0.4138\n",
            "Epoch 49/200\n",
            "1/1 [==============================] - 0s 8ms/step - loss: 1.9533 - accuracy: 0.5517\n",
            "Epoch 50/200\n",
            "1/1 [==============================] - 0s 9ms/step - loss: 1.8892 - accuracy: 0.4828\n",
            "Epoch 51/200\n",
            "1/1 [==============================] - 0s 7ms/step - loss: 1.8736 - accuracy: 0.4138\n",
            "Epoch 52/200\n",
            "1/1 [==============================] - 0s 7ms/step - loss: 1.8237 - accuracy: 0.6897\n",
            "Epoch 53/200\n",
            "1/1 [==============================] - 0s 7ms/step - loss: 1.8230 - accuracy: 0.5517\n",
            "Epoch 54/200\n",
            "1/1 [==============================] - 0s 7ms/step - loss: 1.8982 - accuracy: 0.6552\n",
            "Epoch 55/200\n",
            "1/1 [==============================] - 0s 7ms/step - loss: 1.8349 - accuracy: 0.5517\n",
            "Epoch 56/200\n",
            "1/1 [==============================] - 0s 7ms/step - loss: 1.7603 - accuracy: 0.5862\n",
            "Epoch 57/200\n",
            "1/1 [==============================] - 0s 7ms/step - loss: 1.8338 - accuracy: 0.5517\n",
            "Epoch 58/200\n",
            "1/1 [==============================] - 0s 7ms/step - loss: 1.8998 - accuracy: 0.6207\n",
            "Epoch 59/200\n",
            "1/1 [==============================] - 0s 9ms/step - loss: 1.7498 - accuracy: 0.5172\n",
            "Epoch 60/200\n",
            "1/1 [==============================] - 0s 8ms/step - loss: 1.7814 - accuracy: 0.4828\n",
            "Epoch 61/200\n",
            "1/1 [==============================] - 0s 7ms/step - loss: 1.6998 - accuracy: 0.5172\n",
            "Epoch 62/200\n",
            "1/1 [==============================] - 0s 8ms/step - loss: 1.7247 - accuracy: 0.5517\n",
            "Epoch 63/200\n",
            "1/1 [==============================] - 0s 8ms/step - loss: 1.7448 - accuracy: 0.6552\n",
            "Epoch 64/200\n",
            "1/1 [==============================] - 0s 9ms/step - loss: 1.7673 - accuracy: 0.4483\n",
            "Epoch 65/200\n",
            "1/1 [==============================] - 0s 8ms/step - loss: 1.7166 - accuracy: 0.6897\n",
            "Epoch 66/200\n",
            "1/1 [==============================] - 0s 7ms/step - loss: 1.7636 - accuracy: 0.5862\n",
            "Epoch 67/200\n",
            "1/1 [==============================] - 0s 10ms/step - loss: 1.6352 - accuracy: 0.6552\n",
            "Epoch 68/200\n",
            "1/1 [==============================] - 0s 9ms/step - loss: 1.5813 - accuracy: 0.5172\n",
            "Epoch 69/200\n",
            "1/1 [==============================] - 0s 7ms/step - loss: 1.7493 - accuracy: 0.6207\n",
            "Epoch 70/200\n",
            "1/1 [==============================] - 0s 7ms/step - loss: 1.5883 - accuracy: 0.6207\n",
            "Epoch 71/200\n",
            "1/1 [==============================] - 0s 9ms/step - loss: 1.5681 - accuracy: 0.7586\n",
            "Epoch 72/200\n",
            "1/1 [==============================] - 0s 8ms/step - loss: 1.5195 - accuracy: 0.7241\n",
            "Epoch 73/200\n",
            "1/1 [==============================] - 0s 10ms/step - loss: 1.4877 - accuracy: 0.6552\n",
            "Epoch 74/200\n",
            "1/1 [==============================] - 0s 7ms/step - loss: 1.4749 - accuracy: 0.5862\n",
            "Epoch 75/200\n",
            "1/1 [==============================] - 0s 7ms/step - loss: 1.5440 - accuracy: 0.5517\n",
            "Epoch 76/200\n",
            "1/1 [==============================] - 0s 7ms/step - loss: 1.4134 - accuracy: 0.7586\n",
            "Epoch 77/200\n",
            "1/1 [==============================] - 0s 7ms/step - loss: 1.4374 - accuracy: 0.7241\n",
            "Epoch 78/200\n",
            "1/1 [==============================] - 0s 7ms/step - loss: 1.4304 - accuracy: 0.6207\n",
            "Epoch 79/200\n",
            "1/1 [==============================] - 0s 7ms/step - loss: 1.5240 - accuracy: 0.5862\n",
            "Epoch 80/200\n",
            "1/1 [==============================] - 0s 10ms/step - loss: 1.4744 - accuracy: 0.6552\n",
            "Epoch 81/200\n",
            "1/1 [==============================] - 0s 9ms/step - loss: 1.4735 - accuracy: 0.5862\n",
            "Epoch 82/200\n",
            "1/1 [==============================] - 0s 6ms/step - loss: 1.4525 - accuracy: 0.6207\n",
            "Epoch 83/200\n",
            "1/1 [==============================] - 0s 7ms/step - loss: 1.3840 - accuracy: 0.7586\n",
            "Epoch 84/200\n",
            "1/1 [==============================] - 0s 8ms/step - loss: 1.3570 - accuracy: 0.6897\n",
            "Epoch 85/200\n",
            "1/1 [==============================] - 0s 7ms/step - loss: 1.4909 - accuracy: 0.6207\n",
            "Epoch 86/200\n",
            "1/1 [==============================] - 0s 6ms/step - loss: 1.4011 - accuracy: 0.7241\n",
            "Epoch 87/200\n",
            "1/1 [==============================] - 0s 7ms/step - loss: 1.0942 - accuracy: 0.8621\n",
            "Epoch 88/200\n",
            "1/1 [==============================] - 0s 7ms/step - loss: 1.3310 - accuracy: 0.6207\n",
            "Epoch 89/200\n",
            "1/1 [==============================] - 0s 7ms/step - loss: 1.2727 - accuracy: 0.7241\n",
            "Epoch 90/200\n",
            "1/1 [==============================] - 0s 7ms/step - loss: 1.1853 - accuracy: 0.8276\n",
            "Epoch 91/200\n",
            "1/1 [==============================] - 0s 7ms/step - loss: 1.2027 - accuracy: 0.8276\n",
            "Epoch 92/200\n",
            "1/1 [==============================] - 0s 7ms/step - loss: 1.1223 - accuracy: 0.7931\n",
            "Epoch 93/200\n",
            "1/1 [==============================] - 0s 7ms/step - loss: 1.1579 - accuracy: 0.7241\n",
            "Epoch 94/200\n",
            "1/1 [==============================] - 0s 7ms/step - loss: 1.1549 - accuracy: 0.7931\n",
            "Epoch 95/200\n",
            "1/1 [==============================] - 0s 6ms/step - loss: 1.0460 - accuracy: 0.8621\n",
            "Epoch 96/200\n",
            "1/1 [==============================] - 0s 7ms/step - loss: 0.9959 - accuracy: 0.7586\n",
            "Epoch 97/200\n",
            "1/1 [==============================] - 0s 7ms/step - loss: 1.1464 - accuracy: 0.7931\n",
            "Epoch 98/200\n",
            "1/1 [==============================] - 0s 7ms/step - loss: 1.0893 - accuracy: 0.8276\n",
            "Epoch 99/200\n",
            "1/1 [==============================] - 0s 7ms/step - loss: 0.9754 - accuracy: 0.8276\n",
            "Epoch 100/200\n",
            "1/1 [==============================] - 0s 7ms/step - loss: 0.9697 - accuracy: 0.8276\n",
            "Epoch 101/200\n",
            "1/1 [==============================] - 0s 7ms/step - loss: 1.2392 - accuracy: 0.7586\n",
            "Epoch 102/200\n",
            "1/1 [==============================] - 0s 8ms/step - loss: 0.8965 - accuracy: 0.9655\n",
            "Epoch 103/200\n",
            "1/1 [==============================] - 0s 6ms/step - loss: 0.8484 - accuracy: 0.8621\n",
            "Epoch 104/200\n",
            "1/1 [==============================] - 0s 7ms/step - loss: 0.9801 - accuracy: 0.8276\n",
            "Epoch 105/200\n",
            "1/1 [==============================] - 0s 7ms/step - loss: 1.0579 - accuracy: 0.7931\n",
            "Epoch 106/200\n",
            "1/1 [==============================] - 0s 7ms/step - loss: 0.8472 - accuracy: 0.7931\n",
            "Epoch 107/200\n",
            "1/1 [==============================] - 0s 7ms/step - loss: 0.8647 - accuracy: 0.8276\n",
            "Epoch 108/200\n",
            "1/1 [==============================] - 0s 7ms/step - loss: 0.9987 - accuracy: 0.7931\n",
            "Epoch 109/200\n",
            "1/1 [==============================] - 0s 7ms/step - loss: 0.8729 - accuracy: 0.7586\n",
            "Epoch 110/200\n",
            "1/1 [==============================] - 0s 7ms/step - loss: 1.0867 - accuracy: 0.6552\n",
            "Epoch 111/200\n",
            "1/1 [==============================] - 0s 7ms/step - loss: 0.8802 - accuracy: 0.8966\n",
            "Epoch 112/200\n",
            "1/1 [==============================] - 0s 7ms/step - loss: 0.9489 - accuracy: 0.8276\n",
            "Epoch 113/200\n",
            "1/1 [==============================] - 0s 7ms/step - loss: 0.7568 - accuracy: 0.8966\n",
            "Epoch 114/200\n",
            "1/1 [==============================] - 0s 8ms/step - loss: 0.8239 - accuracy: 0.7931\n",
            "Epoch 115/200\n",
            "1/1 [==============================] - 0s 7ms/step - loss: 0.7705 - accuracy: 0.8621\n",
            "Epoch 116/200\n",
            "1/1 [==============================] - 0s 7ms/step - loss: 0.8112 - accuracy: 0.8276\n",
            "Epoch 117/200\n",
            "1/1 [==============================] - 0s 7ms/step - loss: 0.8723 - accuracy: 0.8621\n",
            "Epoch 118/200\n",
            "1/1 [==============================] - 0s 7ms/step - loss: 0.7893 - accuracy: 0.7931\n",
            "Epoch 119/200\n",
            "1/1 [==============================] - 0s 7ms/step - loss: 0.9081 - accuracy: 0.7586\n",
            "Epoch 120/200\n",
            "1/1 [==============================] - 0s 7ms/step - loss: 0.9119 - accuracy: 0.8276\n",
            "Epoch 121/200\n",
            "1/1 [==============================] - 0s 8ms/step - loss: 0.7714 - accuracy: 0.9310\n",
            "Epoch 122/200\n",
            "1/1 [==============================] - 0s 7ms/step - loss: 0.7802 - accuracy: 0.8621\n",
            "Epoch 123/200\n",
            "1/1 [==============================] - 0s 7ms/step - loss: 0.7682 - accuracy: 0.8966\n",
            "Epoch 124/200\n",
            "1/1 [==============================] - 0s 7ms/step - loss: 0.7873 - accuracy: 0.8621\n",
            "Epoch 125/200\n",
            "1/1 [==============================] - 0s 7ms/step - loss: 0.6969 - accuracy: 0.8621\n",
            "Epoch 126/200\n",
            "1/1 [==============================] - 0s 7ms/step - loss: 0.7659 - accuracy: 0.8621\n",
            "Epoch 127/200\n",
            "1/1 [==============================] - 0s 7ms/step - loss: 1.0283 - accuracy: 0.7931\n",
            "Epoch 128/200\n",
            "1/1 [==============================] - 0s 7ms/step - loss: 0.5933 - accuracy: 0.9655\n",
            "Epoch 129/200\n",
            "1/1 [==============================] - 0s 8ms/step - loss: 0.8500 - accuracy: 0.8621\n",
            "Epoch 130/200\n",
            "1/1 [==============================] - 0s 7ms/step - loss: 0.5780 - accuracy: 0.8966\n",
            "Epoch 131/200\n",
            "1/1 [==============================] - 0s 7ms/step - loss: 0.6892 - accuracy: 0.8621\n",
            "Epoch 132/200\n",
            "1/1 [==============================] - 0s 7ms/step - loss: 0.5995 - accuracy: 0.9310\n",
            "Epoch 133/200\n",
            "1/1 [==============================] - 0s 7ms/step - loss: 0.7008 - accuracy: 0.8276\n",
            "Epoch 134/200\n",
            "1/1 [==============================] - 0s 10ms/step - loss: 0.7168 - accuracy: 0.7241\n",
            "Epoch 135/200\n",
            "1/1 [==============================] - 0s 12ms/step - loss: 0.5824 - accuracy: 0.8966\n",
            "Epoch 136/200\n",
            "1/1 [==============================] - 0s 10ms/step - loss: 0.5894 - accuracy: 0.9655\n",
            "Epoch 137/200\n",
            "1/1 [==============================] - 0s 9ms/step - loss: 0.5519 - accuracy: 1.0000\n",
            "Epoch 138/200\n",
            "1/1 [==============================] - 0s 10ms/step - loss: 0.6871 - accuracy: 0.8276\n",
            "Epoch 139/200\n",
            "1/1 [==============================] - 0s 9ms/step - loss: 0.6530 - accuracy: 0.7931\n",
            "Epoch 140/200\n",
            "1/1 [==============================] - 0s 7ms/step - loss: 0.6038 - accuracy: 0.8966\n",
            "Epoch 141/200\n",
            "1/1 [==============================] - 0s 7ms/step - loss: 0.6150 - accuracy: 0.8966\n",
            "Epoch 142/200\n",
            "1/1 [==============================] - 0s 7ms/step - loss: 0.4155 - accuracy: 1.0000\n",
            "Epoch 143/200\n",
            "1/1 [==============================] - 0s 7ms/step - loss: 0.6780 - accuracy: 0.8621\n",
            "Epoch 144/200\n",
            "1/1 [==============================] - 0s 7ms/step - loss: 0.5502 - accuracy: 0.9310\n",
            "Epoch 145/200\n",
            "1/1 [==============================] - 0s 7ms/step - loss: 0.4583 - accuracy: 0.9655\n",
            "Epoch 146/200\n",
            "1/1 [==============================] - 0s 7ms/step - loss: 0.5133 - accuracy: 0.9310\n",
            "Epoch 147/200\n",
            "1/1 [==============================] - 0s 7ms/step - loss: 0.6648 - accuracy: 0.8621\n",
            "Epoch 148/200\n",
            "1/1 [==============================] - 0s 7ms/step - loss: 0.4427 - accuracy: 1.0000\n",
            "Epoch 149/200\n",
            "1/1 [==============================] - 0s 7ms/step - loss: 0.4634 - accuracy: 0.9655\n",
            "Epoch 150/200\n",
            "1/1 [==============================] - 0s 6ms/step - loss: 0.6503 - accuracy: 0.8621\n",
            "Epoch 151/200\n",
            "1/1 [==============================] - 0s 7ms/step - loss: 0.5069 - accuracy: 0.8966\n",
            "Epoch 152/200\n",
            "1/1 [==============================] - 0s 7ms/step - loss: 0.5555 - accuracy: 0.9655\n",
            "Epoch 153/200\n",
            "1/1 [==============================] - 0s 7ms/step - loss: 0.4223 - accuracy: 1.0000\n",
            "Epoch 154/200\n",
            "1/1 [==============================] - 0s 7ms/step - loss: 0.4456 - accuracy: 0.9655\n",
            "Epoch 155/200\n",
            "1/1 [==============================] - 0s 7ms/step - loss: 0.4430 - accuracy: 0.8966\n",
            "Epoch 156/200\n",
            "1/1 [==============================] - 0s 9ms/step - loss: 0.4202 - accuracy: 0.8966\n",
            "Epoch 157/200\n",
            "1/1 [==============================] - 0s 8ms/step - loss: 0.4657 - accuracy: 0.9655\n",
            "Epoch 158/200\n",
            "1/1 [==============================] - 0s 7ms/step - loss: 0.4909 - accuracy: 0.9655\n",
            "Epoch 159/200\n",
            "1/1 [==============================] - 0s 7ms/step - loss: 0.4202 - accuracy: 0.9310\n",
            "Epoch 160/200\n",
            "1/1 [==============================] - 0s 7ms/step - loss: 0.3718 - accuracy: 0.9310\n",
            "Epoch 161/200\n",
            "1/1 [==============================] - 0s 8ms/step - loss: 0.3049 - accuracy: 0.9655\n",
            "Epoch 162/200\n",
            "1/1 [==============================] - 0s 7ms/step - loss: 0.5183 - accuracy: 0.8966\n",
            "Epoch 163/200\n",
            "1/1 [==============================] - 0s 8ms/step - loss: 0.4309 - accuracy: 0.9310\n",
            "Epoch 164/200\n",
            "1/1 [==============================] - 0s 9ms/step - loss: 0.3697 - accuracy: 0.9655\n",
            "Epoch 165/200\n",
            "1/1 [==============================] - 0s 9ms/step - loss: 0.4023 - accuracy: 0.9655\n",
            "Epoch 166/200\n",
            "1/1 [==============================] - 0s 9ms/step - loss: 0.3660 - accuracy: 0.9655\n",
            "Epoch 167/200\n",
            "1/1 [==============================] - 0s 7ms/step - loss: 0.2794 - accuracy: 1.0000\n",
            "Epoch 168/200\n",
            "1/1 [==============================] - 0s 6ms/step - loss: 0.5301 - accuracy: 0.8966\n",
            "Epoch 169/200\n",
            "1/1 [==============================] - 0s 6ms/step - loss: 0.3879 - accuracy: 0.8966\n",
            "Epoch 170/200\n",
            "1/1 [==============================] - 0s 8ms/step - loss: 0.3814 - accuracy: 0.9310\n",
            "Epoch 171/200\n",
            "1/1 [==============================] - 0s 10ms/step - loss: 0.3382 - accuracy: 0.8966\n",
            "Epoch 172/200\n",
            "1/1 [==============================] - 0s 7ms/step - loss: 0.2007 - accuracy: 1.0000\n",
            "Epoch 173/200\n",
            "1/1 [==============================] - 0s 7ms/step - loss: 0.3341 - accuracy: 0.9310\n",
            "Epoch 174/200\n",
            "1/1 [==============================] - 0s 6ms/step - loss: 0.4025 - accuracy: 0.9310\n",
            "Epoch 175/200\n",
            "1/1 [==============================] - 0s 7ms/step - loss: 0.3731 - accuracy: 0.9310\n",
            "Epoch 176/200\n",
            "1/1 [==============================] - 0s 7ms/step - loss: 0.2808 - accuracy: 1.0000\n",
            "Epoch 177/200\n",
            "1/1 [==============================] - 0s 7ms/step - loss: 0.4710 - accuracy: 0.9310\n",
            "Epoch 178/200\n",
            "1/1 [==============================] - 0s 6ms/step - loss: 0.3342 - accuracy: 0.8966\n",
            "Epoch 179/200\n",
            "1/1 [==============================] - 0s 6ms/step - loss: 0.3860 - accuracy: 0.8966\n",
            "Epoch 180/200\n",
            "1/1 [==============================] - 0s 7ms/step - loss: 0.3512 - accuracy: 0.8966\n",
            "Epoch 181/200\n",
            "1/1 [==============================] - 0s 7ms/step - loss: 0.2692 - accuracy: 0.8966\n",
            "Epoch 182/200\n",
            "1/1 [==============================] - 0s 7ms/step - loss: 0.3934 - accuracy: 0.9310\n",
            "Epoch 183/200\n",
            "1/1 [==============================] - 0s 7ms/step - loss: 0.3598 - accuracy: 0.8966\n",
            "Epoch 184/200\n",
            "1/1 [==============================] - 0s 6ms/step - loss: 0.3601 - accuracy: 0.9655\n",
            "Epoch 185/200\n",
            "1/1 [==============================] - 0s 9ms/step - loss: 0.3039 - accuracy: 0.9310\n",
            "Epoch 186/200\n",
            "1/1 [==============================] - 0s 7ms/step - loss: 0.2693 - accuracy: 0.9655\n",
            "Epoch 187/200\n",
            "1/1 [==============================] - 0s 7ms/step - loss: 0.3938 - accuracy: 0.9310\n",
            "Epoch 188/200\n",
            "1/1 [==============================] - 0s 7ms/step - loss: 0.2704 - accuracy: 1.0000\n",
            "Epoch 189/200\n",
            "1/1 [==============================] - 0s 7ms/step - loss: 0.3904 - accuracy: 0.9310\n",
            "Epoch 190/200\n",
            "1/1 [==============================] - 0s 7ms/step - loss: 0.2875 - accuracy: 0.9655\n",
            "Epoch 191/200\n",
            "1/1 [==============================] - 0s 7ms/step - loss: 0.3154 - accuracy: 0.9655\n",
            "Epoch 192/200\n",
            "1/1 [==============================] - 0s 7ms/step - loss: 0.2500 - accuracy: 0.9655\n",
            "Epoch 193/200\n",
            "1/1 [==============================] - 0s 7ms/step - loss: 0.2326 - accuracy: 1.0000\n",
            "Epoch 194/200\n",
            "1/1 [==============================] - 0s 7ms/step - loss: 0.3574 - accuracy: 0.9655\n",
            "Epoch 195/200\n",
            "1/1 [==============================] - 0s 12ms/step - loss: 0.2479 - accuracy: 0.9655\n",
            "Epoch 196/200\n",
            "1/1 [==============================] - 0s 8ms/step - loss: 0.2474 - accuracy: 0.9655\n",
            "Epoch 197/200\n",
            "1/1 [==============================] - 0s 7ms/step - loss: 0.2735 - accuracy: 0.9655\n",
            "Epoch 198/200\n",
            "1/1 [==============================] - 0s 7ms/step - loss: 0.2865 - accuracy: 0.9655\n",
            "Epoch 199/200\n",
            "1/1 [==============================] - 0s 7ms/step - loss: 0.2448 - accuracy: 1.0000\n",
            "Epoch 200/200\n",
            "1/1 [==============================] - 0s 6ms/step - loss: 0.4496 - accuracy: 0.8621\n"
          ]
        }
      ],
      "source": [
        "hist = model.fit(x=train_X, y=train_y, epochs=200)"
      ]
    },
    {
      "cell_type": "code",
      "execution_count": null,
      "metadata": {
        "id": "Pb1GZDjGRP6Q",
        "colab": {
          "base_uri": "https://localhost:8080/",
          "height": 430
        },
        "outputId": "5a4b7e4d-4a1d-4141-b0f8-3c54fa233c9f"
      },
      "outputs": [
        {
          "output_type": "display_data",
          "data": {
            "text/plain": [
              "<Figure size 640x480 with 1 Axes>"
            ],
            "image/png": "[encoded data removed]"
          },
          "metadata": {}
        }
      ],
      "source": [
        "import matplotlib.pyplot as plt\n",
        "import seaborn as sns\n",
        "\n",
        "# Entrenamiento\n",
        "epoch_count = range(1, len(hist.history['accuracy']) + 1)\n",
        "sns.lineplot(x=epoch_count,  y=hist.history['accuracy'], label='train')\n",
        "plt.show()"
      ]
    },
    {
      "cell_type": "code",
      "execution_count": null,
      "metadata": {
        "id": "eTVDnrV0mDRf"
      },
      "outputs": [],
      "source": [
        "# Guardar lo necesario para poder re-utilizar este modelo en el futuro\n",
        "# el vocabulario utilizado (words)\n",
        "# las posibles clases\n",
        "# el modelo\n",
        "import pickle\n",
        "pickle.dump(words, open('words.pkl','wb'))\n",
        "pickle.dump(classes, open('classes.pkl','wb'))\n",
        "model.save('chatbot_model.h5')"
      ]
    },
    {
      "cell_type": "markdown",
      "metadata": {
        "id": "TnD1WvhBfVYR"
      },
      "source": [
        "### 6 - Testing y validación"
      ]
    },
    {
      "cell_type": "code",
      "execution_count": null,
      "metadata": {
        "id": "kqBdSGt8Orkm"
      },
      "outputs": [],
      "source": [
        "# convertir texto de entrada del usuario a tokens\n",
        "def text_to_tokens(text):\n",
        "    lemma_tokens = []\n",
        "    tokens = nlp(preprocess_clean_text(text.lower()))\n",
        "    for token in tokens:\n",
        "        lemma_tokens.append(token.lemma_)\n",
        "    #print(lemma_tokens)\n",
        "    return lemma_tokens\n",
        "\n",
        "# transformar el texto de entrada tokenizado a una representación OHE\n",
        "def bag_of_words(text, vocab):\n",
        "    tokens = text_to_tokens(text)\n",
        "    bow = [0] * len(vocab)\n",
        "    for w in tokens:\n",
        "        for idx, word in enumerate(vocab):\n",
        "            if word == w:\n",
        "                bow[idx] = 1\n",
        "    #print(bow)\n",
        "    return np.array(bow)\n",
        "\n",
        "# usar modelo con la entrada en OHE y los labels posibles (tags)\n",
        "def pred_class(text, vocab, labels):\n",
        "    bow = bag_of_words(text, vocab)\n",
        "    words_recognized = sum(bow)\n",
        "\n",
        "    return_list = []\n",
        "    if words_recognized > 0: # sólo si reconoció alguna palabra del vocabulario\n",
        "        result = model.predict(np.array([bow]))[0] # es un array de softmax\n",
        "        thresh = 0.2\n",
        "        # filtrar aquellas entradas menores al umbral `thresh`\n",
        "        y_pred = [[idx, res] for idx, res in enumerate(result) if res > thresh]\n",
        "        # ordenar keys de acuerdo al valor softmax\n",
        "        y_pred.sort(key=lambda x: x[1], reverse=True)\n",
        "\n",
        "        # return_list es una lista de los labels de mayor a menor\n",
        "        for r in y_pred:\n",
        "            return_list.append(labels[r[0]])\n",
        "            #print(labels[r[0]], r[1])\n",
        "\n",
        "    # si no reconoció palabras del vocabulario se devuelve una lista vacía\n",
        "    return return_list\n",
        "\n",
        "# obtener una respuesta predeterminada\n",
        "def get_response(intents_list, intents_json):\n",
        "    tag = intents_list[0] # tomar el tag con el mejor valor softmax\n",
        "    list_of_intents = intents_json[\"intents\"] # intents_json es todo el dataset\n",
        "    for i in list_of_intents:\n",
        "        if i[\"tag\"] == tag: # buscar el tag correspoindiente y dar una respuesta predeterminada aleatoria\n",
        "            result = random.choice(i[\"responses\"])\n",
        "            break\n",
        "    return result"
      ]
    },
    {
      "cell_type": "code",
      "execution_count": null,
      "metadata": {
        "id": "Xp1vXQwdOvl7",
        "colab": {
          "base_uri": "https://localhost:8080/",
          "height": 1000
        },
        "outputId": "0c8c708d-74c7-445b-aa7c-9ad6627261cb"
      },
      "outputs": [
        {
          "output_type": "stream",
          "name": "stdout",
          "text": [
            "hola\n",
            "Q: hola\n",
            "1/1 [==============================] - 0s 95ms/step\n",
            "BOT: Hola\n",
            "Cómo hago una denuncia?\n",
            "Q: Cómo hago una denuncia?\n",
            "1/1 [==============================] - 0s 15ms/step\n",
            "BOT: Contactanos: 1) A través del correo electrónico:  generoutnmendoza@gmail.com, 2) A través del formulario online que se encuentra. Las denuncias pueden ser efectuadas por cualquier persona a la que asisten los derechos vulnerados según las situaciones comprendidas, ya sea directamente o por haber conocido o presenciado alguna de las situaciones descriptas. Durante la recepción de las denuncias, se garantiza: respeto y confidencialidad, gratuidad en todo el proceso administrativo, contención, la no revictimización, diligencia y celeridad en el proceso.\n",
            "garantizan confidencialidad?\n",
            "Q: garantizan confidencialidad?\n",
            "BOT: Perdón, no comprendo la pregunta.\n",
            "Que hace la comision'\n",
            "Q: Que hace la comision'\n",
            "1/1 [==============================] - 0s 14ms/step\n",
            "BOT: Las principales funciones de la Comisión son: 1) Recibir consultas o denuncias de aquellas situaciones contempladas por el protocolo y realizar las entrevistas personales a las personas afectadas. 2) Llevar registro de los casos y de las intervenciones institucionales velando por la confidencialidad de los datos que en ellos se consignan, elaborar informes institucionales, brindar asesoramiento y solicitar intervenciones de las áreas que correspondan. 3) Elaborar los expedientes y brindar asesoramiento a tribunales académicos u órganos sumariantes en los casos en los que los hechos por los que se solicita la sanción estén alcanzados por este protocolo. 4)Proponer y llevar adelante acciones tendientes a dar pleno cumplimiento del protocolo, entre ellas, capacitaciones y programas de prevención. \n",
            "desde que año están'\n",
            "Q: desde que año están'\n",
            "1/1 [==============================] - 0s 14ms/step\n",
            "BOT: Buenos días\n",
            "desde que año están?\n",
            "Q: desde que año están?\n",
            "1/1 [==============================] - 0s 13ms/step\n",
            "BOT: Hola\n",
            "con quien puedo hablar de la comisión?\n",
            "Q: con quien puedo hablar de la comisión?\n",
            "1/1 [==============================] - 0s 15ms/step\n",
            "BOT: La persona referente de la Comisión Asesora de Género y Diversidad es la Lic. Georgina Sanchez\n",
            "cómo contacto a Georgina?\n",
            "Q: cómo contacto a Georgina?\n",
            "1/1 [==============================] - 0s 16ms/step\n",
            "BOT: Hola\n",
            "cómo les puedo escribir?\n",
            "Q: cómo les puedo escribir?\n",
            "1/1 [==============================] - 0s 14ms/step\n",
            "BOT: Email institucional generoydiversidad@frm.utn.edu.ar, Denuncias: generoutnmendoza@gmail.com, Whatsapp: +54 9 2616 15-4327. También estamos en Facebook en https://www.facebook.com/people/Consejer%C3%ADa-de-g%C3%A9nero-UTN-FRM/100063749043249/ y también en INSTAGRAM en https://www.instagram.com/consejeriadegeneroutnfrm/\n"
          ]
        },
        {
          "output_type": "error",
          "ename": "KeyboardInterrupt",
          "evalue": "ignored",
          "traceback": [
            "\u001b[0;31m---------------------------------------------------------------------------\u001b[0m",
            "\u001b[0;31mKeyboardInterrupt\u001b[0m                         Traceback (most recent call last)",
            "\u001b[0;32m<ipython-input-27-73fbfc2e4d81>\u001b[0m in \u001b[0;36m<cell line: 1>\u001b[0;34m()\u001b[0m\n\u001b[1;32m      1\u001b[0m \u001b[0;32mwhile\u001b[0m \u001b[0;32mTrue\u001b[0m\u001b[0;34m:\u001b[0m\u001b[0;34m\u001b[0m\u001b[0;34m\u001b[0m\u001b[0m\n\u001b[1;32m      2\u001b[0m     \u001b[0;31m# pedir input al usuario\u001b[0m\u001b[0;34m\u001b[0m\u001b[0;34m\u001b[0m\u001b[0m\n\u001b[0;32m----> 3\u001b[0;31m     \u001b[0mmessage\u001b[0m \u001b[0;34m=\u001b[0m \u001b[0minput\u001b[0m\u001b[0;34m(\u001b[0m\u001b[0;34m\"\"\u001b[0m\u001b[0;34m)\u001b[0m\u001b[0;34m\u001b[0m\u001b[0;34m\u001b[0m\u001b[0m\n\u001b[0m\u001b[1;32m      4\u001b[0m     \u001b[0mprint\u001b[0m\u001b[0;34m(\u001b[0m\u001b[0;34m\"Q:\"\u001b[0m\u001b[0;34m,\u001b[0m \u001b[0mmessage\u001b[0m\u001b[0;34m)\u001b[0m\u001b[0;34m\u001b[0m\u001b[0;34m\u001b[0m\u001b[0m\n\u001b[1;32m      5\u001b[0m \u001b[0;34m\u001b[0m\u001b[0m\n",
            "\u001b[0;32m/usr/local/lib/python3.10/dist-packages/ipykernel/kernelbase.py\u001b[0m in \u001b[0;36mraw_input\u001b[0;34m(self, prompt)\u001b[0m\n\u001b[1;32m    849\u001b[0m                 \u001b[0;34m\"raw_input was called, but this frontend does not support input requests.\"\u001b[0m\u001b[0;34m\u001b[0m\u001b[0;34m\u001b[0m\u001b[0m\n\u001b[1;32m    850\u001b[0m             )\n\u001b[0;32m--> 851\u001b[0;31m         return self._input_request(str(prompt),\n\u001b[0m\u001b[1;32m    852\u001b[0m             \u001b[0mself\u001b[0m\u001b[0;34m.\u001b[0m\u001b[0m_parent_ident\u001b[0m\u001b[0;34m,\u001b[0m\u001b[0;34m\u001b[0m\u001b[0;34m\u001b[0m\u001b[0m\n\u001b[1;32m    853\u001b[0m             \u001b[0mself\u001b[0m\u001b[0;34m.\u001b[0m\u001b[0m_parent_header\u001b[0m\u001b[0;34m,\u001b[0m\u001b[0;34m\u001b[0m\u001b[0;34m\u001b[0m\u001b[0m\n",
            "\u001b[0;32m/usr/local/lib/python3.10/dist-packages/ipykernel/kernelbase.py\u001b[0m in \u001b[0;36m_input_request\u001b[0;34m(self, prompt, ident, parent, password)\u001b[0m\n\u001b[1;32m    893\u001b[0m             \u001b[0;32mexcept\u001b[0m \u001b[0mKeyboardInterrupt\u001b[0m\u001b[0;34m:\u001b[0m\u001b[0;34m\u001b[0m\u001b[0;34m\u001b[0m\u001b[0m\n\u001b[1;32m    894\u001b[0m                 \u001b[0;31m# re-raise KeyboardInterrupt, to truncate traceback\u001b[0m\u001b[0;34m\u001b[0m\u001b[0;34m\u001b[0m\u001b[0m\n\u001b[0;32m--> 895\u001b[0;31m                 \u001b[0;32mraise\u001b[0m \u001b[0mKeyboardInterrupt\u001b[0m\u001b[0;34m(\u001b[0m\u001b[0;34m\"Interrupted by user\"\u001b[0m\u001b[0;34m)\u001b[0m \u001b[0;32mfrom\u001b[0m \u001b[0;32mNone\u001b[0m\u001b[0;34m\u001b[0m\u001b[0;34m\u001b[0m\u001b[0m\n\u001b[0m\u001b[1;32m    896\u001b[0m             \u001b[0;32mexcept\u001b[0m \u001b[0mException\u001b[0m \u001b[0;32mas\u001b[0m \u001b[0me\u001b[0m\u001b[0;34m:\u001b[0m\u001b[0;34m\u001b[0m\u001b[0;34m\u001b[0m\u001b[0m\n\u001b[1;32m    897\u001b[0m                 \u001b[0mself\u001b[0m\u001b[0;34m.\u001b[0m\u001b[0mlog\u001b[0m\u001b[0;34m.\u001b[0m\u001b[0mwarning\u001b[0m\u001b[0;34m(\u001b[0m\u001b[0;34m\"Invalid Message:\"\u001b[0m\u001b[0;34m,\u001b[0m \u001b[0mexc_info\u001b[0m\u001b[0;34m=\u001b[0m\u001b[0;32mTrue\u001b[0m\u001b[0;34m)\u001b[0m\u001b[0;34m\u001b[0m\u001b[0;34m\u001b[0m\u001b[0m\n",
            "\u001b[0;31mKeyboardInterrupt\u001b[0m: Interrupted by user"
          ]
        }
      ],
      "source": [
        "while True:\n",
        "    # pedir input al usuario\n",
        "    message = input(\"\")\n",
        "    print(\"Q:\", message)\n",
        "\n",
        "    intents = pred_class(message, words, classes)\n",
        "    if len(intents) > 0:\n",
        "        result = get_response(intents, dataset)\n",
        "        print(\"BOT:\", result)\n",
        "    else: # si no hubo ningún resultado que supere el umbral\n",
        "        print(\"BOT: Perdón, no comprendo la pregunta.\")\n"
      ]
    },
    {
      "cell_type": "markdown",
      "metadata": {
        "id": "ayatkwp4fYQx"
      },
      "source": [
        "### 7 - Conclusiones\n",
        "El bot tal cual está definido es capaz de responder a bastantes tipos de preguntas con gran precisión. Algunas técnicas que podrían ensayarse para evaluar como impactan en el sistema son:\n",
        "- Filtrar los stop words\n",
        "- Utilizar TF-IDF en vez de bag of words"
      ]
    },
    {
      "cell_type": "markdown",
      "metadata": {
        "id": "2uTY5xbOSefI"
      },
      "source": [
        "### Alumno"
      ]
    },
    {
      "cell_type": "markdown",
      "metadata": {
        "id": "fX0gCLFnSefJ"
      },
      "source": [
        "- Tomar un ejemplo de los bots utilizados (uno de los dos) y construir el propio.\n",
        "- Sacar conclusiones de los resultados.\n",
        "\n",
        "__IMPORTANTE__: Recuerde para la entrega del ejercicio debe quedar registrado en el colab las preguntas y las respuestas del BOT para que podamos evaluar el desempeño final."
      ]
    }
  ],
  "metadata": {
    "colab": {
      "provenance": [],
      "include_colab_link": true
    },
    "kernelspec": {
      "display_name": "Python 3 (ipykernel)",
      "language": "python",
      "name": "python3"
    },
    "language_info": {
      "codemirror_mode": {
        "name": "ipython",
        "version": 3
      },
      "file_extension": ".py",
      "mimetype": "text/x-python",
      "name": "python",
      "nbconvert_exporter": "python",
      "pygments_lexer": "ipython3",
      "version": "3.10.6"
    },
    "widgets": {
      "application/vnd.jupyter.widget-state+json": {
        "5612d57f5e0646059187e768fba5250f": {
          "model_module": "@jupyter-widgets/controls",
          "model_name": "HBoxModel",
          "model_module_version": "1.5.0",
          "state": {
            "_dom_classes": [],
            "_model_module": "@jupyter-widgets/controls",
            "_model_module_version": "1.5.0",
            "_model_name": "HBoxModel",
            "_view_count": null,
            "_view_module": "@jupyter-widgets/controls",
            "_view_module_version": "1.5.0",
            "_view_name": "HBoxView",
            "box_style": "",
            "children": [
              "IPY_MODEL_7873b18ef4d343f2ad21d8f40c367a44",
              "IPY_MODEL_acff1852dbf04c7ab6b7d24028a5844b",
              "IPY_MODEL_8227b6246fea4be1aa2a4a5ae84cebae"
            ],
            "layout": "IPY_MODEL_4425f117458a4d1984b48daaf96136bc"
          }
        },
        "7873b18ef4d343f2ad21d8f40c367a44": {
          "model_module": "@jupyter-widgets/controls",
          "model_name": "HTMLModel",
          "model_module_version": "1.5.0",
          "state": {
            "_dom_classes": [],
            "_model_module": "@jupyter-widgets/controls",
            "_model_module_version": "1.5.0",
            "_model_name": "HTMLModel",
            "_view_count": null,
            "_view_module": "@jupyter-widgets/controls",
            "_view_module_version": "1.5.0",
            "_view_name": "HTMLView",
            "description": "",
            "description_tooltip": null,
            "layout": "IPY_MODEL_780d1a07e4694721bb517c366dd5bc4e",
            "placeholder": "​",
            "style": "IPY_MODEL_45d4c47dfd6b4b13a12c29dad5db6375",
            "value": "Downloading https://raw.githubusercontent.com/stanfordnlp/stanza-resources/main/resources_1.5.0.json: "
          }
        },
        "acff1852dbf04c7ab6b7d24028a5844b": {
          "model_module": "@jupyter-widgets/controls",
          "model_name": "FloatProgressModel",
          "model_module_version": "1.5.0",
          "state": {
            "_dom_classes": [],
            "_model_module": "@jupyter-widgets/controls",
            "_model_module_version": "1.5.0",
            "_model_name": "FloatProgressModel",
            "_view_count": null,
            "_view_module": "@jupyter-widgets/controls",
            "_view_module_version": "1.5.0",
            "_view_name": "ProgressView",
            "bar_style": "success",
            "description": "",
            "description_tooltip": null,
            "layout": "IPY_MODEL_7bd37f2982494d56b83a99b4987c03e3",
            "max": 30101,
            "min": 0,
            "orientation": "horizontal",
            "style": "IPY_MODEL_578984d2681f45b784a04ce5f04de4ef",
            "value": 30101
          }
        },
        "8227b6246fea4be1aa2a4a5ae84cebae": {
          "model_module": "@jupyter-widgets/controls",
          "model_name": "HTMLModel",
          "model_module_version": "1.5.0",
          "state": {
            "_dom_classes": [],
            "_model_module": "@jupyter-widgets/controls",
            "_model_module_version": "1.5.0",
            "_model_name": "HTMLModel",
            "_view_count": null,
            "_view_module": "@jupyter-widgets/controls",
            "_view_module_version": "1.5.0",
            "_view_name": "HTMLView",
            "description": "",
            "description_tooltip": null,
            "layout": "IPY_MODEL_b490a482699548f38dcb8fc7dbe805a6",
            "placeholder": "​",
            "style": "IPY_MODEL_d66cac7ff39241b18ab79690420811c4",
            "value": " 216k/? [00:00&lt;00:00, 10.4MB/s]"
          }
        },
        "4425f117458a4d1984b48daaf96136bc": {
          "model_module": "@jupyter-widgets/base",
          "model_name": "LayoutModel",
          "model_module_version": "1.2.0",
          "state": {
            "_model_module": "@jupyter-widgets/base",
            "_model_module_version": "1.2.0",
            "_model_name": "LayoutModel",
            "_view_count": null,
            "_view_module": "@jupyter-widgets/base",
            "_view_module_version": "1.2.0",
            "_view_name": "LayoutView",
            "align_content": null,
            "align_items": null,
            "align_self": null,
            "border": null,
            "bottom": null,
            "display": null,
            "flex": null,
            "flex_flow": null,
            "grid_area": null,
            "grid_auto_columns": null,
            "grid_auto_flow": null,
            "grid_auto_rows": null,
            "grid_column": null,
            "grid_gap": null,
            "grid_row": null,
            "grid_template_areas": null,
            "grid_template_columns": null,
            "grid_template_rows": null,
            "height": null,
            "justify_content": null,
            "justify_items": null,
            "left": null,
            "margin": null,
            "max_height": null,
            "max_width": null,
            "min_height": null,
            "min_width": null,
            "object_fit": null,
            "object_position": null,
            "order": null,
            "overflow": null,
            "overflow_x": null,
            "overflow_y": null,
            "padding": null,
            "right": null,
            "top": null,
            "visibility": null,
            "width": null
          }
        },
        "780d1a07e4694721bb517c366dd5bc4e": {
          "model_module": "@jupyter-widgets/base",
          "model_name": "LayoutModel",
          "model_module_version": "1.2.0",
          "state": {
            "_model_module": "@jupyter-widgets/base",
            "_model_module_version": "1.2.0",
            "_model_name": "LayoutModel",
            "_view_count": null,
            "_view_module": "@jupyter-widgets/base",
            "_view_module_version": "1.2.0",
            "_view_name": "LayoutView",
            "align_content": null,
            "align_items": null,
            "align_self": null,
            "border": null,
            "bottom": null,
            "display": null,
            "flex": null,
            "flex_flow": null,
            "grid_area": null,
            "grid_auto_columns": null,
            "grid_auto_flow": null,
            "grid_auto_rows": null,
            "grid_column": null,
            "grid_gap": null,
            "grid_row": null,
            "grid_template_areas": null,
            "grid_template_columns": null,
            "grid_template_rows": null,
            "height": null,
            "justify_content": null,
            "justify_items": null,
            "left": null,
            "margin": null,
            "max_height": null,
            "max_width": null,
            "min_height": null,
            "min_width": null,
            "object_fit": null,
            "object_position": null,
            "order": null,
            "overflow": null,
            "overflow_x": null,
            "overflow_y": null,
            "padding": null,
            "right": null,
            "top": null,
            "visibility": null,
            "width": null
          }
        },
        "45d4c47dfd6b4b13a12c29dad5db6375": {
          "model_module": "@jupyter-widgets/controls",
          "model_name": "DescriptionStyleModel",
          "model_module_version": "1.5.0",
          "state": {
            "_model_module": "@jupyter-widgets/controls",
            "_model_module_version": "1.5.0",
            "_model_name": "DescriptionStyleModel",
            "_view_count": null,
            "_view_module": "@jupyter-widgets/base",
            "_view_module_version": "1.2.0",
            "_view_name": "StyleView",
            "description_width": ""
          }
        },
        "7bd37f2982494d56b83a99b4987c03e3": {
          "model_module": "@jupyter-widgets/base",
          "model_name": "LayoutModel",
          "model_module_version": "1.2.0",
          "state": {
            "_model_module": "@jupyter-widgets/base",
            "_model_module_version": "1.2.0",
            "_model_name": "LayoutModel",
            "_view_count": null,
            "_view_module": "@jupyter-widgets/base",
            "_view_module_version": "1.2.0",
            "_view_name": "LayoutView",
            "align_content": null,
            "align_items": null,
            "align_self": null,
            "border": null,
            "bottom": null,
            "display": null,
            "flex": null,
            "flex_flow": null,
            "grid_area": null,
            "grid_auto_columns": null,
            "grid_auto_flow": null,
            "grid_auto_rows": null,
            "grid_column": null,
            "grid_gap": null,
            "grid_row": null,
            "grid_template_areas": null,
            "grid_template_columns": null,
            "grid_template_rows": null,
            "height": null,
            "justify_content": null,
            "justify_items": null,
            "left": null,
            "margin": null,
            "max_height": null,
            "max_width": null,
            "min_height": null,
            "min_width": null,
            "object_fit": null,
            "object_position": null,
            "order": null,
            "overflow": null,
            "overflow_x": null,
            "overflow_y": null,
            "padding": null,
            "right": null,
            "top": null,
            "visibility": null,
            "width": null
          }
        },
        "578984d2681f45b784a04ce5f04de4ef": {
          "model_module": "@jupyter-widgets/controls",
          "model_name": "ProgressStyleModel",
          "model_module_version": "1.5.0",
          "state": {
            "_model_module": "@jupyter-widgets/controls",
            "_model_module_version": "1.5.0",
            "_model_name": "ProgressStyleModel",
            "_view_count": null,
            "_view_module": "@jupyter-widgets/base",
            "_view_module_version": "1.2.0",
            "_view_name": "StyleView",
            "bar_color": null,
            "description_width": ""
          }
        },
        "b490a482699548f38dcb8fc7dbe805a6": {
          "model_module": "@jupyter-widgets/base",
          "model_name": "LayoutModel",
          "model_module_version": "1.2.0",
          "state": {
            "_model_module": "@jupyter-widgets/base",
            "_model_module_version": "1.2.0",
            "_model_name": "LayoutModel",
            "_view_count": null,
            "_view_module": "@jupyter-widgets/base",
            "_view_module_version": "1.2.0",
            "_view_name": "LayoutView",
            "align_content": null,
            "align_items": null,
            "align_self": null,
            "border": null,
            "bottom": null,
            "display": null,
            "flex": null,
            "flex_flow": null,
            "grid_area": null,
            "grid_auto_columns": null,
            "grid_auto_flow": null,
            "grid_auto_rows": null,
            "grid_column": null,
            "grid_gap": null,
            "grid_row": null,
            "grid_template_areas": null,
            "grid_template_columns": null,
            "grid_template_rows": null,
            "height": null,
            "justify_content": null,
            "justify_items": null,
            "left": null,
            "margin": null,
            "max_height": null,
            "max_width": null,
            "min_height": null,
            "min_width": null,
            "object_fit": null,
            "object_position": null,
            "order": null,
            "overflow": null,
            "overflow_x": null,
            "overflow_y": null,
            "padding": null,
            "right": null,
            "top": null,
            "visibility": null,
            "width": null
          }
        },
        "d66cac7ff39241b18ab79690420811c4": {
          "model_module": "@jupyter-widgets/controls",
          "model_name": "DescriptionStyleModel",
          "model_module_version": "1.5.0",
          "state": {
            "_model_module": "@jupyter-widgets/controls",
            "_model_module_version": "1.5.0",
            "_model_name": "DescriptionStyleModel",
            "_view_count": null,
            "_view_module": "@jupyter-widgets/base",
            "_view_module_version": "1.2.0",
            "_view_name": "StyleView",
            "description_width": ""
          }
        },
        "13e717d3bc824060be8ec83967b008bb": {
          "model_module": "@jupyter-widgets/controls",
          "model_name": "HBoxModel",
          "model_module_version": "1.5.0",
          "state": {
            "_dom_classes": [],
            "_model_module": "@jupyter-widgets/controls",
            "_model_module_version": "1.5.0",
            "_model_name": "HBoxModel",
            "_view_count": null,
            "_view_module": "@jupyter-widgets/controls",
            "_view_module_version": "1.5.0",
            "_view_name": "HBoxView",
            "box_style": "",
            "children": [
              "IPY_MODEL_01abea900b224aa3b0f17094b31a6907",
              "IPY_MODEL_4f9e0283af544949affe03cc254dae43",
              "IPY_MODEL_6d6f6108d88d41238cb1a3e8e06f1f08"
            ],
            "layout": "IPY_MODEL_15ede1d6f3c74c41bef4b688b97e7cf0"
          }
        },
        "01abea900b224aa3b0f17094b31a6907": {
          "model_module": "@jupyter-widgets/controls",
          "model_name": "HTMLModel",
          "model_module_version": "1.5.0",
          "state": {
            "_dom_classes": [],
            "_model_module": "@jupyter-widgets/controls",
            "_model_module_version": "1.5.0",
            "_model_name": "HTMLModel",
            "_view_count": null,
            "_view_module": "@jupyter-widgets/controls",
            "_view_module_version": "1.5.0",
            "_view_name": "HTMLView",
            "description": "",
            "description_tooltip": null,
            "layout": "IPY_MODEL_7bd11ad255c846edb5cb883991fffe1f",
            "placeholder": "​",
            "style": "IPY_MODEL_01e559f3ff5b4f9a914a175b731c8da8",
            "value": "Downloading https://raw.githubusercontent.com/stanfordnlp/stanza-resources/main/resources_1.5.0.json: "
          }
        },
        "4f9e0283af544949affe03cc254dae43": {
          "model_module": "@jupyter-widgets/controls",
          "model_name": "FloatProgressModel",
          "model_module_version": "1.5.0",
          "state": {
            "_dom_classes": [],
            "_model_module": "@jupyter-widgets/controls",
            "_model_module_version": "1.5.0",
            "_model_name": "FloatProgressModel",
            "_view_count": null,
            "_view_module": "@jupyter-widgets/controls",
            "_view_module_version": "1.5.0",
            "_view_name": "ProgressView",
            "bar_style": "success",
            "description": "",
            "description_tooltip": null,
            "layout": "IPY_MODEL_9bcbb505310e4bc691507db93ac89166",
            "max": 30101,
            "min": 0,
            "orientation": "horizontal",
            "style": "IPY_MODEL_17f80240f28d48a0a4b85d61cc470512",
            "value": 30101
          }
        },
        "6d6f6108d88d41238cb1a3e8e06f1f08": {
          "model_module": "@jupyter-widgets/controls",
          "model_name": "HTMLModel",
          "model_module_version": "1.5.0",
          "state": {
            "_dom_classes": [],
            "_model_module": "@jupyter-widgets/controls",
            "_model_module_version": "1.5.0",
            "_model_name": "HTMLModel",
            "_view_count": null,
            "_view_module": "@jupyter-widgets/controls",
            "_view_module_version": "1.5.0",
            "_view_name": "HTMLView",
            "description": "",
            "description_tooltip": null,
            "layout": "IPY_MODEL_f63a7a7bb42f45e3b85802140a83f37b",
            "placeholder": "​",
            "style": "IPY_MODEL_3db399e1ce3f4d1ca61d0e0890882404",
            "value": " 216k/? [00:00&lt;00:00, 6.96MB/s]"
          }
        },
        "15ede1d6f3c74c41bef4b688b97e7cf0": {
          "model_module": "@jupyter-widgets/base",
          "model_name": "LayoutModel",
          "model_module_version": "1.2.0",
          "state": {
            "_model_module": "@jupyter-widgets/base",
            "_model_module_version": "1.2.0",
            "_model_name": "LayoutModel",
            "_view_count": null,
            "_view_module": "@jupyter-widgets/base",
            "_view_module_version": "1.2.0",
            "_view_name": "LayoutView",
            "align_content": null,
            "align_items": null,
            "align_self": null,
            "border": null,
            "bottom": null,
            "display": null,
            "flex": null,
            "flex_flow": null,
            "grid_area": null,
            "grid_auto_columns": null,
            "grid_auto_flow": null,
            "grid_auto_rows": null,
            "grid_column": null,
            "grid_gap": null,
            "grid_row": null,
            "grid_template_areas": null,
            "grid_template_columns": null,
            "grid_template_rows": null,
            "height": null,
            "justify_content": null,
            "justify_items": null,
            "left": null,
            "margin": null,
            "max_height": null,
            "max_width": null,
            "min_height": null,
            "min_width": null,
            "object_fit": null,
            "object_position": null,
            "order": null,
            "overflow": null,
            "overflow_x": null,
            "overflow_y": null,
            "padding": null,
            "right": null,
            "top": null,
            "visibility": null,
            "width": null
          }
        },
        "7bd11ad255c846edb5cb883991fffe1f": {
          "model_module": "@jupyter-widgets/base",
          "model_name": "LayoutModel",
          "model_module_version": "1.2.0",
          "state": {
            "_model_module": "@jupyter-widgets/base",
            "_model_module_version": "1.2.0",
            "_model_name": "LayoutModel",
            "_view_count": null,
            "_view_module": "@jupyter-widgets/base",
            "_view_module_version": "1.2.0",
            "_view_name": "LayoutView",
            "align_content": null,
            "align_items": null,
            "align_self": null,
            "border": null,
            "bottom": null,
            "display": null,
            "flex": null,
            "flex_flow": null,
            "grid_area": null,
            "grid_auto_columns": null,
            "grid_auto_flow": null,
            "grid_auto_rows": null,
            "grid_column": null,
            "grid_gap": null,
            "grid_row": null,
            "grid_template_areas": null,
            "grid_template_columns": null,
            "grid_template_rows": null,
            "height": null,
            "justify_content": null,
            "justify_items": null,
            "left": null,
            "margin": null,
            "max_height": null,
            "max_width": null,
            "min_height": null,
            "min_width": null,
            "object_fit": null,
            "object_position": null,
            "order": null,
            "overflow": null,
            "overflow_x": null,
            "overflow_y": null,
            "padding": null,
            "right": null,
            "top": null,
            "visibility": null,
            "width": null
          }
        },
        "01e559f3ff5b4f9a914a175b731c8da8": {
          "model_module": "@jupyter-widgets/controls",
          "model_name": "DescriptionStyleModel",
          "model_module_version": "1.5.0",
          "state": {
            "_model_module": "@jupyter-widgets/controls",
            "_model_module_version": "1.5.0",
            "_model_name": "DescriptionStyleModel",
            "_view_count": null,
            "_view_module": "@jupyter-widgets/base",
            "_view_module_version": "1.2.0",
            "_view_name": "StyleView",
            "description_width": ""
          }
        },
        "9bcbb505310e4bc691507db93ac89166": {
          "model_module": "@jupyter-widgets/base",
          "model_name": "LayoutModel",
          "model_module_version": "1.2.0",
          "state": {
            "_model_module": "@jupyter-widgets/base",
            "_model_module_version": "1.2.0",
            "_model_name": "LayoutModel",
            "_view_count": null,
            "_view_module": "@jupyter-widgets/base",
            "_view_module_version": "1.2.0",
            "_view_name": "LayoutView",
            "align_content": null,
            "align_items": null,
            "align_self": null,
            "border": null,
            "bottom": null,
            "display": null,
            "flex": null,
            "flex_flow": null,
            "grid_area": null,
            "grid_auto_columns": null,
            "grid_auto_flow": null,
            "grid_auto_rows": null,
            "grid_column": null,
            "grid_gap": null,
            "grid_row": null,
            "grid_template_areas": null,
            "grid_template_columns": null,
            "grid_template_rows": null,
            "height": null,
            "justify_content": null,
            "justify_items": null,
            "left": null,
            "margin": null,
            "max_height": null,
            "max_width": null,
            "min_height": null,
            "min_width": null,
            "object_fit": null,
            "object_position": null,
            "order": null,
            "overflow": null,
            "overflow_x": null,
            "overflow_y": null,
            "padding": null,
            "right": null,
            "top": null,
            "visibility": null,
            "width": null
          }
        },
        "17f80240f28d48a0a4b85d61cc470512": {
          "model_module": "@jupyter-widgets/controls",
          "model_name": "ProgressStyleModel",
          "model_module_version": "1.5.0",
          "state": {
            "_model_module": "@jupyter-widgets/controls",
            "_model_module_version": "1.5.0",
            "_model_name": "ProgressStyleModel",
            "_view_count": null,
            "_view_module": "@jupyter-widgets/base",
            "_view_module_version": "1.2.0",
            "_view_name": "StyleView",
            "bar_color": null,
            "description_width": ""
          }
        },
        "f63a7a7bb42f45e3b85802140a83f37b": {
          "model_module": "@jupyter-widgets/base",
          "model_name": "LayoutModel",
          "model_module_version": "1.2.0",
          "state": {
            "_model_module": "@jupyter-widgets/base",
            "_model_module_version": "1.2.0",
            "_model_name": "LayoutModel",
            "_view_count": null,
            "_view_module": "@jupyter-widgets/base",
            "_view_module_version": "1.2.0",
            "_view_name": "LayoutView",
            "align_content": null,
            "align_items": null,
            "align_self": null,
            "border": null,
            "bottom": null,
            "display": null,
            "flex": null,
            "flex_flow": null,
            "grid_area": null,
            "grid_auto_columns": null,
            "grid_auto_flow": null,
            "grid_auto_rows": null,
            "grid_column": null,
            "grid_gap": null,
            "grid_row": null,
            "grid_template_areas": null,
            "grid_template_columns": null,
            "grid_template_rows": null,
            "height": null,
            "justify_content": null,
            "justify_items": null,
            "left": null,
            "margin": null,
            "max_height": null,
            "max_width": null,
            "min_height": null,
            "min_width": null,
            "object_fit": null,
            "object_position": null,
            "order": null,
            "overflow": null,
            "overflow_x": null,
            "overflow_y": null,
            "padding": null,
            "right": null,
            "top": null,
            "visibility": null,
            "width": null
          }
        },
        "3db399e1ce3f4d1ca61d0e0890882404": {
          "model_module": "@jupyter-widgets/controls",
          "model_name": "DescriptionStyleModel",
          "model_module_version": "1.5.0",
          "state": {
            "_model_module": "@jupyter-widgets/controls",
            "_model_module_version": "1.5.0",
            "_model_name": "DescriptionStyleModel",
            "_view_count": null,
            "_view_module": "@jupyter-widgets/base",
            "_view_module_version": "1.2.0",
            "_view_name": "StyleView",
            "description_width": ""
          }
        }
      }
    }
  },
  "nbformat": 4,
  "nbformat_minor": 0
}
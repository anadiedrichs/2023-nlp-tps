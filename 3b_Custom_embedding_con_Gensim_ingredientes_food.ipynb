{
  "cells": [
    {
      "cell_type": "markdown",
      "metadata": {
        "id": "view-in-github",
        "colab_type": "text"
      },
      "source": [
        "<a href=\"https://colab.research.google.com/github/anadiedrichs/2023-nlp-tps/blob/main/3b_Custom_embedding_con_Gensim_ingredientes_food.ipynb\" target=\"_parent\"><img src=\"https://colab.research.google.com/assets/colab-badge.svg\" alt=\"Open In Colab\"/></a>"
      ]
    },
    {
      "cell_type": "markdown",
      "metadata": {
        "id": "sZd5yLnnHOK0"
      },
      "source": [
        "<img src=\"https://github.com/hernancontigiani/ceia_memorias_especializacion/raw/master/Figures/logoFIUBA.jpg\" width=\"500\" align=\"center\">\n",
        "\n",
        "\n",
        "# Procesamiento de lenguaje natural\n",
        "## Custom embedddings con Gensim\n",
        "\n"
      ]
    },
    {
      "cell_type": "markdown",
      "source": [
        "CAMBIAR Y USAR EL DATASET USANDO LOS INGREDIENTES\n",
        "\n",
        "https://www.kaggle.com/datasets/kaggle/recipe-ingredients-dataset\n",
        "\n"
      ],
      "metadata": {
        "id": "WfVgktujVAeU"
      }
    },
    {
      "cell_type": "markdown",
      "metadata": {
        "id": "vA7nqkumo9z9"
      },
      "source": [
        "### Objetivo\n",
        "El objetivo es utilizar documentos / corpus para crear embeddings de palabras basado en ese contexto. Se utilizará canciones de bandas para generar los embeddings, es decir, que los vectores tendrán la forma en función de como esa banda haya utilizado las palabras en sus canciones."
      ]
    },
    {
      "cell_type": "code",
      "execution_count": null,
      "metadata": {
        "id": "lFToQs5FK5uZ"
      },
      "outputs": [],
      "source": [
        "import pandas as pd\n",
        "import matplotlib.pyplot as plt\n",
        "import seaborn as sns\n",
        "\n",
        "import multiprocessing\n",
        "from gensim.models import Word2Vec"
      ]
    },
    {
      "cell_type": "markdown",
      "metadata": {
        "id": "g07zJxG7H9vG"
      },
      "source": [
        "### Datos\n",
        "Utilizaremos como dataset canciones de bandas de habla inglesa."
      ]
    },
    {
      "cell_type": "code",
      "execution_count": null,
      "metadata": {
        "id": "l7z4CSBfpR3X",
        "colab": {
          "base_uri": "https://localhost:8080/"
        },
        "outputId": "1a6f9434-cdda-4cb7-b137-a6e9aee54193"
      },
      "outputs": [
        {
          "output_type": "stream",
          "name": "stdout",
          "text": [
            "El dataset ya se encuentra descargado\n"
          ]
        }
      ],
      "source": [
        "# Descargar la carpeta de dataset\n",
        "import os\n",
        "import platform\n",
        "if os.access('./songs_dataset', os.F_OK) is False:\n",
        "    if os.access('songs_dataset.zip', os.F_OK) is False:\n",
        "        if platform.system() == 'Windows':\n",
        "            !curl https://raw.githubusercontent.com/FIUBA-Posgrado-Inteligencia-Artificial/procesamiento_lenguaje_natural/main/datasets/songs_dataset.zip -o songs_dataset.zip\n",
        "        else:\n",
        "            !wget songs_dataset.zip https://github.com/FIUBA-Posgrado-Inteligencia-Artificial/procesamiento_lenguaje_natural/raw/main/datasets/songs_dataset.zip\n",
        "    !unzip -q songs_dataset.zip\n",
        "else:\n",
        "    print(\"El dataset ya se encuentra descargado\")"
      ]
    },
    {
      "cell_type": "code",
      "execution_count": null,
      "metadata": {
        "id": "mysGrIw9ljC2",
        "colab": {
          "base_uri": "https://localhost:8080/"
        },
        "outputId": "d5d57471-d9e5-4b73-d952-6361915b8ce6"
      },
      "outputs": [
        {
          "output_type": "execute_result",
          "data": {
            "text/plain": [
              "['dickinson.txt',\n",
              " 'bob-dylan.txt',\n",
              " 'Kanye_West.txt',\n",
              " 'dj-khaled.txt',\n",
              " 'patti-smith.txt',\n",
              " 'radiohead.txt',\n",
              " 'adele.txt',\n",
              " 'dr-seuss.txt',\n",
              " 'kanye-west.txt',\n",
              " 'britney-spears.txt',\n",
              " 'nirvana.txt',\n",
              " 'kanye.txt',\n",
              " 'leonard-cohen.txt',\n",
              " 'disney.txt',\n",
              " 'eminem.txt',\n",
              " 'blink-182.txt',\n",
              " 'bruno-mars.txt',\n",
              " 'bieber.txt',\n",
              " 'bruce-springsteen.txt',\n",
              " 'alicia-keys.txt',\n",
              " 'missy-elliott.txt',\n",
              " 'al-green.txt',\n",
              " 'lin-manuel-miranda.txt',\n",
              " 'drake.txt',\n",
              " 'amy-winehouse.txt',\n",
              " 'janisjoplin.txt',\n",
              " 'nicki-minaj.txt',\n",
              " 'paul-simon.txt',\n",
              " 'notorious_big.txt',\n",
              " 'dolly-parton.txt',\n",
              " 'beatles.txt',\n",
              " 'nickelback.txt',\n",
              " 'lady-gaga.txt',\n",
              " 'joni-mitchell.txt',\n",
              " 'rihanna.txt',\n",
              " 'cake.txt',\n",
              " 'ludacris.txt',\n",
              " 'notorious-big.txt',\n",
              " 'lil-wayne.txt',\n",
              " 'r-kelly.txt',\n",
              " 'lorde.txt',\n",
              " 'michael-jackson.txt',\n",
              " 'nursery_rhymes.txt',\n",
              " 'bob-marley.txt',\n",
              " 'bjork.txt',\n",
              " 'prince.txt',\n",
              " 'johnny-cash.txt',\n",
              " 'jimi-hendrix.txt',\n",
              " 'Lil_Wayne.txt']"
            ]
          },
          "metadata": {},
          "execution_count": 23
        }
      ],
      "source": [
        "# Posibles bandas\n",
        "os.listdir(\"./songs_dataset/\")"
      ]
    },
    {
      "cell_type": "code",
      "execution_count": null,
      "metadata": {
        "id": "ticoqYD1Z3I7",
        "colab": {
          "base_uri": "https://localhost:8080/",
          "height": 261
        },
        "outputId": "43e7d5c2-cc61-4023-ce2d-f314f6e903d5"
      },
      "outputs": [
        {
          "output_type": "stream",
          "name": "stderr",
          "text": [
            "<ipython-input-24-91c4bad52ba1>:2: ParserWarning: Falling back to the 'python' engine because the 'c' engine does not support regex separators (separators > 1 char and different from '\\s+' are interpreted as regex); you can avoid this warning by specifying engine='python'.\n",
            "  df = pd.read_csv('songs_dataset/beatles.txt', sep='/n', header=None)\n"
          ]
        },
        {
          "output_type": "execute_result",
          "data": {
            "text/plain": [
              "                                                   0\n",
              "0      Yesterday, all my troubles seemed so far away\n",
              "1        Now it looks as though they're here to stay\n",
              "2  Oh, I believe in yesterday Suddenly, I'm not h...\n",
              "3                  There's a shadow hanging over me.\n",
              "4  Oh, yesterday came suddenly Why she had to go ..."
            ],
            "text/html": [
              "\n",
              "  <div id=\"df-5bce1905-665b-4110-824f-34cb5e1fe652\" class=\"colab-df-container\">\n",
              "    <div>\n",
              "<style scoped>\n",
              "    .dataframe tbody tr th:only-of-type {\n",
              "        vertical-align: middle;\n",
              "    }\n",
              "\n",
              "    .dataframe tbody tr th {\n",
              "        vertical-align: top;\n",
              "    }\n",
              "\n",
              "    .dataframe thead th {\n",
              "        text-align: right;\n",
              "    }\n",
              "</style>\n",
              "<table border=\"1\" class=\"dataframe\">\n",
              "  <thead>\n",
              "    <tr style=\"text-align: right;\">\n",
              "      <th></th>\n",
              "      <th>0</th>\n",
              "    </tr>\n",
              "  </thead>\n",
              "  <tbody>\n",
              "    <tr>\n",
              "      <th>0</th>\n",
              "      <td>Yesterday, all my troubles seemed so far away</td>\n",
              "    </tr>\n",
              "    <tr>\n",
              "      <th>1</th>\n",
              "      <td>Now it looks as though they're here to stay</td>\n",
              "    </tr>\n",
              "    <tr>\n",
              "      <th>2</th>\n",
              "      <td>Oh, I believe in yesterday Suddenly, I'm not h...</td>\n",
              "    </tr>\n",
              "    <tr>\n",
              "      <th>3</th>\n",
              "      <td>There's a shadow hanging over me.</td>\n",
              "    </tr>\n",
              "    <tr>\n",
              "      <th>4</th>\n",
              "      <td>Oh, yesterday came suddenly Why she had to go ...</td>\n",
              "    </tr>\n",
              "  </tbody>\n",
              "</table>\n",
              "</div>\n",
              "    <div class=\"colab-df-buttons\">\n",
              "\n",
              "  <div class=\"colab-df-container\">\n",
              "    <button class=\"colab-df-convert\" onclick=\"convertToInteractive('df-5bce1905-665b-4110-824f-34cb5e1fe652')\"\n",
              "            title=\"Convert this dataframe to an interactive table.\"\n",
              "            style=\"display:none;\">\n",
              "\n",
              "  <svg xmlns=\"http://www.w3.org/2000/svg\" height=\"24px\" viewBox=\"0 -960 960 960\">\n",
              "    <path d=\"M120-120v-720h720v720H120Zm60-500h600v-160H180v160Zm220 220h160v-160H400v160Zm0 220h160v-160H400v160ZM180-400h160v-160H180v160Zm440 0h160v-160H620v160ZM180-180h160v-160H180v160Zm440 0h160v-160H620v160Z\"/>\n",
              "  </svg>\n",
              "    </button>\n",
              "\n",
              "  <style>\n",
              "    .colab-df-container {\n",
              "      display:flex;\n",
              "      gap: 12px;\n",
              "    }\n",
              "\n",
              "    .colab-df-convert {\n",
              "      background-color: #E8F0FE;\n",
              "      border: none;\n",
              "      border-radius: 50%;\n",
              "      cursor: pointer;\n",
              "      display: none;\n",
              "      fill: #1967D2;\n",
              "      height: 32px;\n",
              "      padding: 0 0 0 0;\n",
              "      width: 32px;\n",
              "    }\n",
              "\n",
              "    .colab-df-convert:hover {\n",
              "      background-color: #E2EBFA;\n",
              "      box-shadow: 0px 1px 2px rgba(60, 64, 67, 0.3), 0px 1px 3px 1px rgba(60, 64, 67, 0.15);\n",
              "      fill: #174EA6;\n",
              "    }\n",
              "\n",
              "    .colab-df-buttons div {\n",
              "      margin-bottom: 4px;\n",
              "    }\n",
              "\n",
              "    [theme=dark] .colab-df-convert {\n",
              "      background-color: #3B4455;\n",
              "      fill: #D2E3FC;\n",
              "    }\n",
              "\n",
              "    [theme=dark] .colab-df-convert:hover {\n",
              "      background-color: #434B5C;\n",
              "      box-shadow: 0px 1px 3px 1px rgba(0, 0, 0, 0.15);\n",
              "      filter: drop-shadow(0px 1px 2px rgba(0, 0, 0, 0.3));\n",
              "      fill: #FFFFFF;\n",
              "    }\n",
              "  </style>\n",
              "\n",
              "    <script>\n",
              "      const buttonEl =\n",
              "        document.querySelector('#df-5bce1905-665b-4110-824f-34cb5e1fe652 button.colab-df-convert');\n",
              "      buttonEl.style.display =\n",
              "        google.colab.kernel.accessAllowed ? 'block' : 'none';\n",
              "\n",
              "      async function convertToInteractive(key) {\n",
              "        const element = document.querySelector('#df-5bce1905-665b-4110-824f-34cb5e1fe652');\n",
              "        const dataTable =\n",
              "          await google.colab.kernel.invokeFunction('convertToInteractive',\n",
              "                                                    [key], {});\n",
              "        if (!dataTable) return;\n",
              "\n",
              "        const docLinkHtml = 'Like what you see? Visit the ' +\n",
              "          '<a target=\"_blank\" href=https://colab.research.google.com/notebooks/data_table.ipynb>data table notebook</a>'\n",
              "          + ' to learn more about interactive tables.';\n",
              "        element.innerHTML = '';\n",
              "        dataTable['output_type'] = 'display_data';\n",
              "        await google.colab.output.renderOutput(dataTable, element);\n",
              "        const docLink = document.createElement('div');\n",
              "        docLink.innerHTML = docLinkHtml;\n",
              "        element.appendChild(docLink);\n",
              "      }\n",
              "    </script>\n",
              "  </div>\n",
              "\n",
              "\n",
              "<div id=\"df-2b950fb7-b81a-43a8-8b1e-9a7d73297303\">\n",
              "  <button class=\"colab-df-quickchart\" onclick=\"quickchart('df-2b950fb7-b81a-43a8-8b1e-9a7d73297303')\"\n",
              "            title=\"Suggest charts.\"\n",
              "            style=\"display:none;\">\n",
              "\n",
              "<svg xmlns=\"http://www.w3.org/2000/svg\" height=\"24px\"viewBox=\"0 0 24 24\"\n",
              "     width=\"24px\">\n",
              "    <g>\n",
              "        <path d=\"M19 3H5c-1.1 0-2 .9-2 2v14c0 1.1.9 2 2 2h14c1.1 0 2-.9 2-2V5c0-1.1-.9-2-2-2zM9 17H7v-7h2v7zm4 0h-2V7h2v10zm4 0h-2v-4h2v4z\"/>\n",
              "    </g>\n",
              "</svg>\n",
              "  </button>\n",
              "\n",
              "<style>\n",
              "  .colab-df-quickchart {\n",
              "    background-color: #E8F0FE;\n",
              "    border: none;\n",
              "    border-radius: 50%;\n",
              "    cursor: pointer;\n",
              "    display: none;\n",
              "    fill: #1967D2;\n",
              "    height: 32px;\n",
              "    padding: 0 0 0 0;\n",
              "    width: 32px;\n",
              "  }\n",
              "\n",
              "  .colab-df-quickchart:hover {\n",
              "    background-color: #E2EBFA;\n",
              "    box-shadow: 0px 1px 2px rgba(60, 64, 67, 0.3), 0px 1px 3px 1px rgba(60, 64, 67, 0.15);\n",
              "    fill: #174EA6;\n",
              "  }\n",
              "\n",
              "  [theme=dark] .colab-df-quickchart {\n",
              "    background-color: #3B4455;\n",
              "    fill: #D2E3FC;\n",
              "  }\n",
              "\n",
              "  [theme=dark] .colab-df-quickchart:hover {\n",
              "    background-color: #434B5C;\n",
              "    box-shadow: 0px 1px 3px 1px rgba(0, 0, 0, 0.15);\n",
              "    filter: drop-shadow(0px 1px 2px rgba(0, 0, 0, 0.3));\n",
              "    fill: #FFFFFF;\n",
              "  }\n",
              "</style>\n",
              "\n",
              "  <script>\n",
              "    async function quickchart(key) {\n",
              "      const charts = await google.colab.kernel.invokeFunction(\n",
              "          'suggestCharts', [key], {});\n",
              "    }\n",
              "    (() => {\n",
              "      let quickchartButtonEl =\n",
              "        document.querySelector('#df-2b950fb7-b81a-43a8-8b1e-9a7d73297303 button');\n",
              "      quickchartButtonEl.style.display =\n",
              "        google.colab.kernel.accessAllowed ? 'block' : 'none';\n",
              "    })();\n",
              "  </script>\n",
              "</div>\n",
              "    </div>\n",
              "  </div>\n"
            ]
          },
          "metadata": {},
          "execution_count": 24
        }
      ],
      "source": [
        "# Armar el dataset utilizando salto de línea para separar las oraciones/docs\n",
        "df = pd.read_csv('songs_dataset/beatles.txt', sep='/n', header=None)\n",
        "df.head()"
      ]
    },
    {
      "cell_type": "code",
      "execution_count": null,
      "metadata": {
        "id": "LEpKubK9XzXN",
        "colab": {
          "base_uri": "https://localhost:8080/"
        },
        "outputId": "fa840bb7-6001-42ef-ae2b-e73dc1809bb1"
      },
      "outputs": [
        {
          "output_type": "stream",
          "name": "stdout",
          "text": [
            "Cantidad de documentos: 1846\n"
          ]
        }
      ],
      "source": [
        "print(\"Cantidad de documentos:\", df.shape[0])"
      ]
    },
    {
      "cell_type": "markdown",
      "metadata": {
        "id": "ab94qaFlrA1G"
      },
      "source": [
        "### 1 - Preprocesamiento"
      ]
    },
    {
      "cell_type": "code",
      "execution_count": null,
      "metadata": {
        "id": "rIsmMWmjrDHd"
      },
      "outputs": [],
      "source": [
        "from keras.preprocessing.text import text_to_word_sequence\n",
        "\n",
        "sentence_tokens = []\n",
        "# Recorrer todas las filas y transformar las oraciones\n",
        "# en una secuencia de palabras (esto podría realizarse con NLTK o spaCy también)\n",
        "for _, row in df[:None].iterrows():\n",
        "    sentence_tokens.append(text_to_word_sequence(row[0]))"
      ]
    },
    {
      "cell_type": "code",
      "execution_count": null,
      "metadata": {
        "id": "CHepi_DGrbhq",
        "colab": {
          "base_uri": "https://localhost:8080/"
        },
        "outputId": "1a5b2f76-03d9-4ce3-c141-703f45e9587c"
      },
      "outputs": [
        {
          "output_type": "execute_result",
          "data": {
            "text/plain": [
              "[['yesterday', 'all', 'my', 'troubles', 'seemed', 'so', 'far', 'away'],\n",
              " ['now', 'it', 'looks', 'as', 'though', \"they're\", 'here', 'to', 'stay']]"
            ]
          },
          "metadata": {},
          "execution_count": 27
        }
      ],
      "source": [
        "# Demos un vistazo\n",
        "sentence_tokens[:2]"
      ]
    },
    {
      "cell_type": "markdown",
      "metadata": {
        "id": "BaXV6nlHr5Aa"
      },
      "source": [
        "### 2 - Crear los vectores (word2vec)"
      ]
    },
    {
      "cell_type": "code",
      "execution_count": null,
      "metadata": {
        "id": "OSb0v7h8r7hK"
      },
      "outputs": [],
      "source": [
        "from gensim.models.callbacks import CallbackAny2Vec\n",
        "# Durante el entrenamiento gensim por defecto no informa el \"loss\" en cada época\n",
        "# Sobrecargamos el callback para poder tener esta información\n",
        "class callback(CallbackAny2Vec):\n",
        "    \"\"\"\n",
        "    Callback to print loss after each epoch\n",
        "    \"\"\"\n",
        "    def __init__(self):\n",
        "        self.epoch = 0\n",
        "\n",
        "    def on_epoch_end(self, model):\n",
        "        loss = model.get_latest_training_loss()\n",
        "        if self.epoch == 0:\n",
        "            print('Loss after epoch {}: {}'.format(self.epoch, loss))\n",
        "        else:\n",
        "            print('Loss after epoch {}: {}'.format(self.epoch, loss- self.loss_previous_step))\n",
        "        self.epoch += 1\n",
        "        self.loss_previous_step = loss"
      ]
    },
    {
      "cell_type": "code",
      "execution_count": null,
      "metadata": {
        "id": "i0wnDdv9sJ47"
      },
      "outputs": [],
      "source": [
        "# Crearmos el modelo generador de vectores\n",
        "# En este caso utilizaremos la estructura modelo Skipgram\n",
        "w2v_model = Word2Vec(min_count=5,    # frecuencia mínima de palabra para incluirla en el vocabulario\n",
        "                     window=2,       # cant de palabras antes y desp de la predicha\n",
        "                     vector_size=300,       # dimensionalidad de los vectores\n",
        "                     negative=20,    # cantidad de negative samples... 0 es no se usa\n",
        "                     workers=1,      # si tienen más cores pueden cambiar este valor\n",
        "                     sg=1)           # modelo 0:CBOW  1:skipgram"
      ]
    },
    {
      "cell_type": "code",
      "execution_count": null,
      "metadata": {
        "id": "5lTt8wErsf17"
      },
      "outputs": [],
      "source": [
        "# Obtener el vocabulario con los tokens\n",
        "w2v_model.build_vocab(sentence_tokens)"
      ]
    },
    {
      "cell_type": "code",
      "execution_count": null,
      "metadata": {
        "id": "TNc9qt4os5AT",
        "colab": {
          "base_uri": "https://localhost:8080/"
        },
        "outputId": "810b1779-fbca-4f1d-f97f-33f60e18198a"
      },
      "outputs": [
        {
          "output_type": "stream",
          "name": "stdout",
          "text": [
            "Cantidad de docs en el corpus: 1846\n"
          ]
        }
      ],
      "source": [
        "# Cantidad de filas/docs encontradas en el corpus\n",
        "print(\"Cantidad de docs en el corpus:\", w2v_model.corpus_count)"
      ]
    },
    {
      "cell_type": "code",
      "execution_count": null,
      "metadata": {
        "id": "idw9cHF3tSMl",
        "colab": {
          "base_uri": "https://localhost:8080/"
        },
        "outputId": "3949178b-f1b9-4b43-f053-718406f2113e"
      },
      "outputs": [
        {
          "output_type": "stream",
          "name": "stdout",
          "text": [
            "Cantidad de words distintas en el corpus: 445\n"
          ]
        }
      ],
      "source": [
        "# Cantidad de words encontradas en el corpus\n",
        "print(\"Cantidad de words distintas en el corpus:\", len(w2v_model.wv.index_to_key))"
      ]
    },
    {
      "cell_type": "markdown",
      "metadata": {
        "id": "fC9mZ8DPk-UC"
      },
      "source": [
        "### 3 - Entrenar el modelo generador"
      ]
    },
    {
      "cell_type": "code",
      "execution_count": null,
      "metadata": {
        "id": "QSp-x0PAsq56",
        "colab": {
          "base_uri": "https://localhost:8080/"
        },
        "outputId": "470b6214-50af-4591-a8c6-3891444ffefe"
      },
      "outputs": [
        {
          "output_type": "stream",
          "name": "stdout",
          "text": [
            "Loss after epoch 0: 113208.15625\n",
            "Loss after epoch 1: 65953.953125\n",
            "Loss after epoch 2: 65934.265625\n",
            "Loss after epoch 3: 65711.96875\n",
            "Loss after epoch 4: 63872.5\n",
            "Loss after epoch 5: 64142.46875\n",
            "Loss after epoch 6: 64058.8125\n",
            "Loss after epoch 7: 64755.4375\n",
            "Loss after epoch 8: 62585.5625\n",
            "Loss after epoch 9: 60415.25\n",
            "Loss after epoch 10: 59823.625\n",
            "Loss after epoch 11: 58930.1875\n",
            "Loss after epoch 12: 57726.4375\n",
            "Loss after epoch 13: 56493.125\n",
            "Loss after epoch 14: 55842.5625\n",
            "Loss after epoch 15: 55862.5\n",
            "Loss after epoch 16: 51695.8125\n",
            "Loss after epoch 17: 49815.5\n",
            "Loss after epoch 18: 49568.125\n",
            "Loss after epoch 19: 48959.75\n"
          ]
        },
        {
          "output_type": "execute_result",
          "data": {
            "text/plain": [
              "(156986, 287740)"
            ]
          },
          "metadata": {},
          "execution_count": 33
        }
      ],
      "source": [
        "# Entrenamos el modelo generador de vectores\n",
        "# Utilizamos nuestro callback\n",
        "w2v_model.train(sentence_tokens,\n",
        "                 total_examples=w2v_model.corpus_count,\n",
        "                 epochs=20,\n",
        "                 compute_loss = True,\n",
        "                 callbacks=[callback()]\n",
        "                 )"
      ]
    },
    {
      "cell_type": "markdown",
      "metadata": {
        "id": "ddT9NVuNlCAe"
      },
      "source": [
        "### 4 - Ensayar"
      ]
    },
    {
      "cell_type": "code",
      "execution_count": null,
      "metadata": {
        "id": "6cHN9xGLuPEm",
        "colab": {
          "base_uri": "https://localhost:8080/"
        },
        "outputId": "1086a59b-7259-4fb9-d901-3a3de89afecc"
      },
      "outputs": [
        {
          "output_type": "execute_result",
          "data": {
            "text/plain": [
              "[('pretty', 0.9087147116661072),\n",
              " ('sleep', 0.8649678230285645),\n",
              " ('help', 0.8594305515289307),\n",
              " ('try', 0.8456019759178162),\n",
              " ('cry', 0.8387227654457092),\n",
              " ('little', 0.8273633718490601),\n",
              " ('not', 0.8181102871894836),\n",
              " ('seems', 0.8175203204154968),\n",
              " ('twist', 0.8154979348182678),\n",
              " ('peace', 0.812263011932373)]"
            ]
          },
          "metadata": {},
          "execution_count": 34
        }
      ],
      "source": [
        "# Palabras que MÁS se relacionan con...:\n",
        "w2v_model.wv.most_similar(positive=[\"darling\"], topn=10)"
      ]
    },
    {
      "cell_type": "code",
      "execution_count": null,
      "metadata": {
        "id": "47HiU5gdkdMq",
        "colab": {
          "base_uri": "https://localhost:8080/"
        },
        "outputId": "bfc79810-40a5-4569-a4ef-ba1929011310"
      },
      "outputs": [
        {
          "output_type": "execute_result",
          "data": {
            "text/plain": [
              "[('shake', -0.21786975860595703),\n",
              " ('our', -0.24495810270309448),\n",
              " ('come', -0.2613270878791809),\n",
              " ('on', -0.26722386479377747),\n",
              " ('bang', -0.27329546213150024),\n",
              " ('five', -0.2741836607456207),\n",
              " ('six', -0.2774038314819336),\n",
              " ('baby', -0.2776353061199188),\n",
              " ('work', -0.2790372967720032),\n",
              " ('four', -0.2792743146419525)]"
            ]
          },
          "metadata": {},
          "execution_count": 35
        }
      ],
      "source": [
        "# Palabras que MENOS se relacionan con...:\n",
        "w2v_model.wv.most_similar(negative=[\"love\"], topn=10)"
      ]
    },
    {
      "cell_type": "code",
      "execution_count": null,
      "metadata": {
        "id": "DT4Rvno2mD65",
        "colab": {
          "base_uri": "https://localhost:8080/"
        },
        "outputId": "03418d21-393a-4ec8-87da-82f05d537aef"
      },
      "outputs": [
        {
          "output_type": "execute_result",
          "data": {
            "text/plain": [
              "[('five', 0.9786694049835205),\n",
              " ('three', 0.9761051535606384),\n",
              " ('six', 0.966891348361969),\n",
              " ('two', 0.9565720558166504),\n",
              " ('seven', 0.954232931137085),\n",
              " ('sixty', 0.9003373980522156),\n",
              " ('one', 0.816501259803772),\n",
              " ('us', 0.7762899398803711),\n",
              " ('crying', 0.772737979888916),\n",
              " ('strawberry', 0.7672452330589294)]"
            ]
          },
          "metadata": {},
          "execution_count": 36
        }
      ],
      "source": [
        "# Palabras que MÁS se relacionan con...:\n",
        "w2v_model.wv.most_similar(positive=[\"four\"], topn=10)"
      ]
    },
    {
      "cell_type": "code",
      "execution_count": null,
      "metadata": {
        "id": "XPLDPgzBmQXt",
        "colab": {
          "base_uri": "https://localhost:8080/"
        },
        "outputId": "1cbca7d5-b1f8-4d1a-ed35-213c0a9e9eef"
      },
      "outputs": [
        {
          "output_type": "execute_result",
          "data": {
            "text/plain": [
              "[(\"can't\", 0.9409592747688293),\n",
              " ('buy', 0.9399508237838745),\n",
              " ('much', 0.8996850848197937),\n",
              " ('hide', 0.8465201258659363),\n",
              " ('just', 0.8415144085884094)]"
            ]
          },
          "metadata": {},
          "execution_count": 37
        }
      ],
      "source": [
        "# Palabras que MÁS se relacionan con...:\n",
        "w2v_model.wv.most_similar(positive=[\"money\"], topn=5)"
      ]
    },
    {
      "cell_type": "code",
      "execution_count": null,
      "metadata": {
        "id": "L_UvHPMMklOr",
        "colab": {
          "base_uri": "https://localhost:8080/"
        },
        "outputId": "5aebcb19-810f-49ac-cbdd-cfb013861b15"
      },
      "outputs": [
        {
          "output_type": "execute_result",
          "data": {
            "text/plain": [
              "[('go', -0.513823390007019),\n",
              " ('day', -0.5212637782096863),\n",
              " ('ah', -0.5232623219490051),\n",
              " ('yeah', -0.5335099101066589),\n",
              " ('yellow', -0.5400408506393433),\n",
              " ('girl', -0.5541737079620361),\n",
              " ('four', -0.5550034642219543),\n",
              " ('good', -0.5555173754692078),\n",
              " ('jude', -0.5578638911247253),\n",
              " ('hey', -0.5588455200195312)]"
            ]
          },
          "metadata": {},
          "execution_count": 38
        }
      ],
      "source": [
        "# Ensayar con una palabra que no está en el vocabulario:\n",
        "w2v_model.wv.most_similar(negative=[\"guitar\"])"
      ]
    },
    {
      "cell_type": "markdown",
      "metadata": {
        "id": "_g8UVWe6lFmh"
      },
      "source": [
        "### 5 - Visualizar agrupación de vectores"
      ]
    },
    {
      "cell_type": "code",
      "execution_count": null,
      "metadata": {
        "id": "pDxEVXAivjr9"
      },
      "outputs": [],
      "source": [
        "from sklearn.decomposition import IncrementalPCA\n",
        "from sklearn.manifold import TSNE\n",
        "import numpy as np\n",
        "\n",
        "def reduce_dimensions(model):\n",
        "    num_dimensions = 2\n",
        "\n",
        "    vectors = np.asarray(model.wv.vectors)\n",
        "    labels = np.asarray(model.wv.index_to_key)\n",
        "\n",
        "    tsne = TSNE(n_components=num_dimensions, random_state=0)\n",
        "    vectors = tsne.fit_transform(vectors)\n",
        "\n",
        "    x_vals = [v[0] for v in vectors]\n",
        "    y_vals = [v[1] for v in vectors]\n",
        "    return x_vals, y_vals, labels"
      ]
    },
    {
      "cell_type": "code",
      "execution_count": null,
      "metadata": {
        "id": "NCCXtDpcugmd",
        "colab": {
          "base_uri": "https://localhost:8080/",
          "height": 542
        },
        "outputId": "d61baaa5-b680-40dd-94ee-150a013bd5e2"
      },
      "outputs": [
        {
          "output_type": "display_data",
          "data": {
            "text/html": [
              "<html>\n",
              "<head><meta charset=\"utf-8\" /></head>\n",
              "<body>\n",
              "    <div>            <script src=\"https://cdnjs.cloudflare.com/ajax/libs/mathjax/2.7.5/MathJax.js?config=TeX-AMS-MML_SVG\"></script><script type=\"text/javascript\">if (window.MathJax && window.MathJax.Hub && window.MathJax.Hub.Config) {window.MathJax.Hub.Config({SVG: {font: \"STIX-Web\"}});}</script>                <script type=\"text/javascript\">window.PlotlyConfig = {MathJaxConfig: 'local'};</script>\n",
              "        <script charset=\"utf-8\" src=\"https://cdn.plot.ly/plotly-2.24.1.min.js\"></script>                <div id=\"d57eda3c-ced7-4abc-b593-5af9b6b82528\" class=\"plotly-graph-div\" style=\"height:525px; width:100%;\"></div>            <script type=\"text/javascript\">                                    window.PLOTLYENV=window.PLOTLYENV || {};                                    if (document.getElementById(\"d57eda3c-ced7-4abc-b593-5af9b6b82528\")) {                    Plotly.newPlot(                        \"d57eda3c-ced7-4abc-b593-5af9b6b82528\",                        [{\"hovertemplate\":\"x=%{x}\\u003cbr\\u003ey=%{y}\\u003cbr\\u003etext=%{text}\\u003cextra\\u003e\\u003c\\u002fextra\\u003e\",\"legendgroup\":\"\",\"marker\":{\"color\":\"#636efa\",\"symbol\":\"circle\"},\"mode\":\"markers+text\",\"name\":\"\",\"orientation\":\"v\",\"showlegend\":false,\"text\":[\"you\",\"i\",\"the\",\"to\",\"and\",\"love\",\"a\",\"me\",\"in\",\"all\",\"nah\",\"my\",\"it\",\"know\",\"that\",\"be\",\"on\",\"of\",\"she\",\"is\",\"say\",\"now\",\"oh\",\"your\",\"yeah\",\"get\",\"don't\",\"back\",\"with\",\"let\",\"her\",\"can\",\"it's\",\"do\",\"when\",\"come\",\"i'm\",\"will\",\"he\",\"but\",\"for\",\"so\",\"there\",\"need\",\"like\",\"together\",\"no\",\"i'll\",\"see\",\"we\",\"was\",\"never\",\"down\",\"if\",\"way\",\"want\",\"hey\",\"out\",\"one\",\"got\",\"can't\",\"girl\",\"well\",\"good\",\"go\",\"sun\",\"his\",\"hello\",\"home\",\"they\",\"day\",\"are\",\"ah\",\"right\",\"from\",\"little\",\"at\",\"man\",\"help\",\"here\",\"have\",\"gonna\",\"not\",\"world\",\"what\",\"going\",\"how\",\"please\",\"still\",\"too\",\"just\",\"you're\",\"time\",\"as\",\"make\",\"long\",\"yes\",\"yellow\",\"life\",\"once\",\"sky\",\"been\",\"think\",\"tell\",\"why\",\"only\",\"where\",\"people\",\"she's\",\"eyes\",\"jude\",\"take\",\"submarine\",\"up\",\"hold\",\"goodbye\",\"give\",\"nowhere\",\"sing\",\"look\",\"friends\",\"always\",\"hand\",\"boy\",\"we're\",\"am\",\"away\",\"darling\",\"goo\",\"nothing\",\"should\",\"lonely\",\"could\",\"feel\",\"some\",\"night\",\"comes\",\"had\",\"would\",\"better\",\"head\",\"them\",\"four\",\"buy\",\"more\",\"i've\",\"la\",\"mind\",\"two\",\"this\",\"everything\",\"carry\",\"by\",\"our\",\"sunshine\",\"weight\",\"change\",\"us\",\"lucy\",\"birthday\",\"an\",\"true\",\"you'll\",\"every\",\"pretty\",\"three\",\"diamonds\",\"before\",\"believe\",\"these\",\"i'd\",\"words\",\"mm\",\"work\",\"dear\",\"leave\",\"were\",\"mine\",\"there's\",\"nobody\",\"told\",\"money\",\"bom\",\"said\",\"forever\",\"round\",\"children\",\"'cause\",\"something\",\"about\",\"waiting\",\"standing\",\"who\",\"didn't\",\"try\",\"loves\",\"then\",\"hide\",\"saw\",\"prudence\"],\"x\":[-16.003633499145508,-19.524415969848633,5.864439964294434,1.8177077770233154,-0.6221182346343994,-15.548293113708496,-0.8941259980201721,-10.855362892150879,5.945487976074219,18.658615112304688,23.485715866088867,-3.4964046478271484,13.77226448059082,-18.19273567199707,-12.678847312927246,9.123003005981445,14.963117599487305,1.96433424949646,-1.981703281402588,8.836173057556152,-20.489391326904297,18.497100830078125,-19.119369506835938,-9.640634536743164,-1.815740704536438,7.734333515167236,-18.09650421142578,8.174905776977539,6.349374771118164,8.552652359008789,7.867523193359375,-10.69455337524414,-12.304449081420898,-17.895280838012695,-17.281692504882812,15.294160842895508,-13.09348201751709,-12.848533630371094,-7.432022571563721,-8.624186515808105,-11.1104154586792,-15.706562995910645,12.14437198638916,-14.423151969909668,-8.808199882507324,18.580249786376953,-18.590105056762695,-13.6538724899292,-10.549888610839844,5.067627429962158,11.691859245300293,-17.293394088745117,7.770431995391846,-13.539785385131836,10.1135892868042,-10.506224632263184,22.559627532958984,14.447545051574707,-6.84888219833374,-6.688454627990723,-18.835803985595703,-3.931879758834839,3.479719877243042,17.316448211669922,14.494946479797363,15.623457908630371,3.498920440673828,-21.733360290527344,8.071822166442871,6.696608066558838,17.84798240661621,-5.350931167602539,19.41254425048828,19.37376594543457,-4.881960391998291,-4.657004356384277,18.224512100219727,7.029882431030273,-5.7148118019104,15.642918586730957,-5.568831443786621,-13.244131088256836,-15.047819137573242,-13.521134376525879,-17.855648040771484,-11.840386390686035,-13.169553756713867,-8.501604080200195,-13.45211410522461,-14.011038780212402,-8.227398872375488,-14.75694465637207,-12.882416725158691,-3.53515887260437,4.695577621459961,-12.768022537231445,-20.97531509399414,3.30768084526062,10.899928092956543,10.41259765625,7.4512176513671875,0.3844054341316223,-16.473194122314453,-13.939263343811035,-19.975013732910156,-9.407283782958984,9.591912269592285,13.460962295532227,-7.76778507232666,5.1587114334106445,22.507509231567383,6.4032111167907715,3.3059029579162598,12.100802421569824,-10.838568687438965,-21.510034561157227,-6.4990315437316895,7.026796340942383,-17.039487838745117,18.388507843017578,-5.111619472503662,10.014359474182129,-9.86416244506836,-15.01232624053955,12.7343111038208,-20.995546340942383,-7.558236598968506,-18.544198989868164,24.236873626708984,-14.975422859191895,-15.792896270751953,13.305875778198242,-16.318294525146484,-12.880078315734863,-5.110909461975098,-0.2630714476108551,15.61946964263916,0.2798193097114563,-11.510040283203125,4.497851848602295,4.420448303222656,1.7331196069717407,18.275957107543945,-18.780624389648438,-4.705243110656738,-5.7374186515808105,1.0168997049331665,10.157527923583984,17.36155128479004,-8.925857543945312,-7.268283367156982,-13.691248893737793,-2.0225989818573,10.602540016174316,17.64771842956543,-13.453519821166992,-13.714377403259277,-1.9715077877044678,6.929460048675537,-11.679854393005371,8.325242042541504,9.526939392089844,-14.592754364013672,-2.9384267330169678,-17.94799041748047,17.715755462646484,6.773982048034668,-11.880329132080078,-15.916105270385742,1.217374324798584,-4.540735244750977,7.223949909210205,0.26146137714385986,14.449055671691895,11.660557746887207,-4.191720485687256,-1.9460065364837646,-2.624866247177124,-13.89383316040039,-2.9652578830718994,-16.010957717895508,-19.086814880371094,21.49388313293457,-5.133544921875,-9.60629653930664,9.349811553955078,15.246789932250977,-12.264029502868652,-2.4896252155303955,-5.7939229011535645,-8.626466751098633,8.259251594543457,6.335254669189453,-13.334409713745117,-2.6200575828552246,-1.8833190202713013,10.374066352844238,-7.709332466125488,-7.149684429168701,11.870262145996094],\"xaxis\":\"x\",\"y\":[-15.99150276184082,-8.868911743164062,14.481197357177734,-11.702960968017578,2.139791488647461,-17.804244995117188,16.169384002685547,-17.000690460205078,17.340377807617188,-0.426520973443985,-6.368849277496338,20.591106414794922,-6.228047847747803,-6.605199813842773,8.572097778320312,-11.118027687072754,-0.9830970168113708,16.163196563720703,-11.628684043884277,14.817676544189453,-7.0066423416137695,-0.6211149096488953,-12.241193771362305,-21.924694061279297,-13.04269027709961,-20.768722534179688,-5.82476806640625,-20.683197021484375,19.54985237121582,-12.444633483886719,-3.6265668869018555,-11.161478996276855,-2.787702798843384,-13.11701774597168,-14.789700508117676,-1.13472580909729,1.253141164779663,-18.539140701293945,-5.716879367828369,-9.25493335723877,10.41838550567627,-12.52836799621582,-20.653005599975586,-18.52741050720215,-16.45207977294922,-1.414230227470398,-10.747220993041992,-10.332663536071777,-13.962886810302734,23.372949600219727,-20.589597702026367,-10.524153709411621,-12.280501365661621,-12.108439445495605,-18.461467742919922,-21.10585594177246,-6.508477210998535,-3.2917566299438477,13.379535675048828,-13.48620891571045,-19.8958683013916,12.156745910644531,-8.3817720413208,-12.180834770202637,-12.699085235595703,11.866455078125,15.447935104370117,-6.53975248336792,-19.85919761657715,-0.3159315884113312,-12.096790313720703,3.9245362281799316,14.912745475769043,-1.1914807558059692,18.238269805908203,17.717754364013672,15.311888694763184,7.310695648193359,18.536422729492188,11.839111328125,5.310277462005615,14.034708976745605,-1.9228495359420776,15.856592178344727,-9.51339340209961,3.0010178089141846,-6.06936502456665,-17.694242477416992,-18.609573364257812,7.964963436126709,-13.18014144897461,13.73495101928711,9.379901885986328,4.4847259521484375,-12.974544525146484,10.885099411010742,-2.386671304702759,23.194175720214844,12.333510398864746,-20.88266944885254,19.444631576538086,8.115530967712402,-9.494760513305664,-16.467586517333984,-6.436424255371094,9.607260704040527,-20.557025909423828,17.83681869506836,5.549059867858887,16.42279624938965,-6.4826483726501465,-11.435257911682129,23.197397232055664,4.027017116546631,-22.071447372436523,-6.581085681915283,-12.113560676574707,8.651629447937012,0.8378492593765259,15.257162094116211,18.528854370117188,-9.283345222473145,-21.841039657592773,13.640151023864746,1.5474191904067993,-1.8515328168869019,-7.447658061981201,7.025175094604492,4.4379072189331055,-15.580740928649902,-6.168448448181152,18.376108169555664,-7.889667510986328,-8.627552032470703,7.131614685058594,9.42090129852295,11.86330795288086,-6.224125385284424,-10.86110782623291,-13.339947700500488,15.443103790283203,-1.9182424545288086,22.88736915588379,-19.86860466003418,-12.970922470092773,-10.454150199890137,-16.551319122314453,13.066092491149902,22.681827545166016,10.308733940124512,-11.072565078735352,12.97404670715332,15.257377624511719,-17.728832244873047,-12.12661075592041,12.347406387329102,15.247740745544434,9.951314926147461,19.21249008178711,-4.501128196716309,-7.4560651779174805,-9.49692440032959,-8.035614013671875,8.60476016998291,6.539489269256592,22.754108428955078,19.438034057617188,8.038290977478027,-13.146954536437988,10.886799812316895,-5.261021614074707,-8.629488945007324,-18.32750701904297,-3.415494441986084,-1.356189250946045,-16.682384490966797,4.489677429199219,-4.488346576690674,-13.50408935546875,-2.0965466499328613,-14.02744197845459,-20.03367042541504,9.039278030395508,3.07037353515625,0.16098253428936005,10.269577026367188,-12.476272583007812,0.7241103053092957,1.9861443042755127,-8.212423324584961,11.094010353088379,-1.9436596632003784,8.095954895019531,-15.924071311950684,15.261075973510742,-12.454801559448242,-5.498524188995361,-12.907437324523926,-1.1972709894180298,-1.5617272853851318],\"yaxis\":\"y\",\"type\":\"scatter\"}],                        {\"template\":{\"data\":{\"histogram2dcontour\":[{\"type\":\"histogram2dcontour\",\"colorbar\":{\"outlinewidth\":0,\"ticks\":\"\"},\"colorscale\":[[0.0,\"#0d0887\"],[0.1111111111111111,\"#46039f\"],[0.2222222222222222,\"#7201a8\"],[0.3333333333333333,\"#9c179e\"],[0.4444444444444444,\"#bd3786\"],[0.5555555555555556,\"#d8576b\"],[0.6666666666666666,\"#ed7953\"],[0.7777777777777778,\"#fb9f3a\"],[0.8888888888888888,\"#fdca26\"],[1.0,\"#f0f921\"]]}],\"choropleth\":[{\"type\":\"choropleth\",\"colorbar\":{\"outlinewidth\":0,\"ticks\":\"\"}}],\"histogram2d\":[{\"type\":\"histogram2d\",\"colorbar\":{\"outlinewidth\":0,\"ticks\":\"\"},\"colorscale\":[[0.0,\"#0d0887\"],[0.1111111111111111,\"#46039f\"],[0.2222222222222222,\"#7201a8\"],[0.3333333333333333,\"#9c179e\"],[0.4444444444444444,\"#bd3786\"],[0.5555555555555556,\"#d8576b\"],[0.6666666666666666,\"#ed7953\"],[0.7777777777777778,\"#fb9f3a\"],[0.8888888888888888,\"#fdca26\"],[1.0,\"#f0f921\"]]}],\"heatmap\":[{\"type\":\"heatmap\",\"colorbar\":{\"outlinewidth\":0,\"ticks\":\"\"},\"colorscale\":[[0.0,\"#0d0887\"],[0.1111111111111111,\"#46039f\"],[0.2222222222222222,\"#7201a8\"],[0.3333333333333333,\"#9c179e\"],[0.4444444444444444,\"#bd3786\"],[0.5555555555555556,\"#d8576b\"],[0.6666666666666666,\"#ed7953\"],[0.7777777777777778,\"#fb9f3a\"],[0.8888888888888888,\"#fdca26\"],[1.0,\"#f0f921\"]]}],\"heatmapgl\":[{\"type\":\"heatmapgl\",\"colorbar\":{\"outlinewidth\":0,\"ticks\":\"\"},\"colorscale\":[[0.0,\"#0d0887\"],[0.1111111111111111,\"#46039f\"],[0.2222222222222222,\"#7201a8\"],[0.3333333333333333,\"#9c179e\"],[0.4444444444444444,\"#bd3786\"],[0.5555555555555556,\"#d8576b\"],[0.6666666666666666,\"#ed7953\"],[0.7777777777777778,\"#fb9f3a\"],[0.8888888888888888,\"#fdca26\"],[1.0,\"#f0f921\"]]}],\"contourcarpet\":[{\"type\":\"contourcarpet\",\"colorbar\":{\"outlinewidth\":0,\"ticks\":\"\"}}],\"contour\":[{\"type\":\"contour\",\"colorbar\":{\"outlinewidth\":0,\"ticks\":\"\"},\"colorscale\":[[0.0,\"#0d0887\"],[0.1111111111111111,\"#46039f\"],[0.2222222222222222,\"#7201a8\"],[0.3333333333333333,\"#9c179e\"],[0.4444444444444444,\"#bd3786\"],[0.5555555555555556,\"#d8576b\"],[0.6666666666666666,\"#ed7953\"],[0.7777777777777778,\"#fb9f3a\"],[0.8888888888888888,\"#fdca26\"],[1.0,\"#f0f921\"]]}],\"surface\":[{\"type\":\"surface\",\"colorbar\":{\"outlinewidth\":0,\"ticks\":\"\"},\"colorscale\":[[0.0,\"#0d0887\"],[0.1111111111111111,\"#46039f\"],[0.2222222222222222,\"#7201a8\"],[0.3333333333333333,\"#9c179e\"],[0.4444444444444444,\"#bd3786\"],[0.5555555555555556,\"#d8576b\"],[0.6666666666666666,\"#ed7953\"],[0.7777777777777778,\"#fb9f3a\"],[0.8888888888888888,\"#fdca26\"],[1.0,\"#f0f921\"]]}],\"mesh3d\":[{\"type\":\"mesh3d\",\"colorbar\":{\"outlinewidth\":0,\"ticks\":\"\"}}],\"scatter\":[{\"fillpattern\":{\"fillmode\":\"overlay\",\"size\":10,\"solidity\":0.2},\"type\":\"scatter\"}],\"parcoords\":[{\"type\":\"parcoords\",\"line\":{\"colorbar\":{\"outlinewidth\":0,\"ticks\":\"\"}}}],\"scatterpolargl\":[{\"type\":\"scatterpolargl\",\"marker\":{\"colorbar\":{\"outlinewidth\":0,\"ticks\":\"\"}}}],\"bar\":[{\"error_x\":{\"color\":\"#2a3f5f\"},\"error_y\":{\"color\":\"#2a3f5f\"},\"marker\":{\"line\":{\"color\":\"#E5ECF6\",\"width\":0.5},\"pattern\":{\"fillmode\":\"overlay\",\"size\":10,\"solidity\":0.2}},\"type\":\"bar\"}],\"scattergeo\":[{\"type\":\"scattergeo\",\"marker\":{\"colorbar\":{\"outlinewidth\":0,\"ticks\":\"\"}}}],\"scatterpolar\":[{\"type\":\"scatterpolar\",\"marker\":{\"colorbar\":{\"outlinewidth\":0,\"ticks\":\"\"}}}],\"histogram\":[{\"marker\":{\"pattern\":{\"fillmode\":\"overlay\",\"size\":10,\"solidity\":0.2}},\"type\":\"histogram\"}],\"scattergl\":[{\"type\":\"scattergl\",\"marker\":{\"colorbar\":{\"outlinewidth\":0,\"ticks\":\"\"}}}],\"scatter3d\":[{\"type\":\"scatter3d\",\"line\":{\"colorbar\":{\"outlinewidth\":0,\"ticks\":\"\"}},\"marker\":{\"colorbar\":{\"outlinewidth\":0,\"ticks\":\"\"}}}],\"scattermapbox\":[{\"type\":\"scattermapbox\",\"marker\":{\"colorbar\":{\"outlinewidth\":0,\"ticks\":\"\"}}}],\"scatterternary\":[{\"type\":\"scatterternary\",\"marker\":{\"colorbar\":{\"outlinewidth\":0,\"ticks\":\"\"}}}],\"scattercarpet\":[{\"type\":\"scattercarpet\",\"marker\":{\"colorbar\":{\"outlinewidth\":0,\"ticks\":\"\"}}}],\"carpet\":[{\"aaxis\":{\"endlinecolor\":\"#2a3f5f\",\"gridcolor\":\"white\",\"linecolor\":\"white\",\"minorgridcolor\":\"white\",\"startlinecolor\":\"#2a3f5f\"},\"baxis\":{\"endlinecolor\":\"#2a3f5f\",\"gridcolor\":\"white\",\"linecolor\":\"white\",\"minorgridcolor\":\"white\",\"startlinecolor\":\"#2a3f5f\"},\"type\":\"carpet\"}],\"table\":[{\"cells\":{\"fill\":{\"color\":\"#EBF0F8\"},\"line\":{\"color\":\"white\"}},\"header\":{\"fill\":{\"color\":\"#C8D4E3\"},\"line\":{\"color\":\"white\"}},\"type\":\"table\"}],\"barpolar\":[{\"marker\":{\"line\":{\"color\":\"#E5ECF6\",\"width\":0.5},\"pattern\":{\"fillmode\":\"overlay\",\"size\":10,\"solidity\":0.2}},\"type\":\"barpolar\"}],\"pie\":[{\"automargin\":true,\"type\":\"pie\"}]},\"layout\":{\"autotypenumbers\":\"strict\",\"colorway\":[\"#636efa\",\"#EF553B\",\"#00cc96\",\"#ab63fa\",\"#FFA15A\",\"#19d3f3\",\"#FF6692\",\"#B6E880\",\"#FF97FF\",\"#FECB52\"],\"font\":{\"color\":\"#2a3f5f\"},\"hovermode\":\"closest\",\"hoverlabel\":{\"align\":\"left\"},\"paper_bgcolor\":\"white\",\"plot_bgcolor\":\"#E5ECF6\",\"polar\":{\"bgcolor\":\"#E5ECF6\",\"angularaxis\":{\"gridcolor\":\"white\",\"linecolor\":\"white\",\"ticks\":\"\"},\"radialaxis\":{\"gridcolor\":\"white\",\"linecolor\":\"white\",\"ticks\":\"\"}},\"ternary\":{\"bgcolor\":\"#E5ECF6\",\"aaxis\":{\"gridcolor\":\"white\",\"linecolor\":\"white\",\"ticks\":\"\"},\"baxis\":{\"gridcolor\":\"white\",\"linecolor\":\"white\",\"ticks\":\"\"},\"caxis\":{\"gridcolor\":\"white\",\"linecolor\":\"white\",\"ticks\":\"\"}},\"coloraxis\":{\"colorbar\":{\"outlinewidth\":0,\"ticks\":\"\"}},\"colorscale\":{\"sequential\":[[0.0,\"#0d0887\"],[0.1111111111111111,\"#46039f\"],[0.2222222222222222,\"#7201a8\"],[0.3333333333333333,\"#9c179e\"],[0.4444444444444444,\"#bd3786\"],[0.5555555555555556,\"#d8576b\"],[0.6666666666666666,\"#ed7953\"],[0.7777777777777778,\"#fb9f3a\"],[0.8888888888888888,\"#fdca26\"],[1.0,\"#f0f921\"]],\"sequentialminus\":[[0.0,\"#0d0887\"],[0.1111111111111111,\"#46039f\"],[0.2222222222222222,\"#7201a8\"],[0.3333333333333333,\"#9c179e\"],[0.4444444444444444,\"#bd3786\"],[0.5555555555555556,\"#d8576b\"],[0.6666666666666666,\"#ed7953\"],[0.7777777777777778,\"#fb9f3a\"],[0.8888888888888888,\"#fdca26\"],[1.0,\"#f0f921\"]],\"diverging\":[[0,\"#8e0152\"],[0.1,\"#c51b7d\"],[0.2,\"#de77ae\"],[0.3,\"#f1b6da\"],[0.4,\"#fde0ef\"],[0.5,\"#f7f7f7\"],[0.6,\"#e6f5d0\"],[0.7,\"#b8e186\"],[0.8,\"#7fbc41\"],[0.9,\"#4d9221\"],[1,\"#276419\"]]},\"xaxis\":{\"gridcolor\":\"white\",\"linecolor\":\"white\",\"ticks\":\"\",\"title\":{\"standoff\":15},\"zerolinecolor\":\"white\",\"automargin\":true,\"zerolinewidth\":2},\"yaxis\":{\"gridcolor\":\"white\",\"linecolor\":\"white\",\"ticks\":\"\",\"title\":{\"standoff\":15},\"zerolinecolor\":\"white\",\"automargin\":true,\"zerolinewidth\":2},\"scene\":{\"xaxis\":{\"backgroundcolor\":\"#E5ECF6\",\"gridcolor\":\"white\",\"linecolor\":\"white\",\"showbackground\":true,\"ticks\":\"\",\"zerolinecolor\":\"white\",\"gridwidth\":2},\"yaxis\":{\"backgroundcolor\":\"#E5ECF6\",\"gridcolor\":\"white\",\"linecolor\":\"white\",\"showbackground\":true,\"ticks\":\"\",\"zerolinecolor\":\"white\",\"gridwidth\":2},\"zaxis\":{\"backgroundcolor\":\"#E5ECF6\",\"gridcolor\":\"white\",\"linecolor\":\"white\",\"showbackground\":true,\"ticks\":\"\",\"zerolinecolor\":\"white\",\"gridwidth\":2}},\"shapedefaults\":{\"line\":{\"color\":\"#2a3f5f\"}},\"annotationdefaults\":{\"arrowcolor\":\"#2a3f5f\",\"arrowhead\":0,\"arrowwidth\":1},\"geo\":{\"bgcolor\":\"white\",\"landcolor\":\"#E5ECF6\",\"subunitcolor\":\"white\",\"showland\":true,\"showlakes\":true,\"lakecolor\":\"white\"},\"title\":{\"x\":0.05},\"mapbox\":{\"style\":\"light\"}}},\"xaxis\":{\"anchor\":\"y\",\"domain\":[0.0,1.0],\"title\":{\"text\":\"x\"}},\"yaxis\":{\"anchor\":\"x\",\"domain\":[0.0,1.0],\"title\":{\"text\":\"y\"}},\"legend\":{\"tracegroupgap\":0},\"margin\":{\"t\":60}},                        {\"responsive\": true}                    ).then(function(){\n",
              "                            \n",
              "var gd = document.getElementById('d57eda3c-ced7-4abc-b593-5af9b6b82528');\n",
              "var x = new MutationObserver(function (mutations, observer) {{\n",
              "        var display = window.getComputedStyle(gd).display;\n",
              "        if (!display || display === 'none') {{\n",
              "            console.log([gd, 'removed!']);\n",
              "            Plotly.purge(gd);\n",
              "            observer.disconnect();\n",
              "        }}\n",
              "}});\n",
              "\n",
              "// Listen for the removal of the full notebook cells\n",
              "var notebookContainer = gd.closest('#notebook-container');\n",
              "if (notebookContainer) {{\n",
              "    x.observe(notebookContainer, {childList: true});\n",
              "}}\n",
              "\n",
              "// Listen for the clearing of the current output cell\n",
              "var outputEl = gd.closest('.output');\n",
              "if (outputEl) {{\n",
              "    x.observe(outputEl, {childList: true});\n",
              "}}\n",
              "\n",
              "                        })                };                            </script>        </div>\n",
              "</body>\n",
              "</html>"
            ]
          },
          "metadata": {}
        }
      ],
      "source": [
        "# Graficar los embedddings en 2D\n",
        "import plotly.graph_objects as go\n",
        "import plotly.express as px\n",
        "\n",
        "x_vals, y_vals, labels = reduce_dimensions(w2v_model)\n",
        "\n",
        "MAX_WORDS=200\n",
        "fig = px.scatter(x=x_vals[:MAX_WORDS], y=y_vals[:MAX_WORDS], text=labels[:MAX_WORDS])\n",
        "fig.show(renderer=\"colab\") # esto para plotly en colab"
      ]
    },
    {
      "cell_type": "markdown",
      "metadata": {
        "id": "yMM_SHSaZ9N-"
      },
      "source": [
        "### Alumno"
      ]
    },
    {
      "cell_type": "markdown",
      "metadata": {
        "id": "WivQZ3ZCZ9N_"
      },
      "source": [
        "- Crear sus propios vectores con Gensim basado en lo visto en clase con otro dataset.\n",
        "- Probar términos de interés y explicar similitudes en el espacio de embeddings (sacar conclusiones entre palabras similitudes y diferencias).\n",
        "- Graficarlos.\n",
        "- Obtener conclusiones."
      ]
    }
  ],
  "metadata": {
    "colab": {
      "provenance": [],
      "include_colab_link": true
    },
    "kernelspec": {
      "display_name": "Python 3 (ipykernel)",
      "language": "python",
      "name": "python3"
    },
    "language_info": {
      "codemirror_mode": {
        "name": "ipython",
        "version": 3
      },
      "file_extension": ".py",
      "mimetype": "text/x-python",
      "name": "python",
      "nbconvert_exporter": "python",
      "pygments_lexer": "ipython3",
      "version": "3.10.6"
    }
  },
  "nbformat": 4,
  "nbformat_minor": 0
}
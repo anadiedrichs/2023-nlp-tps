{
  "cells": [
    {
      "cell_type": "markdown",
      "metadata": {
        "id": "view-in-github",
        "colab_type": "text"
      },
      "source": [
        "<a href=\"https://colab.research.google.com/github/anadiedrichs/2023-nlp-tps/blob/main/3b_Custom_embedding_con_Gensim_ingredientes_food.ipynb\" target=\"_parent\"><img src=\"https://colab.research.google.com/assets/colab-badge.svg\" alt=\"Open In Colab\"/></a>"
      ]
    },
    {
      "cell_type": "markdown",
      "metadata": {
        "id": "sZd5yLnnHOK0"
      },
      "source": [
        "<img src=\"https://github.com/hernancontigiani/ceia_memorias_especializacion/raw/master/Figures/logoFIUBA.jpg\" width=\"500\" align=\"center\">\n",
        "\n",
        "\n",
        "# Procesamiento de lenguaje natural\n",
        "\n",
        "### Datos de la alumna:\n",
        "\n",
        "Ana Laura Diedrichs\n",
        "\n",
        "SIU a0902\n",
        "\n",
        "\n",
        "## Custom embedddings con Gensim\n",
        "\n",
        "### Uso de dataset de recetas de cocina\n",
        "\n",
        "Procedo a descargar un dataset de recetas de cocina, que además lista sus ingredientes desde Kaggle:\n",
        "\n",
        "https://www.kaggle.com/datasets/nazmussakibrupol/3a2m-cooking-recipe-dataset\n"
      ]
    },
    {
      "cell_type": "code",
      "source": [
        "# Descargar la carpeta de dataset\n",
        "import os\n",
        "import platform\n",
        "url = \"https://www.dropbox.com/scl/fi/j4mqu2e9a8ywcnaft5fjo/3a2m-cooking.zip?rlkey=u6ntt0n47b16dlxhvvdxks6lc&dl=1\"\n",
        "if os.access('./3a2m-cooking', os.F_OK) is False:\n",
        "    if os.access('3a2m-cooking.zip', os.F_OK) is False:\n",
        "      !wget -O 3a2m-cooking.zip https://www.dropbox.com/scl/fi/j4mqu2e9a8ywcnaft5fjo/3a2m-cooking.zip?rlkey=u6ntt0n47b16dlxhvvdxks6lc&dl=1\n",
        "    !unzip -q 3a2m-cooking.zip\n",
        "else:\n",
        "    print(\"El dataset ya se encuentra descargado\")"
      ],
      "metadata": {
        "colab": {
          "base_uri": "https://localhost:8080/"
        },
        "id": "9BrA1gjmSj9u",
        "outputId": "bb3632e9-b87d-43ff-ced4-e55069973cb7"
      },
      "execution_count": 1,
      "outputs": [
        {
          "output_type": "stream",
          "name": "stdout",
          "text": [
            "--2023-08-25 12:33:50--  https://www.dropbox.com/scl/fi/j4mqu2e9a8ywcnaft5fjo/3a2m-cooking.zip?rlkey=u6ntt0n47b16dlxhvvdxks6lc\n",
            "Resolving www.dropbox.com (www.dropbox.com)... 162.125.65.18, 2620:100:6021:18::a27d:4112\n",
            "Connecting to www.dropbox.com (www.dropbox.com)|162.125.65.18|:443... connected.\n",
            "HTTP request sent, awaiting response... 302 Found\n",
            "Location: https://www.dropbox.com/e/scl/fi/j4mqu2e9a8ywcnaft5fjo/3a2m-cooking.zip?rlkey=u6ntt0n47b16dlxhvvdxks6lc [following]\n",
            "--2023-08-25 12:33:50--  https://www.dropbox.com/e/scl/fi/j4mqu2e9a8ywcnaft5fjo/3a2m-cooking.zip?rlkey=u6ntt0n47b16dlxhvvdxks6lc\n",
            "Reusing existing connection to www.dropbox.com:443.\n",
            "HTTP request sent, awaiting response... 302 Found\n",
            "Location: https://ucbb2bf05809cf44679d8ddab909.dl.dropboxusercontent.com/cd/0/inline/CCfmpR1kiRIFKaWe4ZDhaCMDeJ61XIaWo0fkADyQNjvRbHF-DrDBDcrcfl7uJqZP9Q1rUXim4cyREmdzUcjqVfdNODGRMTSOpaJzKzqNYe59wW-Dp_hyttSkYr3H955rG4c/file# [following]\n",
            "--2023-08-25 12:33:51--  https://ucbb2bf05809cf44679d8ddab909.dl.dropboxusercontent.com/cd/0/inline/CCfmpR1kiRIFKaWe4ZDhaCMDeJ61XIaWo0fkADyQNjvRbHF-DrDBDcrcfl7uJqZP9Q1rUXim4cyREmdzUcjqVfdNODGRMTSOpaJzKzqNYe59wW-Dp_hyttSkYr3H955rG4c/file\n",
            "Resolving ucbb2bf05809cf44679d8ddab909.dl.dropboxusercontent.com (ucbb2bf05809cf44679d8ddab909.dl.dropboxusercontent.com)... 162.125.4.15, 2620:100:6027:15::a27d:480f\n",
            "Connecting to ucbb2bf05809cf44679d8ddab909.dl.dropboxusercontent.com (ucbb2bf05809cf44679d8ddab909.dl.dropboxusercontent.com)|162.125.4.15|:443... connected.\n",
            "HTTP request sent, awaiting response... 302 Found\n",
            "Location: /cd/0/inline2/CCe03Fxo9kDgpa1TQfS1cBXp6PRm9aTheZN5biOmirO0TcfV15fZ6cRzPw8cArQRsBaUHntWhtq9-S2ZNCsVXTk-kRzMwkbXGKkt3E2ZLR9Gb2coQ7tzSfe9NKq_kUIF3tx2CagYX5BmA-EsEtJhT7SgGe1_UNSPQpVWUNxgB3vFh1ZS58JD2KD4xoT796q6xWub6ZNP1t9n2Xxbr85qDROJwdO59LW8ysGKUKhGJYa_bJ342WjNByx4nqFikpE1OoG26PSQcFhuikX1_yasDKcglsoBI4gCiJp-mm585_YRf_GrgwcaA_pXdmgsalARzyWY1yfiAG_4EI95HTHdGr0FrKI_hvq0xDpyDpzGlGFQRw/file [following]\n",
            "--2023-08-25 12:33:52--  https://ucbb2bf05809cf44679d8ddab909.dl.dropboxusercontent.com/cd/0/inline2/CCe03Fxo9kDgpa1TQfS1cBXp6PRm9aTheZN5biOmirO0TcfV15fZ6cRzPw8cArQRsBaUHntWhtq9-S2ZNCsVXTk-kRzMwkbXGKkt3E2ZLR9Gb2coQ7tzSfe9NKq_kUIF3tx2CagYX5BmA-EsEtJhT7SgGe1_UNSPQpVWUNxgB3vFh1ZS58JD2KD4xoT796q6xWub6ZNP1t9n2Xxbr85qDROJwdO59LW8ysGKUKhGJYa_bJ342WjNByx4nqFikpE1OoG26PSQcFhuikX1_yasDKcglsoBI4gCiJp-mm585_YRf_GrgwcaA_pXdmgsalARzyWY1yfiAG_4EI95HTHdGr0FrKI_hvq0xDpyDpzGlGFQRw/file\n",
            "Reusing existing connection to ucbb2bf05809cf44679d8ddab909.dl.dropboxusercontent.com:443.\n",
            "HTTP request sent, awaiting response... 200 OK\n",
            "Length: 470582689 (449M) [application/zip]\n",
            "Saving to: ‘3a2m-cooking.zip’\n",
            "\n",
            "3a2m-cooking.zip    100%[===================>] 448.78M  26.4MB/s    in 17s     \n",
            "\n",
            "2023-08-25 12:34:10 (25.7 MB/s) - ‘3a2m-cooking.zip’ saved [470582689/470582689]\n",
            "\n"
          ]
        }
      ]
    },
    {
      "cell_type": "markdown",
      "source": [],
      "metadata": {
        "id": "R41Y4f57s1bW"
      }
    },
    {
      "cell_type": "markdown",
      "metadata": {
        "id": "vA7nqkumo9z9"
      },
      "source": [
        "### Objetivo\n",
        "El objetivo es utilizar documentos / corpus para crear embeddings de palabras basado en ese contexto. Se utilizará canciones de bandas para generar los embeddings, es decir, que los vectores tendrán la forma en función de como esa banda haya utilizado las palabras en sus canciones."
      ]
    },
    {
      "cell_type": "code",
      "execution_count": 2,
      "metadata": {
        "id": "lFToQs5FK5uZ"
      },
      "outputs": [],
      "source": [
        "import pandas as pd\n",
        "import matplotlib.pyplot as plt\n",
        "import seaborn as sns\n",
        "\n",
        "import multiprocessing\n",
        "from gensim.models import Word2Vec"
      ]
    },
    {
      "cell_type": "markdown",
      "metadata": {
        "id": "g07zJxG7H9vG"
      },
      "source": [
        "### Datos\n",
        "Utilizaremos como dataset canciones de bandas de habla inglesa."
      ]
    },
    {
      "cell_type": "code",
      "execution_count": 3,
      "metadata": {
        "id": "l7z4CSBfpR3X",
        "colab": {
          "base_uri": "https://localhost:8080/"
        },
        "outputId": "8b212acd-fbc5-4f22-c464-55abeaf7448d"
      },
      "outputs": [
        {
          "output_type": "stream",
          "name": "stdout",
          "text": [
            "--2023-08-25 12:34:33--  http://songs_dataset.zip/\n",
            "Resolving songs_dataset.zip (songs_dataset.zip)... failed: Name or service not known.\n",
            "wget: unable to resolve host address ‘songs_dataset.zip’\n",
            "--2023-08-25 12:34:33--  https://github.com/FIUBA-Posgrado-Inteligencia-Artificial/procesamiento_lenguaje_natural/raw/main/datasets/songs_dataset.zip\n",
            "Resolving github.com (github.com)... 140.82.121.4\n",
            "Connecting to github.com (github.com)|140.82.121.4|:443... connected.\n",
            "HTTP request sent, awaiting response... 302 Found\n",
            "Location: https://raw.githubusercontent.com/FIUBA-Posgrado-Inteligencia-Artificial/procesamiento_lenguaje_natural/main/datasets/songs_dataset.zip [following]\n",
            "--2023-08-25 12:34:33--  https://raw.githubusercontent.com/FIUBA-Posgrado-Inteligencia-Artificial/procesamiento_lenguaje_natural/main/datasets/songs_dataset.zip\n",
            "Resolving raw.githubusercontent.com (raw.githubusercontent.com)... 185.199.111.133, 185.199.109.133, 185.199.110.133, ...\n",
            "Connecting to raw.githubusercontent.com (raw.githubusercontent.com)|185.199.111.133|:443... connected.\n",
            "HTTP request sent, awaiting response... 200 OK\n",
            "Length: 2075036 (2.0M) [application/zip]\n",
            "Saving to: ‘songs_dataset.zip’\n",
            "\n",
            "songs_dataset.zip   100%[===================>]   1.98M  --.-KB/s    in 0.02s   \n",
            "\n",
            "2023-08-25 12:34:34 (86.9 MB/s) - ‘songs_dataset.zip’ saved [2075036/2075036]\n",
            "\n",
            "FINISHED --2023-08-25 12:34:34--\n",
            "Total wall clock time: 1.0s\n",
            "Downloaded: 1 files, 2.0M in 0.02s (86.9 MB/s)\n"
          ]
        }
      ],
      "source": [
        "# Descargar la carpeta de dataset\n",
        "import os\n",
        "import platform\n",
        "if os.access('./songs_dataset', os.F_OK) is False:\n",
        "    if os.access('songs_dataset.zip', os.F_OK) is False:\n",
        "        if platform.system() == 'Windows':\n",
        "            !curl https://raw.githubusercontent.com/FIUBA-Posgrado-Inteligencia-Artificial/procesamiento_lenguaje_natural/main/datasets/songs_dataset.zip -o songs_dataset.zip\n",
        "        else:\n",
        "            !wget songs_dataset.zip https://github.com/FIUBA-Posgrado-Inteligencia-Artificial/procesamiento_lenguaje_natural/raw/main/datasets/songs_dataset.zip\n",
        "    !unzip -q songs_dataset.zip\n",
        "else:\n",
        "    print(\"El dataset ya se encuentra descargado\")"
      ]
    },
    {
      "cell_type": "code",
      "source": [
        "!ls -la"
      ],
      "metadata": {
        "colab": {
          "base_uri": "https://localhost:8080/"
        },
        "id": "tw_CL4dnTHRD",
        "outputId": "203ce5cd-46df-4bbf-d8a9-1344a681439d"
      },
      "execution_count": 4,
      "outputs": [
        {
          "output_type": "stream",
          "name": "stdout",
          "text": [
            "total 1966784\n",
            "drwxr-xr-x 1 root root       4096 Aug 25 12:34 .\n",
            "drwxr-xr-x 1 root root       4096 Aug 25 12:32 ..\n",
            "-rw-r--r-- 1 root root  470582689 Aug 25 12:34 3a2m-cooking.zip\n",
            "-rw-r--r-- 1 root root 1541295067 Jul 26  2022 3A2M.csv\n",
            "drwxr-xr-x 4 root root       4096 Aug 23 13:34 .config\n",
            "drwxr-xr-x 1 root root       4096 Aug 23 13:35 sample_data\n",
            "drwxr-xr-x 2 root root       4096 Aug 19  2020 songs_dataset\n",
            "-rw-r--r-- 1 root root    2075036 Aug 25 12:34 songs_dataset.zip\n"
          ]
        }
      ]
    },
    {
      "cell_type": "code",
      "source": [
        "! head 3A2M.csv"
      ],
      "metadata": {
        "colab": {
          "base_uri": "https://localhost:8080/"
        },
        "id": "cmHfFTLAWL6m",
        "outputId": "afb68b6b-8cdb-4546-ca17-ef1f40e9ad3e"
      },
      "execution_count": 5,
      "outputs": [
        {
          "output_type": "stream",
          "name": "stdout",
          "text": [
            ",title,directions,NER,genre,label\n",
            "0,Reeses Cups(Candy)  ,\"[\"\"Combine first four ingredients and press in 13 x 9-inch ungreased pan.\"\", \"\"Melt chocolate chips and spread over mixture. Refrigerate for about 20 minutes and cut into pieces before chocolate gets hard.\"\", \"\"Keep in refrigerator.\"\"]\",\"[\"\"peanut butter\"\", \"\"graham cracker crumbs\"\", \"\"butter\"\", \"\"powdered sugar\"\", \"\"chocolate chips\"\"]\",drinks,2\n",
            "1,Rhubarb Coffee Cake,\"[\"\"Cream sugar and butter.\"\", \"\"Add egg and beat well.\"\", \"\"To creamed butter, sugar and egg, add alternately buttermilk with mixture of flour, salt and soda.\"\", \"\"Mix well.\"\", \"\"Add rhubarb and vanilla.\"\", \"\"Pour into greased 9 x 13-inch pan and add Topping.\"\"]\",\"[\"\"sugar\"\", \"\"butter\"\", \"\"egg\"\", \"\"buttermilk\"\", \"\"flour\"\", \"\"salt\"\", \"\"soda\"\", \"\"buttermilk\"\", \"\"rhubarb\"\", \"\"vanilla\"\"]\",drinks,2\n",
            "2,Quick Barbecue Wings,\"[\"\"Clean wings.\"\", \"\"Flour and fry until done.\"\", \"\"Place fried chicken wings in microwave bowl.\"\", \"\"Stir in barbecue sauce.\"\", \"\"Microwave on High (stir once) for 4 minutes.\"\"]\",\"[\"\"chicken\"\", \"\"flour\"\", \"\"barbecue sauce\"\"]\",nonveg,3\n",
            "3,Chocolate Frango Mints,\"[\"\"Mix ingredients together for 5 minutes.\"\", \"\"Scrape bowl often. Last fold in chocolate chip mints.\"\", \"\"Bake at 350\\u00b0 for 35 to 40 minutes or until done (cake mix directions).\"\"]\",\"[\"\"cake mix\"\", \"\"chocolate fudge pudding\"\", \"\"sour cream\"\", \"\"water\"\", \"\"Wesson oil\"\", \"\"eggs\"\", \"\"Frango\"\"]\",drinks,2\n",
            "4,Corral Barbecued Beef Steak Strips,\"[\"\"Brown strips in cooking oil.\"\", \"\"Pour off drippings.\"\", \"\"Combine tomato sauce, water, brown sugar, mustard and Worcestershire sauce.\"\", \"\"Add sauce and onion to meat slices.\"\", \"\"Cover and cook slowly, stirring occasionally 30 minutes or until meat is tender. Serve over rice or buttered noodles.\"\", \"\"Yields 6 to 8 servings.\"\"]\",\"[\"\"long\"\", \"\"cooking oil\"\", \"\"tomato sauce\"\", \"\"water\"\", \"\"brown sugar\"\", \"\"mustard\"\", \"\"Worcestershire sauce\"\", \"\"onion\"\"]\",drinks,2\n",
            "5,Punch Bowl Fruit Salad,\"[\"\"In a 6-quart punch bowl mix all of the cans of fruit, juice and all.\"\", \"\"Clean and slice berries.\"\", \"\"Wash and slice apples; leave peeling on apples.\"\", \"\"Dice apples.\"\", \"\"Slice bananas.\"\", \"\"Wash and cut grapes in half.\"\", \"\"Mix all together.\"\", \"\"Nuts or other fruit may be added.\"\"]\",\"[\"\"peaches\"\", \"\"fruit cocktail\"\", \"\"pineapple\"\", \"\"fresh strawberries\"\", \"\"red apples\"\", \"\"yellow apples\"\", \"\"bananas\"\", \"\"white grapes\"\", \"\"purple grapes\"\"]\",vegetables,4\n",
            "6,Potato And Cheese Pie,\"[\"\"Beat eggs, salt and pepper until well blended.\"\", \"\"Stir in half and half, potatoes and onions.\"\", \"\"Pour into well-greased 8-inch baking dish.\"\", \"\"Bake in a 400\\u00b0 oven for 35 to 40 minutes, or until knife inserted in center comes out clean and potatoes are tender. Cool on rack 5 minutes; cut into squares.\"\", \"\"Makes 4 large servings.\"\"]\",\"[\"\"eggs\"\", \"\"salt\"\", \"\"pepper\"\", \"\"potatoes\"\", \"\"Cheddar cheese\"\", \"\"green onions\"\"]\",vegetables,4\n",
            "7,Chocolate Mint Bars,\"[\"\"Mix together and bake in 9 x 13-inch pan at 350\\u00b0 for 25 to 30 minutes.\"\", \"\"Top should spring back when touched lightly; do not overbake.\"\", \"\"Cool completely, then spread with mint layer.\"\"]\",\"[\"\"flour\"\", \"\"sugar\"\", \"\"oleo\"\", \"\"eggs\"\", \"\"chocolate syrup\"\"]\",drinks,2\n",
            "8,Pineapple Nut Pie,\"[\"\"Cream the cream cheese; add the milk and beat smooth.\"\", \"\"Add lemon juice, pineapple and nuts.\"\", \"\"Beat well.\"\", \"\"Pour into graham cracker crust and chill.\"\", \"\"Slice in small servings (very rich) and top with dollop of Cool Whip.\"\"]\",\"[\"\"cream cheese\"\", \"\"condensed milk\"\", \"\"pineapple\"\", \"\"nuts\"\", \"\"lemon juice\"\"]\",vegetables,4\n"
          ]
        }
      ]
    },
    {
      "cell_type": "code",
      "source": [
        "# Armar el dataset utilizando salto de línea para separar las oraciones/docs\n",
        "df = pd.read_csv('3A2M.csv')\n",
        "df.head()"
      ],
      "metadata": {
        "colab": {
          "base_uri": "https://localhost:8080/",
          "height": 206
        },
        "id": "dq75JJP0WZ9i",
        "outputId": "97be7efc-e1b8-4839-fa1f-0b888dea0422"
      },
      "execution_count": 6,
      "outputs": [
        {
          "output_type": "execute_result",
          "data": {
            "text/plain": [
              "   Unnamed: 0                               title  \\\n",
              "0           0                Reeses Cups(Candy)     \n",
              "1           1                 Rhubarb Coffee Cake   \n",
              "2           2                Quick Barbecue Wings   \n",
              "3           3              Chocolate Frango Mints   \n",
              "4           4  Corral Barbecued Beef Steak Strips   \n",
              "\n",
              "                                          directions  \\\n",
              "0  [\"Combine first four ingredients and press in ...   \n",
              "1  [\"Cream sugar and butter.\", \"Add egg and beat ...   \n",
              "2  [\"Clean wings.\", \"Flour and fry until done.\", ...   \n",
              "3  [\"Mix ingredients together for 5 minutes.\", \"S...   \n",
              "4  [\"Brown strips in cooking oil.\", \"Pour off dri...   \n",
              "\n",
              "                                                 NER   genre  label  \n",
              "0  [\"peanut butter\", \"graham cracker crumbs\", \"bu...  drinks      2  \n",
              "1  [\"sugar\", \"butter\", \"egg\", \"buttermilk\", \"flou...  drinks      2  \n",
              "2             [\"chicken\", \"flour\", \"barbecue sauce\"]  nonveg      3  \n",
              "3  [\"cake mix\", \"chocolate fudge pudding\", \"sour ...  drinks      2  \n",
              "4  [\"long\", \"cooking oil\", \"tomato sauce\", \"water...  drinks      2  "
            ],
            "text/html": [
              "\n",
              "  <div id=\"df-5bc317d4-e02f-4cfe-bf05-66196ee6b88c\" class=\"colab-df-container\">\n",
              "    <div>\n",
              "<style scoped>\n",
              "    .dataframe tbody tr th:only-of-type {\n",
              "        vertical-align: middle;\n",
              "    }\n",
              "\n",
              "    .dataframe tbody tr th {\n",
              "        vertical-align: top;\n",
              "    }\n",
              "\n",
              "    .dataframe thead th {\n",
              "        text-align: right;\n",
              "    }\n",
              "</style>\n",
              "<table border=\"1\" class=\"dataframe\">\n",
              "  <thead>\n",
              "    <tr style=\"text-align: right;\">\n",
              "      <th></th>\n",
              "      <th>Unnamed: 0</th>\n",
              "      <th>title</th>\n",
              "      <th>directions</th>\n",
              "      <th>NER</th>\n",
              "      <th>genre</th>\n",
              "      <th>label</th>\n",
              "    </tr>\n",
              "  </thead>\n",
              "  <tbody>\n",
              "    <tr>\n",
              "      <th>0</th>\n",
              "      <td>0</td>\n",
              "      <td>Reeses Cups(Candy)</td>\n",
              "      <td>[\"Combine first four ingredients and press in ...</td>\n",
              "      <td>[\"peanut butter\", \"graham cracker crumbs\", \"bu...</td>\n",
              "      <td>drinks</td>\n",
              "      <td>2</td>\n",
              "    </tr>\n",
              "    <tr>\n",
              "      <th>1</th>\n",
              "      <td>1</td>\n",
              "      <td>Rhubarb Coffee Cake</td>\n",
              "      <td>[\"Cream sugar and butter.\", \"Add egg and beat ...</td>\n",
              "      <td>[\"sugar\", \"butter\", \"egg\", \"buttermilk\", \"flou...</td>\n",
              "      <td>drinks</td>\n",
              "      <td>2</td>\n",
              "    </tr>\n",
              "    <tr>\n",
              "      <th>2</th>\n",
              "      <td>2</td>\n",
              "      <td>Quick Barbecue Wings</td>\n",
              "      <td>[\"Clean wings.\", \"Flour and fry until done.\", ...</td>\n",
              "      <td>[\"chicken\", \"flour\", \"barbecue sauce\"]</td>\n",
              "      <td>nonveg</td>\n",
              "      <td>3</td>\n",
              "    </tr>\n",
              "    <tr>\n",
              "      <th>3</th>\n",
              "      <td>3</td>\n",
              "      <td>Chocolate Frango Mints</td>\n",
              "      <td>[\"Mix ingredients together for 5 minutes.\", \"S...</td>\n",
              "      <td>[\"cake mix\", \"chocolate fudge pudding\", \"sour ...</td>\n",
              "      <td>drinks</td>\n",
              "      <td>2</td>\n",
              "    </tr>\n",
              "    <tr>\n",
              "      <th>4</th>\n",
              "      <td>4</td>\n",
              "      <td>Corral Barbecued Beef Steak Strips</td>\n",
              "      <td>[\"Brown strips in cooking oil.\", \"Pour off dri...</td>\n",
              "      <td>[\"long\", \"cooking oil\", \"tomato sauce\", \"water...</td>\n",
              "      <td>drinks</td>\n",
              "      <td>2</td>\n",
              "    </tr>\n",
              "  </tbody>\n",
              "</table>\n",
              "</div>\n",
              "    <div class=\"colab-df-buttons\">\n",
              "\n",
              "  <div class=\"colab-df-container\">\n",
              "    <button class=\"colab-df-convert\" onclick=\"convertToInteractive('df-5bc317d4-e02f-4cfe-bf05-66196ee6b88c')\"\n",
              "            title=\"Convert this dataframe to an interactive table.\"\n",
              "            style=\"display:none;\">\n",
              "\n",
              "  <svg xmlns=\"http://www.w3.org/2000/svg\" height=\"24px\" viewBox=\"0 -960 960 960\">\n",
              "    <path d=\"M120-120v-720h720v720H120Zm60-500h600v-160H180v160Zm220 220h160v-160H400v160Zm0 220h160v-160H400v160ZM180-400h160v-160H180v160Zm440 0h160v-160H620v160ZM180-180h160v-160H180v160Zm440 0h160v-160H620v160Z\"/>\n",
              "  </svg>\n",
              "    </button>\n",
              "\n",
              "  <style>\n",
              "    .colab-df-container {\n",
              "      display:flex;\n",
              "      gap: 12px;\n",
              "    }\n",
              "\n",
              "    .colab-df-convert {\n",
              "      background-color: #E8F0FE;\n",
              "      border: none;\n",
              "      border-radius: 50%;\n",
              "      cursor: pointer;\n",
              "      display: none;\n",
              "      fill: #1967D2;\n",
              "      height: 32px;\n",
              "      padding: 0 0 0 0;\n",
              "      width: 32px;\n",
              "    }\n",
              "\n",
              "    .colab-df-convert:hover {\n",
              "      background-color: #E2EBFA;\n",
              "      box-shadow: 0px 1px 2px rgba(60, 64, 67, 0.3), 0px 1px 3px 1px rgba(60, 64, 67, 0.15);\n",
              "      fill: #174EA6;\n",
              "    }\n",
              "\n",
              "    .colab-df-buttons div {\n",
              "      margin-bottom: 4px;\n",
              "    }\n",
              "\n",
              "    [theme=dark] .colab-df-convert {\n",
              "      background-color: #3B4455;\n",
              "      fill: #D2E3FC;\n",
              "    }\n",
              "\n",
              "    [theme=dark] .colab-df-convert:hover {\n",
              "      background-color: #434B5C;\n",
              "      box-shadow: 0px 1px 3px 1px rgba(0, 0, 0, 0.15);\n",
              "      filter: drop-shadow(0px 1px 2px rgba(0, 0, 0, 0.3));\n",
              "      fill: #FFFFFF;\n",
              "    }\n",
              "  </style>\n",
              "\n",
              "    <script>\n",
              "      const buttonEl =\n",
              "        document.querySelector('#df-5bc317d4-e02f-4cfe-bf05-66196ee6b88c button.colab-df-convert');\n",
              "      buttonEl.style.display =\n",
              "        google.colab.kernel.accessAllowed ? 'block' : 'none';\n",
              "\n",
              "      async function convertToInteractive(key) {\n",
              "        const element = document.querySelector('#df-5bc317d4-e02f-4cfe-bf05-66196ee6b88c');\n",
              "        const dataTable =\n",
              "          await google.colab.kernel.invokeFunction('convertToInteractive',\n",
              "                                                    [key], {});\n",
              "        if (!dataTable) return;\n",
              "\n",
              "        const docLinkHtml = 'Like what you see? Visit the ' +\n",
              "          '<a target=\"_blank\" href=https://colab.research.google.com/notebooks/data_table.ipynb>data table notebook</a>'\n",
              "          + ' to learn more about interactive tables.';\n",
              "        element.innerHTML = '';\n",
              "        dataTable['output_type'] = 'display_data';\n",
              "        await google.colab.output.renderOutput(dataTable, element);\n",
              "        const docLink = document.createElement('div');\n",
              "        docLink.innerHTML = docLinkHtml;\n",
              "        element.appendChild(docLink);\n",
              "      }\n",
              "    </script>\n",
              "  </div>\n",
              "\n",
              "\n",
              "<div id=\"df-8a76b918-6b84-4aab-8dcb-ef33b5b3e509\">\n",
              "  <button class=\"colab-df-quickchart\" onclick=\"quickchart('df-8a76b918-6b84-4aab-8dcb-ef33b5b3e509')\"\n",
              "            title=\"Suggest charts.\"\n",
              "            style=\"display:none;\">\n",
              "\n",
              "<svg xmlns=\"http://www.w3.org/2000/svg\" height=\"24px\"viewBox=\"0 0 24 24\"\n",
              "     width=\"24px\">\n",
              "    <g>\n",
              "        <path d=\"M19 3H5c-1.1 0-2 .9-2 2v14c0 1.1.9 2 2 2h14c1.1 0 2-.9 2-2V5c0-1.1-.9-2-2-2zM9 17H7v-7h2v7zm4 0h-2V7h2v10zm4 0h-2v-4h2v4z\"/>\n",
              "    </g>\n",
              "</svg>\n",
              "  </button>\n",
              "\n",
              "<style>\n",
              "  .colab-df-quickchart {\n",
              "    background-color: #E8F0FE;\n",
              "    border: none;\n",
              "    border-radius: 50%;\n",
              "    cursor: pointer;\n",
              "    display: none;\n",
              "    fill: #1967D2;\n",
              "    height: 32px;\n",
              "    padding: 0 0 0 0;\n",
              "    width: 32px;\n",
              "  }\n",
              "\n",
              "  .colab-df-quickchart:hover {\n",
              "    background-color: #E2EBFA;\n",
              "    box-shadow: 0px 1px 2px rgba(60, 64, 67, 0.3), 0px 1px 3px 1px rgba(60, 64, 67, 0.15);\n",
              "    fill: #174EA6;\n",
              "  }\n",
              "\n",
              "  [theme=dark] .colab-df-quickchart {\n",
              "    background-color: #3B4455;\n",
              "    fill: #D2E3FC;\n",
              "  }\n",
              "\n",
              "  [theme=dark] .colab-df-quickchart:hover {\n",
              "    background-color: #434B5C;\n",
              "    box-shadow: 0px 1px 3px 1px rgba(0, 0, 0, 0.15);\n",
              "    filter: drop-shadow(0px 1px 2px rgba(0, 0, 0, 0.3));\n",
              "    fill: #FFFFFF;\n",
              "  }\n",
              "</style>\n",
              "\n",
              "  <script>\n",
              "    async function quickchart(key) {\n",
              "      const charts = await google.colab.kernel.invokeFunction(\n",
              "          'suggestCharts', [key], {});\n",
              "    }\n",
              "    (() => {\n",
              "      let quickchartButtonEl =\n",
              "        document.querySelector('#df-8a76b918-6b84-4aab-8dcb-ef33b5b3e509 button');\n",
              "      quickchartButtonEl.style.display =\n",
              "        google.colab.kernel.accessAllowed ? 'block' : 'none';\n",
              "    })();\n",
              "  </script>\n",
              "</div>\n",
              "    </div>\n",
              "  </div>\n"
            ]
          },
          "metadata": {},
          "execution_count": 6
        }
      ]
    },
    {
      "cell_type": "code",
      "source": [
        "df = pd.DataFrame(df[\"NER\"])\n",
        "df.head()"
      ],
      "metadata": {
        "colab": {
          "base_uri": "https://localhost:8080/",
          "height": 206
        },
        "id": "HEVv8O6-Wpzi",
        "outputId": "af2982e7-51d7-4534-ddbe-80be3bf0f11b"
      },
      "execution_count": 7,
      "outputs": [
        {
          "output_type": "execute_result",
          "data": {
            "text/plain": [
              "                                                 NER\n",
              "0  [\"peanut butter\", \"graham cracker crumbs\", \"bu...\n",
              "1  [\"sugar\", \"butter\", \"egg\", \"buttermilk\", \"flou...\n",
              "2             [\"chicken\", \"flour\", \"barbecue sauce\"]\n",
              "3  [\"cake mix\", \"chocolate fudge pudding\", \"sour ...\n",
              "4  [\"long\", \"cooking oil\", \"tomato sauce\", \"water..."
            ],
            "text/html": [
              "\n",
              "  <div id=\"df-699fd3d6-18b4-4785-9b2a-9b79bdce7e42\" class=\"colab-df-container\">\n",
              "    <div>\n",
              "<style scoped>\n",
              "    .dataframe tbody tr th:only-of-type {\n",
              "        vertical-align: middle;\n",
              "    }\n",
              "\n",
              "    .dataframe tbody tr th {\n",
              "        vertical-align: top;\n",
              "    }\n",
              "\n",
              "    .dataframe thead th {\n",
              "        text-align: right;\n",
              "    }\n",
              "</style>\n",
              "<table border=\"1\" class=\"dataframe\">\n",
              "  <thead>\n",
              "    <tr style=\"text-align: right;\">\n",
              "      <th></th>\n",
              "      <th>NER</th>\n",
              "    </tr>\n",
              "  </thead>\n",
              "  <tbody>\n",
              "    <tr>\n",
              "      <th>0</th>\n",
              "      <td>[\"peanut butter\", \"graham cracker crumbs\", \"bu...</td>\n",
              "    </tr>\n",
              "    <tr>\n",
              "      <th>1</th>\n",
              "      <td>[\"sugar\", \"butter\", \"egg\", \"buttermilk\", \"flou...</td>\n",
              "    </tr>\n",
              "    <tr>\n",
              "      <th>2</th>\n",
              "      <td>[\"chicken\", \"flour\", \"barbecue sauce\"]</td>\n",
              "    </tr>\n",
              "    <tr>\n",
              "      <th>3</th>\n",
              "      <td>[\"cake mix\", \"chocolate fudge pudding\", \"sour ...</td>\n",
              "    </tr>\n",
              "    <tr>\n",
              "      <th>4</th>\n",
              "      <td>[\"long\", \"cooking oil\", \"tomato sauce\", \"water...</td>\n",
              "    </tr>\n",
              "  </tbody>\n",
              "</table>\n",
              "</div>\n",
              "    <div class=\"colab-df-buttons\">\n",
              "\n",
              "  <div class=\"colab-df-container\">\n",
              "    <button class=\"colab-df-convert\" onclick=\"convertToInteractive('df-699fd3d6-18b4-4785-9b2a-9b79bdce7e42')\"\n",
              "            title=\"Convert this dataframe to an interactive table.\"\n",
              "            style=\"display:none;\">\n",
              "\n",
              "  <svg xmlns=\"http://www.w3.org/2000/svg\" height=\"24px\" viewBox=\"0 -960 960 960\">\n",
              "    <path d=\"M120-120v-720h720v720H120Zm60-500h600v-160H180v160Zm220 220h160v-160H400v160Zm0 220h160v-160H400v160ZM180-400h160v-160H180v160Zm440 0h160v-160H620v160ZM180-180h160v-160H180v160Zm440 0h160v-160H620v160Z\"/>\n",
              "  </svg>\n",
              "    </button>\n",
              "\n",
              "  <style>\n",
              "    .colab-df-container {\n",
              "      display:flex;\n",
              "      gap: 12px;\n",
              "    }\n",
              "\n",
              "    .colab-df-convert {\n",
              "      background-color: #E8F0FE;\n",
              "      border: none;\n",
              "      border-radius: 50%;\n",
              "      cursor: pointer;\n",
              "      display: none;\n",
              "      fill: #1967D2;\n",
              "      height: 32px;\n",
              "      padding: 0 0 0 0;\n",
              "      width: 32px;\n",
              "    }\n",
              "\n",
              "    .colab-df-convert:hover {\n",
              "      background-color: #E2EBFA;\n",
              "      box-shadow: 0px 1px 2px rgba(60, 64, 67, 0.3), 0px 1px 3px 1px rgba(60, 64, 67, 0.15);\n",
              "      fill: #174EA6;\n",
              "    }\n",
              "\n",
              "    .colab-df-buttons div {\n",
              "      margin-bottom: 4px;\n",
              "    }\n",
              "\n",
              "    [theme=dark] .colab-df-convert {\n",
              "      background-color: #3B4455;\n",
              "      fill: #D2E3FC;\n",
              "    }\n",
              "\n",
              "    [theme=dark] .colab-df-convert:hover {\n",
              "      background-color: #434B5C;\n",
              "      box-shadow: 0px 1px 3px 1px rgba(0, 0, 0, 0.15);\n",
              "      filter: drop-shadow(0px 1px 2px rgba(0, 0, 0, 0.3));\n",
              "      fill: #FFFFFF;\n",
              "    }\n",
              "  </style>\n",
              "\n",
              "    <script>\n",
              "      const buttonEl =\n",
              "        document.querySelector('#df-699fd3d6-18b4-4785-9b2a-9b79bdce7e42 button.colab-df-convert');\n",
              "      buttonEl.style.display =\n",
              "        google.colab.kernel.accessAllowed ? 'block' : 'none';\n",
              "\n",
              "      async function convertToInteractive(key) {\n",
              "        const element = document.querySelector('#df-699fd3d6-18b4-4785-9b2a-9b79bdce7e42');\n",
              "        const dataTable =\n",
              "          await google.colab.kernel.invokeFunction('convertToInteractive',\n",
              "                                                    [key], {});\n",
              "        if (!dataTable) return;\n",
              "\n",
              "        const docLinkHtml = 'Like what you see? Visit the ' +\n",
              "          '<a target=\"_blank\" href=https://colab.research.google.com/notebooks/data_table.ipynb>data table notebook</a>'\n",
              "          + ' to learn more about interactive tables.';\n",
              "        element.innerHTML = '';\n",
              "        dataTable['output_type'] = 'display_data';\n",
              "        await google.colab.output.renderOutput(dataTable, element);\n",
              "        const docLink = document.createElement('div');\n",
              "        docLink.innerHTML = docLinkHtml;\n",
              "        element.appendChild(docLink);\n",
              "      }\n",
              "    </script>\n",
              "  </div>\n",
              "\n",
              "\n",
              "<div id=\"df-507af52c-d11b-4dd2-85bb-040762fbb54e\">\n",
              "  <button class=\"colab-df-quickchart\" onclick=\"quickchart('df-507af52c-d11b-4dd2-85bb-040762fbb54e')\"\n",
              "            title=\"Suggest charts.\"\n",
              "            style=\"display:none;\">\n",
              "\n",
              "<svg xmlns=\"http://www.w3.org/2000/svg\" height=\"24px\"viewBox=\"0 0 24 24\"\n",
              "     width=\"24px\">\n",
              "    <g>\n",
              "        <path d=\"M19 3H5c-1.1 0-2 .9-2 2v14c0 1.1.9 2 2 2h14c1.1 0 2-.9 2-2V5c0-1.1-.9-2-2-2zM9 17H7v-7h2v7zm4 0h-2V7h2v10zm4 0h-2v-4h2v4z\"/>\n",
              "    </g>\n",
              "</svg>\n",
              "  </button>\n",
              "\n",
              "<style>\n",
              "  .colab-df-quickchart {\n",
              "    background-color: #E8F0FE;\n",
              "    border: none;\n",
              "    border-radius: 50%;\n",
              "    cursor: pointer;\n",
              "    display: none;\n",
              "    fill: #1967D2;\n",
              "    height: 32px;\n",
              "    padding: 0 0 0 0;\n",
              "    width: 32px;\n",
              "  }\n",
              "\n",
              "  .colab-df-quickchart:hover {\n",
              "    background-color: #E2EBFA;\n",
              "    box-shadow: 0px 1px 2px rgba(60, 64, 67, 0.3), 0px 1px 3px 1px rgba(60, 64, 67, 0.15);\n",
              "    fill: #174EA6;\n",
              "  }\n",
              "\n",
              "  [theme=dark] .colab-df-quickchart {\n",
              "    background-color: #3B4455;\n",
              "    fill: #D2E3FC;\n",
              "  }\n",
              "\n",
              "  [theme=dark] .colab-df-quickchart:hover {\n",
              "    background-color: #434B5C;\n",
              "    box-shadow: 0px 1px 3px 1px rgba(0, 0, 0, 0.15);\n",
              "    filter: drop-shadow(0px 1px 2px rgba(0, 0, 0, 0.3));\n",
              "    fill: #FFFFFF;\n",
              "  }\n",
              "</style>\n",
              "\n",
              "  <script>\n",
              "    async function quickchart(key) {\n",
              "      const charts = await google.colab.kernel.invokeFunction(\n",
              "          'suggestCharts', [key], {});\n",
              "    }\n",
              "    (() => {\n",
              "      let quickchartButtonEl =\n",
              "        document.querySelector('#df-507af52c-d11b-4dd2-85bb-040762fbb54e button');\n",
              "      quickchartButtonEl.style.display =\n",
              "        google.colab.kernel.accessAllowed ? 'block' : 'none';\n",
              "    })();\n",
              "  </script>\n",
              "</div>\n",
              "    </div>\n",
              "  </div>\n"
            ]
          },
          "metadata": {},
          "execution_count": 7
        }
      ]
    },
    {
      "cell_type": "code",
      "execution_count": 8,
      "metadata": {
        "id": "LEpKubK9XzXN",
        "colab": {
          "base_uri": "https://localhost:8080/"
        },
        "outputId": "c7dbd968-efa1-494e-c19a-b120f195240e"
      },
      "outputs": [
        {
          "output_type": "stream",
          "name": "stdout",
          "text": [
            "Cantidad de documentos: 2231143\n"
          ]
        }
      ],
      "source": [
        "print(\"Cantidad de documentos:\", df.shape[0])"
      ]
    },
    {
      "cell_type": "markdown",
      "metadata": {
        "id": "ab94qaFlrA1G"
      },
      "source": [
        "### 1 - Preprocesamiento"
      ]
    },
    {
      "cell_type": "code",
      "execution_count": 9,
      "metadata": {
        "id": "rIsmMWmjrDHd"
      },
      "outputs": [],
      "source": [
        "from keras.preprocessing.text import text_to_word_sequence\n",
        "\n",
        "sentence_tokens = []\n",
        "# Recorrer todas las filas y transformar las oraciones\n",
        "# en una secuencia de palabras (esto podría realizarse con NLTK o spaCy también)\n",
        "for _, row in df[:None].iterrows():\n",
        "    sentence_tokens.append(text_to_word_sequence(row[0]))"
      ]
    },
    {
      "cell_type": "code",
      "execution_count": 10,
      "metadata": {
        "id": "CHepi_DGrbhq",
        "colab": {
          "base_uri": "https://localhost:8080/"
        },
        "outputId": "67d83ca6-7697-4484-97e3-2736015050df"
      },
      "outputs": [
        {
          "output_type": "execute_result",
          "data": {
            "text/plain": [
              "[['peanut',\n",
              "  'butter',\n",
              "  'graham',\n",
              "  'cracker',\n",
              "  'crumbs',\n",
              "  'butter',\n",
              "  'powdered',\n",
              "  'sugar',\n",
              "  'chocolate',\n",
              "  'chips'],\n",
              " ['sugar',\n",
              "  'butter',\n",
              "  'egg',\n",
              "  'buttermilk',\n",
              "  'flour',\n",
              "  'salt',\n",
              "  'soda',\n",
              "  'buttermilk',\n",
              "  'rhubarb',\n",
              "  'vanilla']]"
            ]
          },
          "metadata": {},
          "execution_count": 10
        }
      ],
      "source": [
        "# Demos un vistazo\n",
        "sentence_tokens[:2]"
      ]
    },
    {
      "cell_type": "markdown",
      "metadata": {
        "id": "BaXV6nlHr5Aa"
      },
      "source": [
        "### 2 - Crear los vectores (word2vec)"
      ]
    },
    {
      "cell_type": "code",
      "execution_count": 11,
      "metadata": {
        "id": "OSb0v7h8r7hK"
      },
      "outputs": [],
      "source": [
        "from gensim.models.callbacks import CallbackAny2Vec\n",
        "# Durante el entrenamiento gensim por defecto no informa el \"loss\" en cada época\n",
        "# Sobrecargamos el callback para poder tener esta información\n",
        "class callback(CallbackAny2Vec):\n",
        "    \"\"\"\n",
        "    Callback to print loss after each epoch\n",
        "    \"\"\"\n",
        "    def __init__(self):\n",
        "        self.epoch = 0\n",
        "\n",
        "    def on_epoch_end(self, model):\n",
        "        loss = model.get_latest_training_loss()\n",
        "        if self.epoch == 0:\n",
        "            print('Loss after epoch {}: {}'.format(self.epoch, loss))\n",
        "        else:\n",
        "            print('Loss after epoch {}: {}'.format(self.epoch, loss- self.loss_previous_step))\n",
        "        self.epoch += 1\n",
        "        self.loss_previous_step = loss"
      ]
    },
    {
      "cell_type": "code",
      "execution_count": 12,
      "metadata": {
        "id": "i0wnDdv9sJ47"
      },
      "outputs": [],
      "source": [
        "# Crearmos el modelo generador de vectores\n",
        "# En este caso utilizaremos la estructura modelo Skipgram\n",
        "w2v_model = Word2Vec(min_count=5,    # frecuencia mínima de palabra para incluirla en el vocabulario\n",
        "                     window=2,       # cant de palabras antes y desp de la predicha\n",
        "                     vector_size=300,       # dimensionalidad de los vectores\n",
        "                     negative=20,    # cantidad de negative samples... 0 es no se usa\n",
        "                     workers=1,      # si tienen más cores pueden cambiar este valor\n",
        "                     sg=1)           # modelo 0:CBOW  1:skipgram"
      ]
    },
    {
      "cell_type": "code",
      "execution_count": 13,
      "metadata": {
        "id": "5lTt8wErsf17"
      },
      "outputs": [],
      "source": [
        "# Obtener el vocabulario con los tokens\n",
        "w2v_model.build_vocab(sentence_tokens)"
      ]
    },
    {
      "cell_type": "code",
      "execution_count": 14,
      "metadata": {
        "id": "TNc9qt4os5AT",
        "colab": {
          "base_uri": "https://localhost:8080/"
        },
        "outputId": "42e03708-0d55-4626-a9fe-9abfeb3bb6ad"
      },
      "outputs": [
        {
          "output_type": "stream",
          "name": "stdout",
          "text": [
            "Cantidad de docs en el corpus: 2231143\n"
          ]
        }
      ],
      "source": [
        "# Cantidad de filas/docs encontradas en el corpus\n",
        "print(\"Cantidad de docs en el corpus:\", w2v_model.corpus_count)"
      ]
    },
    {
      "cell_type": "code",
      "execution_count": 15,
      "metadata": {
        "id": "idw9cHF3tSMl",
        "colab": {
          "base_uri": "https://localhost:8080/"
        },
        "outputId": "bf630a89-6eff-47e3-8875-a4b6ee2de032"
      },
      "outputs": [
        {
          "output_type": "stream",
          "name": "stdout",
          "text": [
            "Cantidad de words distintas en el corpus: 9114\n"
          ]
        }
      ],
      "source": [
        "# Cantidad de words encontradas en el corpus\n",
        "print(\"Cantidad de words distintas en el corpus:\", len(w2v_model.wv.index_to_key))"
      ]
    },
    {
      "cell_type": "markdown",
      "metadata": {
        "id": "fC9mZ8DPk-UC"
      },
      "source": [
        "### 3 - Entrenar el modelo generador"
      ]
    },
    {
      "cell_type": "code",
      "execution_count": 16,
      "metadata": {
        "id": "QSp-x0PAsq56",
        "colab": {
          "base_uri": "https://localhost:8080/"
        },
        "outputId": "98e73cd8-5d9d-40bb-91e8-f04ca94cd0ab"
      },
      "outputs": [
        {
          "output_type": "stream",
          "name": "stdout",
          "text": [
            "Loss after epoch 0: 77676384.0\n",
            "Loss after epoch 1: 28406352.0\n",
            "Loss after epoch 2: 26860144.0\n",
            "Loss after epoch 3: 1274848.0\n"
          ]
        },
        {
          "output_type": "execute_result",
          "data": {
            "text/plain": [
              "(72318433, 114945404)"
            ]
          },
          "metadata": {},
          "execution_count": 16
        }
      ],
      "source": [
        "# Entrenamos el modelo generador de vectores\n",
        "# Utilizamos nuestro callback\n",
        "w2v_model.train(sentence_tokens,\n",
        "                 total_examples=w2v_model.corpus_count,\n",
        "                 epochs=4,\n",
        "                 compute_loss = True,\n",
        "                 callbacks=[callback()]\n",
        "                 )"
      ]
    },
    {
      "cell_type": "markdown",
      "metadata": {
        "id": "ddT9NVuNlCAe"
      },
      "source": [
        "### 4 - Ensayar"
      ]
    },
    {
      "cell_type": "code",
      "execution_count": 17,
      "metadata": {
        "id": "6cHN9xGLuPEm",
        "colab": {
          "base_uri": "https://localhost:8080/"
        },
        "outputId": "9c0e1343-77b6-437d-f776-49dd4f6eef39"
      },
      "outputs": [
        {
          "output_type": "execute_result",
          "data": {
            "text/plain": [
              "[('flor', 0.6548495292663574),\n",
              " ('snowdrift', 0.6512137651443481),\n",
              " ('spry', 0.632708728313446),\n",
              " ('bakin', 0.6160374283790588),\n",
              " ('ufb02our', 0.615901529788971),\n",
              " ('soad', 0.615530252456665),\n",
              " ('floor', 0.613299548625946),\n",
              " ('criso', 0.6122484803199768),\n",
              " ('nonhydrogenated', 0.6117061972618103),\n",
              " ('sat', 0.6086899638175964)]"
            ]
          },
          "metadata": {},
          "execution_count": 17
        }
      ],
      "source": [
        "# Palabras que MÁS se relacionan con...:\n",
        "w2v_model.wv.most_similar(positive=[\"flour\"], topn=10)"
      ]
    },
    {
      "cell_type": "markdown",
      "source": [
        "Observamos que dentro de la distancia similar positiva encontramos palabras similares a harina (flour) como flor o floor o con caracteres como ufb02our. Se requiere un mejor preprocesamiento del dataset"
      ],
      "metadata": {
        "id": "eDxa87jL4Jwz"
      }
    },
    {
      "cell_type": "code",
      "execution_count": 25,
      "metadata": {
        "id": "47HiU5gdkdMq",
        "colab": {
          "base_uri": "https://localhost:8080/"
        },
        "outputId": "326377c6-2dda-4d76-c7dc-3eced9c4e1ad"
      },
      "outputs": [
        {
          "output_type": "execute_result",
          "data": {
            "text/plain": [
              "[('color', 0.01936226151883602),\n",
              " ('glycerin', 0.019261756911873817),\n",
              " ('essential', 0.015264417976140976),\n",
              " ('licorice', 0.0020710360258817673),\n",
              " ('soap', -0.0023513620253652334),\n",
              " ('sherbet', -0.005559819750487804),\n",
              " ('coloring', -0.006362671498209238),\n",
              " ('vera', -0.006941539701074362),\n",
              " ('stick', -0.013835484161973),\n",
              " ('tamarind', -0.015031631104648113)]"
            ]
          },
          "metadata": {},
          "execution_count": 25
        }
      ],
      "source": [
        "# Palabras que MENOS se relacionan con...:\n",
        "w2v_model.wv.most_similar(negative=[\"bread\"], topn=10)"
      ]
    },
    {
      "cell_type": "markdown",
      "source": [
        "Arriba observamos las palabras que menos se relacionan con bread (pan) según la representación del modelo w2v. Entre ellas por ejemplo glicerina, jabón."
      ],
      "metadata": {
        "id": "KTAEYuXF4yYv"
      }
    },
    {
      "cell_type": "code",
      "execution_count": 19,
      "metadata": {
        "id": "DT4Rvno2mD65",
        "colab": {
          "base_uri": "https://localhost:8080/"
        },
        "outputId": "a9fc6bc3-b694-4d68-c5fa-1d2f4f00e927"
      },
      "outputs": [
        {
          "output_type": "execute_result",
          "data": {
            "text/plain": [
              "[('chesse', 0.6973788142204285),\n",
              " ('cheeese', 0.6714235544204712),\n",
              " ('chese', 0.632571816444397),\n",
              " ('packagesshredded', 0.6317858695983887),\n",
              " ('chees', 0.6312068104743958),\n",
              " ('motzerella', 0.6234297156333923),\n",
              " ('meunster', 0.6210774183273315),\n",
              " ('chz', 0.6178605556488037),\n",
              " ('fontinella', 0.6169974207878113),\n",
              " ('montery', 0.6169180274009705)]"
            ]
          },
          "metadata": {},
          "execution_count": 19
        }
      ],
      "source": [
        "# Palabras que MÁS se relacionan con...:\n",
        "w2v_model.wv.most_similar(positive=[\"cheese\"], topn=10)"
      ]
    },
    {
      "cell_type": "markdown",
      "source": [
        "Entre las palabras relacionadas con cheese (queso) hay varias formas de escribir o deletrear cheese. Nuevamente resalto el punto de que puede que el dataset de origen no se encuentra muy limpio y esto implicaría necesitar más preprocesamiento."
      ],
      "metadata": {
        "id": "dDxBbER24-mf"
      }
    },
    {
      "cell_type": "code",
      "execution_count": 20,
      "metadata": {
        "id": "XPLDPgzBmQXt",
        "colab": {
          "base_uri": "https://localhost:8080/"
        },
        "outputId": "f4e63d98-41e0-4f35-de1c-0bd7e30499be"
      },
      "outputs": [
        {
          "output_type": "execute_result",
          "data": {
            "text/plain": [
              "[('tomatoe', 0.7164051532745361),\n",
              " ('contadina', 0.6733307242393494),\n",
              " ('spatini', 0.6684426665306091),\n",
              " ('tomoto', 0.6677120923995972),\n",
              " ('tomatoes', 0.6564962267875671)]"
            ]
          },
          "metadata": {},
          "execution_count": 20
        }
      ],
      "source": [
        "# Palabras que MÁS se relacionan con...:\n",
        "w2v_model.wv.most_similar(positive=[\"tomato\"], topn=5)"
      ]
    },
    {
      "cell_type": "markdown",
      "source": [
        "En el ejemplo anterior entre las palabras más relacionadas  con el vocablo tomato encontramos la palabra contadina que es una marca de salsa de tomate italiana."
      ],
      "metadata": {
        "id": "bQbcEiwy5R4I"
      }
    },
    {
      "cell_type": "markdown",
      "metadata": {
        "id": "_g8UVWe6lFmh"
      },
      "source": [
        "### 5 - Visualizar agrupación de vectores"
      ]
    },
    {
      "cell_type": "code",
      "execution_count": 22,
      "metadata": {
        "id": "pDxEVXAivjr9"
      },
      "outputs": [],
      "source": [
        "from sklearn.decomposition import IncrementalPCA\n",
        "from sklearn.manifold import TSNE\n",
        "import numpy as np\n",
        "\n",
        "def reduce_dimensions(model):\n",
        "    num_dimensions = 2\n",
        "\n",
        "    vectors = np.asarray(model.wv.vectors)\n",
        "    labels = np.asarray(model.wv.index_to_key)\n",
        "\n",
        "    tsne = TSNE(n_components=num_dimensions, random_state=0)\n",
        "    vectors = tsne.fit_transform(vectors)\n",
        "\n",
        "    x_vals = [v[0] for v in vectors]\n",
        "    y_vals = [v[1] for v in vectors]\n",
        "    return x_vals, y_vals, labels"
      ]
    },
    {
      "cell_type": "code",
      "execution_count": 23,
      "metadata": {
        "id": "NCCXtDpcugmd",
        "colab": {
          "base_uri": "https://localhost:8080/",
          "height": 542
        },
        "outputId": "eccb9dde-c3f5-4f6f-e073-f60bf07f6f2c"
      },
      "outputs": [
        {
          "output_type": "display_data",
          "data": {
            "text/html": [
              "<html>\n",
              "<head><meta charset=\"utf-8\" /></head>\n",
              "<body>\n",
              "    <div>            <script src=\"https://cdnjs.cloudflare.com/ajax/libs/mathjax/2.7.5/MathJax.js?config=TeX-AMS-MML_SVG\"></script><script type=\"text/javascript\">if (window.MathJax && window.MathJax.Hub && window.MathJax.Hub.Config) {window.MathJax.Hub.Config({SVG: {font: \"STIX-Web\"}});}</script>                <script type=\"text/javascript\">window.PlotlyConfig = {MathJaxConfig: 'local'};</script>\n",
              "        <script charset=\"utf-8\" src=\"https://cdn.plot.ly/plotly-2.24.1.min.js\"></script>                <div id=\"8a8f27b7-5444-4466-8a93-1a447b8bbc96\" class=\"plotly-graph-div\" style=\"height:525px; width:100%;\"></div>            <script type=\"text/javascript\">                                    window.PLOTLYENV=window.PLOTLYENV || {};                                    if (document.getElementById(\"8a8f27b7-5444-4466-8a93-1a447b8bbc96\")) {                    Plotly.newPlot(                        \"8a8f27b7-5444-4466-8a93-1a447b8bbc96\",                        [{\"hovertemplate\":\"x=%{x}\\u003cbr\\u003ey=%{y}\\u003cbr\\u003etext=%{text}\\u003cextra\\u003e\\u003c\\u002fextra\\u003e\",\"legendgroup\":\"\",\"marker\":{\"color\":\"#636efa\",\"symbol\":\"circle\"},\"mode\":\"markers+text\",\"name\":\"\",\"orientation\":\"v\",\"showlegend\":false,\"text\":[\"salt\",\"sugar\",\"pepper\",\"butter\",\"oil\",\"cheese\",\"flour\",\"onion\",\"cream\",\"garlic\",\"ground\",\"milk\",\"water\",\"eggs\",\"vanilla\",\"sauce\",\"chicken\",\"juice\",\"powder\",\"olive\",\"baking\",\"red\",\"lemon\",\"egg\",\"green\",\"fresh\",\"white\",\"brown\",\"black\",\"tomatoes\",\"vinegar\",\"cinnamon\",\"onions\",\"soda\",\"chocolate\",\"celery\",\"beef\",\"parsley\",\"tomato\",\"soup\",\"vegetable\",\"sour\",\"rice\",\"potatoes\",\"bread\",\"wine\",\"cheddar\",\"corn\",\"beans\",\"of\",\"margarine\",\"mustard\",\"orange\",\"parmesan\",\"ginger\",\"pineapple\",\"sweet\",\"mayonnaise\",\"chili\",\"broth\",\"mushrooms\",\"bell\",\"coconut\",\"nuts\",\"basil\",\"chips\",\"carrots\",\"soy\",\"pecans\",\"kosher\",\"bacon\",\"lime\",\"nutmeg\",\"honey\",\"thyme\",\"oregano\",\"peppers\",\"extra\",\"frozen\",\"virgin\",\"unsalted\",\"syrup\",\"cumin\",\"powdered\",\"crumbs\",\"worcestershire\",\"cilantro\",\"freshly\",\"mix\",\"paprika\",\"pork\",\"yellow\",\"italian\",\"mushroom\",\"cornstarch\",\"heavy\",\"shortening\",\"cake\",\"cocoa\",\"peanut\",\"seeds\",\"light\",\"apple\",\"walnuts\",\"raisins\",\"breasts\",\"buttermilk\",\"all\",\"cayenne\",\"whole\",\"clove\",\"bay\",\"mozzarella\",\"cooking\",\"purpose\",\"broccoli\",\"sesame\",\"sausage\",\"seasoning\",\"apples\",\"hot\",\"leaf\",\"olives\",\"cold\",\"dressing\",\"almonds\",\"pie\",\"noodles\",\"shrimp\",\"salad\",\"peas\",\"paste\",\"yeast\",\"cloves\",\"u00bc\",\"zucchini\",\"leaves\",\"carrot\",\"stock\",\"yogurt\",\"boiling\",\"spinach\",\"strawberries\",\"pasta\",\"bananas\",\"zest\",\"cabbage\",\"cider\",\"whipping\",\"yolks\",\"wheat\",\"oats\",\"whites\",\"dill\",\"canola\",\"dry\",\"condensed\",\"rosemary\",\"pumpkin\",\"almond\",\"cracker\",\"ham\",\"grated\",\"mint\",\"graham\",\"pudding\",\"turkey\",\"ketchup\",\"filling\",\"coriander\",\"crackers\",\"curry\",\"tortillas\",\"spray\",\"cherry\",\"flakes\",\"chives\",\"oleo\",\"cherries\",\"shredded\",\"extract\",\"crust\",\"marshmallows\",\"stalks\",\"lettuce\",\"instant\",\"scallions\",\"balsamic\",\"lean\",\"allspice\",\"breadcrumbs\",\"maple\",\"chilies\",\"cucumber\",\"baby\",\"potato\",\"shallots\",\"oranges\",\"salsa\",\"topping\"],\"x\":[10.906410217285156,45.942169189453125,-26.510540008544922,50.43048858642578,-12.803182601928711,-26.128116607666016,42.79383087158203,-27.39809226989746,0.8938104510307312,-34.007774353027344,7.14240026473999,48.0560302734375,41.92238998413086,41.15214538574219,51.710975646972656,-32.004817962646484,-20.743013381958008,19.970794677734375,12.273957252502441,-20.422916412353516,43.02622604370117,-29.825645446777344,27.692983627319336,41.20329284667969,-54.73218536376953,-29.609161376953125,7.117616176605225,47.28212356567383,-25.01013946533203,-38.99325180053711,-5.9484663009643555,8.715907096862793,-27.400806427001953,43.294124603271484,64.98111724853516,-25.65509796142578,-41.78075408935547,-29.33004379272461,-38.62123107910156,-43.93732452392578,-1.2241673469543457,-51.2227783203125,-25.571069717407227,-27.573572158813477,-18.59143829345703,-9.53775405883789,-48.333003997802734,-51.75785446166992,-58.6734619140625,-43.527671813964844,50.72804641723633,-36.37306594848633,21.004364013671875,-29.955829620361328,5.518977165222168,24.883981704711914,64.9773941040039,-16.59547233581543,-48.11211013793945,-23.770841598510742,-35.972801208496094,-31.86394691467285,47.4271354675293,48.86219024658203,-28.468246459960938,64.21482849121094,-33.73997116088867,-35.6766357421875,49.03324890136719,-23.494367599487305,-3.701162576675415,24.69002914428711,6.802495002746582,-7.702296257019043,-29.129283905029297,-30.608829498291016,-32.45147705078125,-19.12445068359375,-48.21824645996094,-19.961626052856445,0.328092098236084,47.84965896606445,-45.526729583740234,54.381874084472656,-12.355823516845703,-37.96185302734375,-43.554203033447266,-21.13774871826172,51.7639274597168,-28.451717376708984,-47.013084411621094,4.535808563232422,-38.576751708984375,-44.40298843383789,31.01626968383789,42.94304275512695,45.88270568847656,49.878318786621094,44.86515426635742,59.36960220336914,-9.58540153503418,34.65719985961914,18.73128890991211,48.92977523803711,33.22550582885742,-24.265756607055664,43.53727722167969,24.49129295349121,-43.160667419433594,1.7344534397125244,-31.128347396850586,-20.045169830322266,-29.429359436035156,31.115324020385742,49.95967102050781,-30.93502426147461,-36.956398010253906,-16.06321144104004,-16.26548957824707,24.25032615661621,-48.820411682128906,-31.743404388427734,-49.4433479309082,42.259666442871094,-2.764080762863159,32.83836364746094,47.05253982543945,-37.18239974975586,-52.57938766479492,-3.183169364929199,-41.95716857910156,-31.976943969726562,27.577096939086914,6.778785705566406,36.519081115722656,-26.439990997314453,-31.791627883911133,-33.742496490478516,-23.952686309814453,25.799917221069336,39.88155746459961,-55.4149055480957,31.85908317565918,-41.71920394897461,42.08095932006836,11.841310501098633,-34.46380615234375,-9.44333267211914,48.18042755126953,44.54452133178711,27.173583984375,49.31673812866211,44.728214263916016,-12.373680114746094,-3.172194242477417,-7.268852233886719,49.02797317504883,-28.84809112548828,27.79688835144043,45.74605941772461,36.212162017822266,-16.38668441772461,-21.122989654541016,8.136059761047363,49.766719818115234,56.77124786376953,-38.30878448486328,-40.24991226196289,47.47481155395508,-8.20638370513916,3.898653745651245,-9.17901611328125,-59.2444953918457,19.475828170776367,44.461551666259766,-28.369483947753906,-13.025165557861328,50.756317138671875,43.237098693847656,-52.22565460205078,44.5923957824707,35.173744201660156,59.452857971191406,-30.83135986328125,-10.433164596557617,53.21121597290039,-28.840110778808594,-10.723753929138184,-41.252506256103516,7.385569095611572,-19.00563621520996,39.81130599975586,-63.326072692871094,-6.818275451660156,-15.06698989868164,-26.544198989868164,-36.923439025878906,23.492610931396484,-59.03475570678711,58.79889678955078],\"xaxis\":\"x\",\"y\":[-50.84499740600586,1.7157398462295532,-6.325035095214844,3.0822949409484863,-9.22270679473877,-33.90901565551758,-0.3605002760887146,9.496103286743164,-14.753168106079102,0.37999263405799866,-51.54084396362305,8.526805877685547,24.715736389160156,2.3783812522888184,11.140978813171387,42.953277587890625,11.078262329101562,42.460357666015625,-54.64457702636719,-16.674346923828125,-1.3918170928955078,2.159517288208008,32.11518859863281,2.4860143661499023,-16.45258140563965,-14.900145530700684,-39.20717239379883,-3.944796085357666,-7.00227165222168,-18.922887802124023,-15.482362747192383,-57.305763244628906,9.49205207824707,-1.3783502578735352,7.009072303771973,16.064516067504883,5.679694652557373,-17.149879455566406,-21.496150970458984,-21.242355346679688,16.000423431396484,-23.838680267333984,39.25249099731445,15.047664642333984,-30.0004940032959,-13.6942720413208,-28.423837661743164,-16.64708137512207,-10.707982063293457,-21.41798210144043,3.18805193901062,-14.337401390075684,43.85630416870117,-39.92394256591797,-56.817405700683594,32.457271575927734,5.521123886108398,-23.777719497680664,-13.856642723083496,13.078619956970215,17.158361434936523,3.285306453704834,7.02940034866333,4.599670886993408,-15.337751388549805,5.5345306396484375,21.796314239501953,46.02903747558594,4.816250801086426,-6.949578285217285,-22.396331787109375,43.21406173706055,-55.22578430175781,-17.787097930908203,-10.733227729797363,-11.053117752075195,3.836944580078125,-16.8460750579834,-33.29645919799805,-18.50783348083496,-10.905600547790527,1.5197664499282837,-13.898371696472168,10.936031341552734,-35.24418258666992,-14.719680786132812,-10.332610130310059,-8.550272941589355,18.48753547668457,-6.622976303100586,3.337355613708496,-13.130949020385742,-24.601978302001953,-21.722000122070312,20.971416473388672,20.11322021484375,-1.5035752058029175,7.388521194458008,-0.8467952609062195,5.200620174407959,-55.857330322265625,10.448214530944824,14.52144718170166,4.724630355834961,4.143197536468506,11.477119445800781,-0.17797540128231049,-48.07221221923828,-14.613101959228516,-21.897754669189453,-2.466460704803467,18.03728675842285,-37.35190200805664,0.3387085199356079,-9.137397766113281,28.423757553100586,44.34861373901367,-29.301868438720703,33.729331970214844,13.268539428710938,-15.093541145324707,-12.442413330078125,-22.64603042602539,26.018808364868164,-32.123775482177734,8.573250770568848,34.41824722290039,-32.36710739135742,27.031497955322266,-30.318925857543945,26.619291305541992,-8.663570404052734,-49.48229217529297,-57.15093994140625,3.4555554389953613,25.412622451782227,-12.54672908782959,21.82642364501953,13.098962783813477,2.7617812156677246,25.31980323791504,1.578418493270874,27.974498748779297,-35.54401397705078,1.440403699874878,35.40949630737305,23.601825714111328,-16.824527740478516,25.19622802734375,4.229617595672607,-43.709869384765625,-14.169218063354492,3.6351804733276367,-19.36023712158203,16.03334617614746,-19.77601432800293,10.1162748336792,-12.50613784790039,-3.4738335609436035,6.627552509307861,12.8624906539917,-40.739505767822266,-31.900562286376953,42.31650924682617,15.311098098754883,16.182222366333008,4.05759859085083,-15.802397727966309,33.56637191772461,-59.473270416259766,-30.91409683227539,-54.048702239990234,-21.692859649658203,-38.33241653442383,35.33735656738281,-4.899143695831299,-18.949260711669922,3.187664031982422,35.75093078613281,-27.765506744384766,6.543248653411865,17.18150520324707,1.8481773138046265,31.410566329956055,26.779075622558594,17.457366943359375,35.82528305053711,-15.251952171325684,4.621198654174805,-56.345115661621094,-27.573524475097656,-4.7121710777282715,-16.35611343383789,28.604310989379883,22.20978355407715,15.03769588470459,18.712806701660156,32.454254150390625,-20.663108825683594,19.214494705200195],\"yaxis\":\"y\",\"type\":\"scatter\"}],                        {\"template\":{\"data\":{\"histogram2dcontour\":[{\"type\":\"histogram2dcontour\",\"colorbar\":{\"outlinewidth\":0,\"ticks\":\"\"},\"colorscale\":[[0.0,\"#0d0887\"],[0.1111111111111111,\"#46039f\"],[0.2222222222222222,\"#7201a8\"],[0.3333333333333333,\"#9c179e\"],[0.4444444444444444,\"#bd3786\"],[0.5555555555555556,\"#d8576b\"],[0.6666666666666666,\"#ed7953\"],[0.7777777777777778,\"#fb9f3a\"],[0.8888888888888888,\"#fdca26\"],[1.0,\"#f0f921\"]]}],\"choropleth\":[{\"type\":\"choropleth\",\"colorbar\":{\"outlinewidth\":0,\"ticks\":\"\"}}],\"histogram2d\":[{\"type\":\"histogram2d\",\"colorbar\":{\"outlinewidth\":0,\"ticks\":\"\"},\"colorscale\":[[0.0,\"#0d0887\"],[0.1111111111111111,\"#46039f\"],[0.2222222222222222,\"#7201a8\"],[0.3333333333333333,\"#9c179e\"],[0.4444444444444444,\"#bd3786\"],[0.5555555555555556,\"#d8576b\"],[0.6666666666666666,\"#ed7953\"],[0.7777777777777778,\"#fb9f3a\"],[0.8888888888888888,\"#fdca26\"],[1.0,\"#f0f921\"]]}],\"heatmap\":[{\"type\":\"heatmap\",\"colorbar\":{\"outlinewidth\":0,\"ticks\":\"\"},\"colorscale\":[[0.0,\"#0d0887\"],[0.1111111111111111,\"#46039f\"],[0.2222222222222222,\"#7201a8\"],[0.3333333333333333,\"#9c179e\"],[0.4444444444444444,\"#bd3786\"],[0.5555555555555556,\"#d8576b\"],[0.6666666666666666,\"#ed7953\"],[0.7777777777777778,\"#fb9f3a\"],[0.8888888888888888,\"#fdca26\"],[1.0,\"#f0f921\"]]}],\"heatmapgl\":[{\"type\":\"heatmapgl\",\"colorbar\":{\"outlinewidth\":0,\"ticks\":\"\"},\"colorscale\":[[0.0,\"#0d0887\"],[0.1111111111111111,\"#46039f\"],[0.2222222222222222,\"#7201a8\"],[0.3333333333333333,\"#9c179e\"],[0.4444444444444444,\"#bd3786\"],[0.5555555555555556,\"#d8576b\"],[0.6666666666666666,\"#ed7953\"],[0.7777777777777778,\"#fb9f3a\"],[0.8888888888888888,\"#fdca26\"],[1.0,\"#f0f921\"]]}],\"contourcarpet\":[{\"type\":\"contourcarpet\",\"colorbar\":{\"outlinewidth\":0,\"ticks\":\"\"}}],\"contour\":[{\"type\":\"contour\",\"colorbar\":{\"outlinewidth\":0,\"ticks\":\"\"},\"colorscale\":[[0.0,\"#0d0887\"],[0.1111111111111111,\"#46039f\"],[0.2222222222222222,\"#7201a8\"],[0.3333333333333333,\"#9c179e\"],[0.4444444444444444,\"#bd3786\"],[0.5555555555555556,\"#d8576b\"],[0.6666666666666666,\"#ed7953\"],[0.7777777777777778,\"#fb9f3a\"],[0.8888888888888888,\"#fdca26\"],[1.0,\"#f0f921\"]]}],\"surface\":[{\"type\":\"surface\",\"colorbar\":{\"outlinewidth\":0,\"ticks\":\"\"},\"colorscale\":[[0.0,\"#0d0887\"],[0.1111111111111111,\"#46039f\"],[0.2222222222222222,\"#7201a8\"],[0.3333333333333333,\"#9c179e\"],[0.4444444444444444,\"#bd3786\"],[0.5555555555555556,\"#d8576b\"],[0.6666666666666666,\"#ed7953\"],[0.7777777777777778,\"#fb9f3a\"],[0.8888888888888888,\"#fdca26\"],[1.0,\"#f0f921\"]]}],\"mesh3d\":[{\"type\":\"mesh3d\",\"colorbar\":{\"outlinewidth\":0,\"ticks\":\"\"}}],\"scatter\":[{\"fillpattern\":{\"fillmode\":\"overlay\",\"size\":10,\"solidity\":0.2},\"type\":\"scatter\"}],\"parcoords\":[{\"type\":\"parcoords\",\"line\":{\"colorbar\":{\"outlinewidth\":0,\"ticks\":\"\"}}}],\"scatterpolargl\":[{\"type\":\"scatterpolargl\",\"marker\":{\"colorbar\":{\"outlinewidth\":0,\"ticks\":\"\"}}}],\"bar\":[{\"error_x\":{\"color\":\"#2a3f5f\"},\"error_y\":{\"color\":\"#2a3f5f\"},\"marker\":{\"line\":{\"color\":\"#E5ECF6\",\"width\":0.5},\"pattern\":{\"fillmode\":\"overlay\",\"size\":10,\"solidity\":0.2}},\"type\":\"bar\"}],\"scattergeo\":[{\"type\":\"scattergeo\",\"marker\":{\"colorbar\":{\"outlinewidth\":0,\"ticks\":\"\"}}}],\"scatterpolar\":[{\"type\":\"scatterpolar\",\"marker\":{\"colorbar\":{\"outlinewidth\":0,\"ticks\":\"\"}}}],\"histogram\":[{\"marker\":{\"pattern\":{\"fillmode\":\"overlay\",\"size\":10,\"solidity\":0.2}},\"type\":\"histogram\"}],\"scattergl\":[{\"type\":\"scattergl\",\"marker\":{\"colorbar\":{\"outlinewidth\":0,\"ticks\":\"\"}}}],\"scatter3d\":[{\"type\":\"scatter3d\",\"line\":{\"colorbar\":{\"outlinewidth\":0,\"ticks\":\"\"}},\"marker\":{\"colorbar\":{\"outlinewidth\":0,\"ticks\":\"\"}}}],\"scattermapbox\":[{\"type\":\"scattermapbox\",\"marker\":{\"colorbar\":{\"outlinewidth\":0,\"ticks\":\"\"}}}],\"scatterternary\":[{\"type\":\"scatterternary\",\"marker\":{\"colorbar\":{\"outlinewidth\":0,\"ticks\":\"\"}}}],\"scattercarpet\":[{\"type\":\"scattercarpet\",\"marker\":{\"colorbar\":{\"outlinewidth\":0,\"ticks\":\"\"}}}],\"carpet\":[{\"aaxis\":{\"endlinecolor\":\"#2a3f5f\",\"gridcolor\":\"white\",\"linecolor\":\"white\",\"minorgridcolor\":\"white\",\"startlinecolor\":\"#2a3f5f\"},\"baxis\":{\"endlinecolor\":\"#2a3f5f\",\"gridcolor\":\"white\",\"linecolor\":\"white\",\"minorgridcolor\":\"white\",\"startlinecolor\":\"#2a3f5f\"},\"type\":\"carpet\"}],\"table\":[{\"cells\":{\"fill\":{\"color\":\"#EBF0F8\"},\"line\":{\"color\":\"white\"}},\"header\":{\"fill\":{\"color\":\"#C8D4E3\"},\"line\":{\"color\":\"white\"}},\"type\":\"table\"}],\"barpolar\":[{\"marker\":{\"line\":{\"color\":\"#E5ECF6\",\"width\":0.5},\"pattern\":{\"fillmode\":\"overlay\",\"size\":10,\"solidity\":0.2}},\"type\":\"barpolar\"}],\"pie\":[{\"automargin\":true,\"type\":\"pie\"}]},\"layout\":{\"autotypenumbers\":\"strict\",\"colorway\":[\"#636efa\",\"#EF553B\",\"#00cc96\",\"#ab63fa\",\"#FFA15A\",\"#19d3f3\",\"#FF6692\",\"#B6E880\",\"#FF97FF\",\"#FECB52\"],\"font\":{\"color\":\"#2a3f5f\"},\"hovermode\":\"closest\",\"hoverlabel\":{\"align\":\"left\"},\"paper_bgcolor\":\"white\",\"plot_bgcolor\":\"#E5ECF6\",\"polar\":{\"bgcolor\":\"#E5ECF6\",\"angularaxis\":{\"gridcolor\":\"white\",\"linecolor\":\"white\",\"ticks\":\"\"},\"radialaxis\":{\"gridcolor\":\"white\",\"linecolor\":\"white\",\"ticks\":\"\"}},\"ternary\":{\"bgcolor\":\"#E5ECF6\",\"aaxis\":{\"gridcolor\":\"white\",\"linecolor\":\"white\",\"ticks\":\"\"},\"baxis\":{\"gridcolor\":\"white\",\"linecolor\":\"white\",\"ticks\":\"\"},\"caxis\":{\"gridcolor\":\"white\",\"linecolor\":\"white\",\"ticks\":\"\"}},\"coloraxis\":{\"colorbar\":{\"outlinewidth\":0,\"ticks\":\"\"}},\"colorscale\":{\"sequential\":[[0.0,\"#0d0887\"],[0.1111111111111111,\"#46039f\"],[0.2222222222222222,\"#7201a8\"],[0.3333333333333333,\"#9c179e\"],[0.4444444444444444,\"#bd3786\"],[0.5555555555555556,\"#d8576b\"],[0.6666666666666666,\"#ed7953\"],[0.7777777777777778,\"#fb9f3a\"],[0.8888888888888888,\"#fdca26\"],[1.0,\"#f0f921\"]],\"sequentialminus\":[[0.0,\"#0d0887\"],[0.1111111111111111,\"#46039f\"],[0.2222222222222222,\"#7201a8\"],[0.3333333333333333,\"#9c179e\"],[0.4444444444444444,\"#bd3786\"],[0.5555555555555556,\"#d8576b\"],[0.6666666666666666,\"#ed7953\"],[0.7777777777777778,\"#fb9f3a\"],[0.8888888888888888,\"#fdca26\"],[1.0,\"#f0f921\"]],\"diverging\":[[0,\"#8e0152\"],[0.1,\"#c51b7d\"],[0.2,\"#de77ae\"],[0.3,\"#f1b6da\"],[0.4,\"#fde0ef\"],[0.5,\"#f7f7f7\"],[0.6,\"#e6f5d0\"],[0.7,\"#b8e186\"],[0.8,\"#7fbc41\"],[0.9,\"#4d9221\"],[1,\"#276419\"]]},\"xaxis\":{\"gridcolor\":\"white\",\"linecolor\":\"white\",\"ticks\":\"\",\"title\":{\"standoff\":15},\"zerolinecolor\":\"white\",\"automargin\":true,\"zerolinewidth\":2},\"yaxis\":{\"gridcolor\":\"white\",\"linecolor\":\"white\",\"ticks\":\"\",\"title\":{\"standoff\":15},\"zerolinecolor\":\"white\",\"automargin\":true,\"zerolinewidth\":2},\"scene\":{\"xaxis\":{\"backgroundcolor\":\"#E5ECF6\",\"gridcolor\":\"white\",\"linecolor\":\"white\",\"showbackground\":true,\"ticks\":\"\",\"zerolinecolor\":\"white\",\"gridwidth\":2},\"yaxis\":{\"backgroundcolor\":\"#E5ECF6\",\"gridcolor\":\"white\",\"linecolor\":\"white\",\"showbackground\":true,\"ticks\":\"\",\"zerolinecolor\":\"white\",\"gridwidth\":2},\"zaxis\":{\"backgroundcolor\":\"#E5ECF6\",\"gridcolor\":\"white\",\"linecolor\":\"white\",\"showbackground\":true,\"ticks\":\"\",\"zerolinecolor\":\"white\",\"gridwidth\":2}},\"shapedefaults\":{\"line\":{\"color\":\"#2a3f5f\"}},\"annotationdefaults\":{\"arrowcolor\":\"#2a3f5f\",\"arrowhead\":0,\"arrowwidth\":1},\"geo\":{\"bgcolor\":\"white\",\"landcolor\":\"#E5ECF6\",\"subunitcolor\":\"white\",\"showland\":true,\"showlakes\":true,\"lakecolor\":\"white\"},\"title\":{\"x\":0.05},\"mapbox\":{\"style\":\"light\"}}},\"xaxis\":{\"anchor\":\"y\",\"domain\":[0.0,1.0],\"title\":{\"text\":\"x\"}},\"yaxis\":{\"anchor\":\"x\",\"domain\":[0.0,1.0],\"title\":{\"text\":\"y\"}},\"legend\":{\"tracegroupgap\":0},\"margin\":{\"t\":60}},                        {\"responsive\": true}                    ).then(function(){\n",
              "                            \n",
              "var gd = document.getElementById('8a8f27b7-5444-4466-8a93-1a447b8bbc96');\n",
              "var x = new MutationObserver(function (mutations, observer) {{\n",
              "        var display = window.getComputedStyle(gd).display;\n",
              "        if (!display || display === 'none') {{\n",
              "            console.log([gd, 'removed!']);\n",
              "            Plotly.purge(gd);\n",
              "            observer.disconnect();\n",
              "        }}\n",
              "}});\n",
              "\n",
              "// Listen for the removal of the full notebook cells\n",
              "var notebookContainer = gd.closest('#notebook-container');\n",
              "if (notebookContainer) {{\n",
              "    x.observe(notebookContainer, {childList: true});\n",
              "}}\n",
              "\n",
              "// Listen for the clearing of the current output cell\n",
              "var outputEl = gd.closest('.output');\n",
              "if (outputEl) {{\n",
              "    x.observe(outputEl, {childList: true});\n",
              "}}\n",
              "\n",
              "                        })                };                            </script>        </div>\n",
              "</body>\n",
              "</html>"
            ]
          },
          "metadata": {}
        }
      ],
      "source": [
        "# Graficar los embedddings en 2D\n",
        "import plotly.graph_objects as go\n",
        "import plotly.express as px\n",
        "\n",
        "x_vals, y_vals, labels = reduce_dimensions(w2v_model)\n",
        "\n",
        "MAX_WORDS=200\n",
        "fig = px.scatter(x=x_vals[:MAX_WORDS], y=y_vals[:MAX_WORDS], text=labels[:MAX_WORDS])\n",
        "fig.show(renderer=\"colab\") # esto para plotly en colab"
      ]
    },
    {
      "cell_type": "markdown",
      "metadata": {
        "id": "yMM_SHSaZ9N-"
      },
      "source": [
        "### Conclusiones\n",
        "\n",
        "Del gráfico anterior de embeddings es muy interesante notar las diferentes agrupaciones.\n",
        "\n",
        "* Wheat y yeast están muy cercanas (rango en Y (-60,-40) y rango en X (20,40)). Tanto el trigo y la levadura van de la mano para diferentes panificados.\n",
        "\n",
        "* Muy cerca de cheese, punto (26,33), se encuentran los términos relacionados parmesan (tipo de queso), mozzarella (tipo de queso), grated (gratinado) y bread (pan).\n",
        "\n",
        "* A la derecha y arriba del gráfico se agrupan términos relativos a comidas usadas en desayuno o dulces (avena, chocolate, frutas varias, jugos, toppings, etc)\n",
        "\n",
        "* Previo a realizar a crear una representación en embeddings, notamos la importancia del pre-procesamiento del dataset. Pues se repiten varios términos similares pero con errores de tipeo que podrían quedar en uno solo, como observamos en el caso del tomate y el queso."
      ]
    }
  ],
  "metadata": {
    "colab": {
      "provenance": [],
      "include_colab_link": true
    },
    "kernelspec": {
      "display_name": "Python 3",
      "name": "python3"
    },
    "language_info": {
      "codemirror_mode": {
        "name": "ipython",
        "version": 3
      },
      "file_extension": ".py",
      "mimetype": "text/x-python",
      "name": "python",
      "nbconvert_exporter": "python",
      "pygments_lexer": "ipython3",
      "version": "3.10.6"
    }
  },
  "nbformat": 4,
  "nbformat_minor": 0
}